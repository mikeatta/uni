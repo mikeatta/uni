{
 "cells": [
  {
   "cell_type": "markdown",
   "id": "d5e553eb-5207-4bf2-b093-0c67cfcecf0a",
   "metadata": {},
   "source": [
    "## Lab 04 | Drzewa Decyzyjne - \"Regresja przy użyciu drzew decyzyjnych, porównanie z regresją liniową\""
   ]
  },
  {
   "cell_type": "code",
   "execution_count": 1,
   "id": "6fd26b78-8df6-43c5-ae41-0c521b6fc723",
   "metadata": {},
   "outputs": [],
   "source": [
    "# Imports\n",
    "\n",
    "import pandas as pd\n",
    "from sklearn.datasets import fetch_california_housing\n",
    "from sklearn.model_selection import train_test_split, GridSearchCV\n",
    "from sklearn.metrics import mean_squared_error, mean_absolute_error, r2_score\n",
    "from sklearn.tree import DecisionTreeRegressor\n",
    "from sklearn.linear_model import LinearRegression"
   ]
  },
  {
   "cell_type": "code",
   "execution_count": 2,
   "id": "16552888-9006-439d-bec8-0aaa3ae27544",
   "metadata": {},
   "outputs": [
    {
     "data": {
      "text/plain": [
       "((20640, 8), (44, 5))"
      ]
     },
     "execution_count": 2,
     "metadata": {},
     "output_type": "execute_result"
    }
   ],
   "source": [
    "# Load the datasets\n",
    "\n",
    "df_sklearn = fetch_california_housing(data_home=\"data/\", download_if_missing=True, as_frame=True)\n",
    "df_gemini = pd.read_csv(\"data/sample_data.csv\")\n",
    "\n",
    "df_sklearn.data.shape, df_gemini.shape"
   ]
  },
  {
   "cell_type": "code",
   "execution_count": 3,
   "id": "b9c62639-8274-4284-8eba-9149d041a530",
   "metadata": {},
   "outputs": [
    {
     "data": {
      "text/plain": [
       "(   MedInc  HouseAge  AveRooms  AveBedrms  Population  AveOccup  Latitude  \\\n",
       " 0  8.3252      41.0  6.984127   1.023810       322.0  2.555556     37.88   \n",
       " 1  8.3014      21.0  6.238137   0.971880      2401.0  2.109842     37.86   \n",
       " 2  7.2574      52.0  8.288136   1.073446       496.0  2.802260     37.85   \n",
       " 3  5.6431      52.0  5.817352   1.073059       558.0  2.547945     37.85   \n",
       " 4  3.8462      52.0  6.281853   1.081081       565.0  2.181467     37.85   \n",
       " \n",
       "    Longitude  \n",
       " 0    -122.23  \n",
       " 1    -122.22  \n",
       " 2    -122.24  \n",
       " 3    -122.25  \n",
       " 4    -122.25  ,\n",
       "    HourOfDay     CloudCover  Temperature_C Month  EnergyOutput_kWh\n",
       " 0          6          Clear             15  June               5.2\n",
       " 1          7          Clear             16  June              15.8\n",
       " 2          8          Clear             18  June              28.1\n",
       " 3          9  Partly Cloudy             20  June              35.5\n",
       " 4         10  Partly Cloudy             22  June              40.2)"
      ]
     },
     "execution_count": 3,
     "metadata": {},
     "output_type": "execute_result"
    }
   ],
   "source": [
    "df_sklearn.data.head(), df_gemini.head()"
   ]
  },
  {
   "cell_type": "code",
   "execution_count": 4,
   "id": "9b036f3b-ab46-42c3-931b-73ef0be46bbd",
   "metadata": {},
   "outputs": [
    {
     "data": {
      "text/plain": [
       "Index(['MedInc', 'HouseAge', 'AveRooms', 'AveBedrms', 'Population', 'AveOccup',\n",
       "       'Latitude', 'Longitude'],\n",
       "      dtype='object')"
      ]
     },
     "execution_count": 4,
     "metadata": {},
     "output_type": "execute_result"
    }
   ],
   "source": [
    "df_sklearn.data.columns"
   ]
  },
  {
   "cell_type": "code",
   "execution_count": 5,
   "id": "a70514ad-8832-49ac-b8e1-0de221db45f2",
   "metadata": {},
   "outputs": [
    {
     "data": {
      "text/plain": [
       "'.. _california_housing_dataset:\\n\\nCalifornia Housing dataset\\n--------------------------\\n\\n**Data Set Characteristics:**\\n\\n:Number of Instances: 20640\\n\\n:Number of Attributes: 8 numeric, predictive attributes and the target\\n\\n:Attribute Information:\\n    - MedInc        median income in block group\\n    - HouseAge      median house age in block group\\n    - AveRooms      average number of rooms per household\\n    - AveBedrms     average number of bedrooms per household\\n    - Population    block group population\\n    - AveOccup      average number of household members\\n    - Latitude      block group latitude\\n    - Longitude     block group longitude\\n\\n:Missing Attribute Values: None\\n\\nThis dataset was obtained from the StatLib repository.\\nhttps://www.dcc.fc.up.pt/~ltorgo/Regression/cal_housing.html\\n\\nThe target variable is the median house value for California districts,\\nexpressed in hundreds of thousands of dollars ($100,000).\\n\\nThis dataset was derived from the 1990 U.S. census, using one row per census\\nblock group. A block group is the smallest geographical unit for which the U.S.\\nCensus Bureau publishes sample data (a block group typically has a population\\nof 600 to 3,000 people).\\n\\nA household is a group of people residing within a home. Since the average\\nnumber of rooms and bedrooms in this dataset are provided per household, these\\ncolumns may take surprisingly large values for block groups with few households\\nand many empty houses, such as vacation resorts.\\n\\nIt can be downloaded/loaded using the\\n:func:`sklearn.datasets.fetch_california_housing` function.\\n\\n.. rubric:: References\\n\\n- Pace, R. Kelley and Ronald Barry, Sparse Spatial Autoregressions,\\n  Statistics and Probability Letters, 33 (1997) 291-297\\n'"
      ]
     },
     "execution_count": 5,
     "metadata": {},
     "output_type": "execute_result"
    }
   ],
   "source": [
    "df_sklearn.DESCR"
   ]
  },
  {
   "cell_type": "code",
   "execution_count": 6,
   "id": "5e02ddb0-99f8-44c6-bd59-5fb895d99e7c",
   "metadata": {},
   "outputs": [
    {
     "data": {
      "text/plain": [
       "0        4.526\n",
       "1        3.585\n",
       "2        3.521\n",
       "3        3.413\n",
       "4        3.422\n",
       "         ...  \n",
       "20635    0.781\n",
       "20636    0.771\n",
       "20637    0.923\n",
       "20638    0.847\n",
       "20639    0.894\n",
       "Name: MedHouseVal, Length: 20640, dtype: float64"
      ]
     },
     "execution_count": 6,
     "metadata": {},
     "output_type": "execute_result"
    }
   ],
   "source": [
    "df_sklearn.target"
   ]
  },
  {
   "cell_type": "code",
   "execution_count": 7,
   "id": "dbb84b91-084f-4700-b49e-8c02f9f077f6",
   "metadata": {},
   "outputs": [
    {
     "data": {
      "text/plain": [
       "count    20640.000000\n",
       "mean         2.068558\n",
       "std          1.153956\n",
       "min          0.149990\n",
       "25%          1.196000\n",
       "50%          1.797000\n",
       "75%          2.647250\n",
       "max          5.000010\n",
       "Name: MedHouseVal, dtype: float64"
      ]
     },
     "execution_count": 7,
     "metadata": {},
     "output_type": "execute_result"
    }
   ],
   "source": [
    "df_sklearn.target.describe()"
   ]
  },
  {
   "cell_type": "markdown",
   "id": "5d0cbc7b-0c66-4224-bb00-72ebf7c22e42",
   "metadata": {},
   "source": [
    "### Dataset EDA"
   ]
  },
  {
   "cell_type": "code",
   "execution_count": 8,
   "id": "55b17151-edba-4342-9973-2fdc5fd21bab",
   "metadata": {},
   "outputs": [
    {
     "name": "stdout",
     "output_type": "stream",
     "text": [
      "California Housing shape: (20640, 8)\n",
      "California Housing isNa:\n",
      "MedInc        0\n",
      "HouseAge      0\n",
      "AveRooms      0\n",
      "AveBedrms     0\n",
      "Population    0\n",
      "AveOccup      0\n",
      "Latitude      0\n",
      "Longitude     0\n",
      "dtype: int64\n",
      "California Housing isNull:\n",
      "MedInc        0\n",
      "HouseAge      0\n",
      "AveRooms      0\n",
      "AveBedrms     0\n",
      "Population    0\n",
      "AveOccup      0\n",
      "Latitude      0\n",
      "Longitude     0\n",
      "dtype: int64\n",
      "California Housing types:\n",
      "MedInc        float64\n",
      "HouseAge      float64\n",
      "AveRooms      float64\n",
      "AveBedrms     float64\n",
      "Population    float64\n",
      "AveOccup      float64\n",
      "Latitude      float64\n",
      "Longitude     float64\n",
      "dtype: object\n",
      "<class 'pandas.core.frame.DataFrame'>\n",
      "RangeIndex: 20640 entries, 0 to 20639\n",
      "Data columns (total 8 columns):\n",
      " #   Column      Non-Null Count  Dtype  \n",
      "---  ------      --------------  -----  \n",
      " 0   MedInc      20640 non-null  float64\n",
      " 1   HouseAge    20640 non-null  float64\n",
      " 2   AveRooms    20640 non-null  float64\n",
      " 3   AveBedrms   20640 non-null  float64\n",
      " 4   Population  20640 non-null  float64\n",
      " 5   AveOccup    20640 non-null  float64\n",
      " 6   Latitude    20640 non-null  float64\n",
      " 7   Longitude   20640 non-null  float64\n",
      "dtypes: float64(8)\n",
      "memory usage: 1.3 MB\n",
      "California Housing info:\n",
      "None\n",
      "California Housing numerical values distribution:\n",
      "             MedInc      HouseAge      AveRooms     AveBedrms    Population  \\\n",
      "count  20640.000000  20640.000000  20640.000000  20640.000000  20640.000000   \n",
      "mean       3.870671     28.639486      5.429000      1.096675   1425.476744   \n",
      "std        1.899822     12.585558      2.474173      0.473911   1132.462122   \n",
      "min        0.499900      1.000000      0.846154      0.333333      3.000000   \n",
      "25%        2.563400     18.000000      4.440716      1.006079    787.000000   \n",
      "50%        3.534800     29.000000      5.229129      1.048780   1166.000000   \n",
      "75%        4.743250     37.000000      6.052381      1.099526   1725.000000   \n",
      "max       15.000100     52.000000    141.909091     34.066667  35682.000000   \n",
      "\n",
      "           AveOccup      Latitude     Longitude  \n",
      "count  20640.000000  20640.000000  20640.000000  \n",
      "mean       3.070655     35.631861   -119.569704  \n",
      "std       10.386050      2.135952      2.003532  \n",
      "min        0.692308     32.540000   -124.350000  \n",
      "25%        2.429741     33.930000   -121.800000  \n",
      "50%        2.818116     34.260000   -118.490000  \n",
      "75%        3.282261     37.710000   -118.010000  \n",
      "max     1243.333333     41.950000   -114.310000  \n"
     ]
    }
   ],
   "source": [
    "# EDA of the California Housing set\n",
    "\n",
    "print(f\"California Housing shape: {df_sklearn.data.shape}\")\n",
    "print(f\"California Housing isNa:\\n{df_sklearn.data.isna().sum()}\")\n",
    "print(f\"California Housing isNull:\\n{df_sklearn.data.isnull().sum()}\")\n",
    "print(f\"California Housing types:\\n{df_sklearn.data.dtypes}\")\n",
    "print(f\"California Housing info:\\n{df_sklearn.data.info()}\")\n",
    "print(f\"California Housing numerical values distribution:\\n{df_sklearn.data.describe()}\")"
   ]
  },
  {
   "cell_type": "code",
   "execution_count": 9,
   "id": "941162ac-6db5-46d6-9009-cf67ca38f743",
   "metadata": {},
   "outputs": [
    {
     "data": {
      "text/plain": [
       "<Axes: >"
      ]
     },
     "execution_count": 9,
     "metadata": {},
     "output_type": "execute_result"
    },
    {
     "data": {
      "image/png": "[encoded data removed]",
      "text/plain": [
       "<Figure size 640x480 with 1 Axes>"
      ]
     },
     "metadata": {},
     "output_type": "display_data"
    }
   ],
   "source": [
    "sklearn_target_hist = df_sklearn.target.hist()\n",
    "sklearn_target_hist"
   ]
  },
  {
   "cell_type": "code",
   "execution_count": 10,
   "id": "4550648b-20b8-41d6-ac89-033ab41e7fa6",
   "metadata": {},
   "outputs": [
    {
     "name": "stdout",
     "output_type": "stream",
     "text": [
      "Gemini gen. shape: (44, 5)\n",
      "Gemini gen. isNa:\n",
      "HourOfDay           0\n",
      "CloudCover          0\n",
      "Temperature_C       0\n",
      "Month               0\n",
      "EnergyOutput_kWh    0\n",
      "dtype: int64\n",
      "Gemini gen. isNull:\n",
      "HourOfDay           0\n",
      "CloudCover          0\n",
      "Temperature_C       0\n",
      "Month               0\n",
      "EnergyOutput_kWh    0\n",
      "dtype: int64\n",
      "Gemini gen. types:\n",
      "HourOfDay             int64\n",
      "CloudCover           object\n",
      "Temperature_C         int64\n",
      "Month                object\n",
      "EnergyOutput_kWh    float64\n",
      "dtype: object\n",
      "Gemini gen. numerical values distribution:\n",
      "       HourOfDay  Temperature_C  EnergyOutput_kWh\n",
      "count  44.000000      44.000000         44.000000\n",
      "mean   12.454545      22.409091         38.102273\n",
      "std     3.316306       3.384769         21.149407\n",
      "min     6.000000      15.000000          5.200000\n",
      "25%    10.000000      20.000000         18.800000\n",
      "50%    12.500000      22.000000         37.950000\n",
      "75%    15.000000      25.000000         55.375000\n",
      "max    18.000000      28.000000         75.500000\n"
     ]
    }
   ],
   "source": [
    "# EDA of the Gemini-generated set\n",
    "\n",
    "print(f\"Gemini gen. shape: {df_gemini.shape}\")\n",
    "print(f\"Gemini gen. isNa:\\n{df_gemini.isna().sum()}\")\n",
    "print(f\"Gemini gen. isNull:\\n{df_gemini.isnull().sum()}\")\n",
    "print(f\"Gemini gen. types:\\n{df_gemini.dtypes}\")\n",
    "print(f\"Gemini gen. numerical values distribution:\\n{df_gemini.describe()}\")"
   ]
  },
  {
   "cell_type": "markdown",
   "id": "9a0b69a3-7c03-42c4-b3c6-9e0d2abf85b9",
   "metadata": {},
   "source": [
    "![Gemini Dataset Description](imgs/gemini_dataset_description.png)"
   ]
  },
  {
   "cell_type": "code",
   "execution_count": 11,
   "id": "daa837c0-2a77-42e8-a15b-2c6696e4e571",
   "metadata": {},
   "outputs": [
    {
     "data": {
      "text/plain": [
       "<Axes: >"
      ]
     },
     "execution_count": 11,
     "metadata": {},
     "output_type": "execute_result"
    },
    {
     "data": {
      "image/png": "[encoded data removed]",
      "text/plain": [
       "<Figure size 640x480 with 1 Axes>"
      ]
     },
     "metadata": {},
     "output_type": "display_data"
    }
   ],
   "source": [
    "gemini_target_hist = df_gemini[\"EnergyOutput_kWh\"].hist()\n",
    "gemini_target_hist"
   ]
  },
  {
   "cell_type": "markdown",
   "id": "e7ebd419-23fb-4ca5-926c-dd9d0be56b5f",
   "metadata": {},
   "source": [
    "### Data processing"
   ]
  },
  {
   "cell_type": "code",
   "execution_count": 12,
   "id": "6bda2f3b-1270-41d0-b26d-631105130a0b",
   "metadata": {},
   "outputs": [
    {
     "data": {
      "text/html": [
       "<div>\n",
       "<style scoped>\n",
       "    .dataframe tbody tr th:only-of-type {\n",
       "        vertical-align: middle;\n",
       "    }\n",
       "\n",
       "    .dataframe tbody tr th {\n",
       "        vertical-align: top;\n",
       "    }\n",
       "\n",
       "    .dataframe thead th {\n",
       "        text-align: right;\n",
       "    }\n",
       "</style>\n",
       "<table border=\"1\" class=\"dataframe\">\n",
       "  <thead>\n",
       "    <tr style=\"text-align: right;\">\n",
       "      <th></th>\n",
       "      <th>HourOfDay</th>\n",
       "      <th>Temperature_C</th>\n",
       "      <th>EnergyOutput_kWh</th>\n",
       "      <th>CloudCover_Clear</th>\n",
       "      <th>CloudCover_Overcast</th>\n",
       "      <th>CloudCover_Partly Cloudy</th>\n",
       "      <th>Month_August</th>\n",
       "      <th>Month_July</th>\n",
       "      <th>Month_June</th>\n",
       "      <th>Month_September</th>\n",
       "    </tr>\n",
       "  </thead>\n",
       "  <tbody>\n",
       "    <tr>\n",
       "      <th>0</th>\n",
       "      <td>6</td>\n",
       "      <td>15</td>\n",
       "      <td>5.2</td>\n",
       "      <td>True</td>\n",
       "      <td>False</td>\n",
       "      <td>False</td>\n",
       "      <td>False</td>\n",
       "      <td>False</td>\n",
       "      <td>True</td>\n",
       "      <td>False</td>\n",
       "    </tr>\n",
       "    <tr>\n",
       "      <th>1</th>\n",
       "      <td>7</td>\n",
       "      <td>16</td>\n",
       "      <td>15.8</td>\n",
       "      <td>True</td>\n",
       "      <td>False</td>\n",
       "      <td>False</td>\n",
       "      <td>False</td>\n",
       "      <td>False</td>\n",
       "      <td>True</td>\n",
       "      <td>False</td>\n",
       "    </tr>\n",
       "    <tr>\n",
       "      <th>2</th>\n",
       "      <td>8</td>\n",
       "      <td>18</td>\n",
       "      <td>28.1</td>\n",
       "      <td>True</td>\n",
       "      <td>False</td>\n",
       "      <td>False</td>\n",
       "      <td>False</td>\n",
       "      <td>False</td>\n",
       "      <td>True</td>\n",
       "      <td>False</td>\n",
       "    </tr>\n",
       "    <tr>\n",
       "      <th>3</th>\n",
       "      <td>9</td>\n",
       "      <td>20</td>\n",
       "      <td>35.5</td>\n",
       "      <td>False</td>\n",
       "      <td>False</td>\n",
       "      <td>True</td>\n",
       "      <td>False</td>\n",
       "      <td>False</td>\n",
       "      <td>True</td>\n",
       "      <td>False</td>\n",
       "    </tr>\n",
       "    <tr>\n",
       "      <th>4</th>\n",
       "      <td>10</td>\n",
       "      <td>22</td>\n",
       "      <td>40.2</td>\n",
       "      <td>False</td>\n",
       "      <td>False</td>\n",
       "      <td>True</td>\n",
       "      <td>False</td>\n",
       "      <td>False</td>\n",
       "      <td>True</td>\n",
       "      <td>False</td>\n",
       "    </tr>\n",
       "  </tbody>\n",
       "</table>\n",
       "</div>"
      ],
      "text/plain": [
       "   HourOfDay  Temperature_C  EnergyOutput_kWh  CloudCover_Clear  \\\n",
       "0          6             15               5.2              True   \n",
       "1          7             16              15.8              True   \n",
       "2          8             18              28.1              True   \n",
       "3          9             20              35.5             False   \n",
       "4         10             22              40.2             False   \n",
       "\n",
       "   CloudCover_Overcast  CloudCover_Partly Cloudy  Month_August  Month_July  \\\n",
       "0                False                     False         False       False   \n",
       "1                False                     False         False       False   \n",
       "2                False                     False         False       False   \n",
       "3                False                      True         False       False   \n",
       "4                False                      True         False       False   \n",
       "\n",
       "   Month_June  Month_September  \n",
       "0        True            False  \n",
       "1        True            False  \n",
       "2        True            False  \n",
       "3        True            False  \n",
       "4        True            False  "
      ]
     },
     "execution_count": 12,
     "metadata": {},
     "output_type": "execute_result"
    }
   ],
   "source": [
    "# One-hot encode the non-numerical values in the Gemini generated set\n",
    "\n",
    "categorical_columns = [\"CloudCover\", \"Month\"]\n",
    "df_gemini = pd.get_dummies(df_gemini, categorical_columns, drop_first=False)\n",
    "df_gemini.head()"
   ]
  },
  {
   "cell_type": "code",
   "execution_count": 13,
   "id": "ca3b9ca1-be50-41c3-aa46-a0b9dbf9aaab",
   "metadata": {},
   "outputs": [
    {
     "data": {
      "text/html": [
       "<div>\n",
       "<style scoped>\n",
       "    .dataframe tbody tr th:only-of-type {\n",
       "        vertical-align: middle;\n",
       "    }\n",
       "\n",
       "    .dataframe tbody tr th {\n",
       "        vertical-align: top;\n",
       "    }\n",
       "\n",
       "    .dataframe thead th {\n",
       "        text-align: right;\n",
       "    }\n",
       "</style>\n",
       "<table border=\"1\" class=\"dataframe\">\n",
       "  <thead>\n",
       "    <tr style=\"text-align: right;\">\n",
       "      <th></th>\n",
       "      <th>HourOfDay</th>\n",
       "      <th>Temperature_C</th>\n",
       "      <th>CloudCover_Clear</th>\n",
       "      <th>CloudCover_Overcast</th>\n",
       "      <th>CloudCover_Partly Cloudy</th>\n",
       "      <th>Month_June</th>\n",
       "      <th>Month_July</th>\n",
       "      <th>Month_August</th>\n",
       "      <th>Month_September</th>\n",
       "      <th>EnergyOutput_kWh</th>\n",
       "    </tr>\n",
       "  </thead>\n",
       "  <tbody>\n",
       "    <tr>\n",
       "      <th>0</th>\n",
       "      <td>6</td>\n",
       "      <td>15</td>\n",
       "      <td>True</td>\n",
       "      <td>False</td>\n",
       "      <td>False</td>\n",
       "      <td>True</td>\n",
       "      <td>False</td>\n",
       "      <td>False</td>\n",
       "      <td>False</td>\n",
       "      <td>5.2</td>\n",
       "    </tr>\n",
       "    <tr>\n",
       "      <th>1</th>\n",
       "      <td>7</td>\n",
       "      <td>16</td>\n",
       "      <td>True</td>\n",
       "      <td>False</td>\n",
       "      <td>False</td>\n",
       "      <td>True</td>\n",
       "      <td>False</td>\n",
       "      <td>False</td>\n",
       "      <td>False</td>\n",
       "      <td>15.8</td>\n",
       "    </tr>\n",
       "    <tr>\n",
       "      <th>2</th>\n",
       "      <td>8</td>\n",
       "      <td>18</td>\n",
       "      <td>True</td>\n",
       "      <td>False</td>\n",
       "      <td>False</td>\n",
       "      <td>True</td>\n",
       "      <td>False</td>\n",
       "      <td>False</td>\n",
       "      <td>False</td>\n",
       "      <td>28.1</td>\n",
       "    </tr>\n",
       "    <tr>\n",
       "      <th>3</th>\n",
       "      <td>9</td>\n",
       "      <td>20</td>\n",
       "      <td>False</td>\n",
       "      <td>False</td>\n",
       "      <td>True</td>\n",
       "      <td>True</td>\n",
       "      <td>False</td>\n",
       "      <td>False</td>\n",
       "      <td>False</td>\n",
       "      <td>35.5</td>\n",
       "    </tr>\n",
       "    <tr>\n",
       "      <th>4</th>\n",
       "      <td>10</td>\n",
       "      <td>22</td>\n",
       "      <td>False</td>\n",
       "      <td>False</td>\n",
       "      <td>True</td>\n",
       "      <td>True</td>\n",
       "      <td>False</td>\n",
       "      <td>False</td>\n",
       "      <td>False</td>\n",
       "      <td>40.2</td>\n",
       "    </tr>\n",
       "  </tbody>\n",
       "</table>\n",
       "</div>"
      ],
      "text/plain": [
       "   HourOfDay  Temperature_C  CloudCover_Clear  CloudCover_Overcast  \\\n",
       "0          6             15              True                False   \n",
       "1          7             16              True                False   \n",
       "2          8             18              True                False   \n",
       "3          9             20             False                False   \n",
       "4         10             22             False                False   \n",
       "\n",
       "   CloudCover_Partly Cloudy  Month_June  Month_July  Month_August  \\\n",
       "0                     False        True       False         False   \n",
       "1                     False        True       False         False   \n",
       "2                     False        True       False         False   \n",
       "3                      True        True       False         False   \n",
       "4                      True        True       False         False   \n",
       "\n",
       "   Month_September  EnergyOutput_kWh  \n",
       "0            False               5.2  \n",
       "1            False              15.8  \n",
       "2            False              28.1  \n",
       "3            False              35.5  \n",
       "4            False              40.2  "
      ]
     },
     "execution_count": 13,
     "metadata": {},
     "output_type": "execute_result"
    }
   ],
   "source": [
    "# Reorder the columns\n",
    "\n",
    "df_gemini = df_gemini[[\"HourOfDay\", \"Temperature_C\", \"CloudCover_Clear\",\n",
    "                       \"CloudCover_Overcast\", \"CloudCover_Partly Cloudy\", \"Month_June\",\n",
    "                       \"Month_July\", \"Month_August\", \"Month_September\", \"EnergyOutput_kWh\"]]\n",
    "df_gemini.head()"
   ]
  },
  {
   "cell_type": "code",
   "execution_count": 14,
   "id": "0c96a412-3af6-4df2-8bfe-2f95d8dfbffa",
   "metadata": {},
   "outputs": [
    {
     "data": {
      "text/plain": [
       "10"
      ]
     },
     "execution_count": 14,
     "metadata": {},
     "output_type": "execute_result"
    }
   ],
   "source": [
    "len(df_gemini.columns)"
   ]
  },
  {
   "cell_type": "markdown",
   "id": "17a45ac0-b87f-42b2-9a6c-f3e88b9ceb56",
   "metadata": {},
   "source": [
    "### Data splitting"
   ]
  },
  {
   "cell_type": "code",
   "execution_count": 15,
   "id": "2c8a7b3c-e892-4355-bae5-5720c5c39e29",
   "metadata": {},
   "outputs": [],
   "source": [
    "X_sklearn = df_sklearn.data\n",
    "y_sklearn = df_sklearn.target\n",
    "\n",
    "X_gemini = df_gemini.iloc[:, :-1]\n",
    "y_gemini = df_gemini.iloc[:, -1]"
   ]
  },
  {
   "cell_type": "code",
   "execution_count": 16,
   "id": "98359f7a-044a-4666-932c-f8ded7fdf465",
   "metadata": {},
   "outputs": [
    {
     "data": {
      "text/plain": [
       "((16512, 8), (35, 9))"
      ]
     },
     "execution_count": 16,
     "metadata": {},
     "output_type": "execute_result"
    }
   ],
   "source": [
    "X_train_sklearn, X_test_sklearn, y_train_sklearn, y_test_sklearn = train_test_split(X_sklearn, y_sklearn, test_size=0.2, random_state=42)\n",
    "X_train_gemini, X_test_gemini, y_train_gemini, y_test_gemini = train_test_split(X_gemini, y_gemini, test_size=0.2, random_state=42)\n",
    "\n",
    "X_train_sklearn.shape, X_train_gemini.shape"
   ]
  },
  {
   "cell_type": "markdown",
   "id": "acab3913-8911-4eef-bad1-2d47000c2d14",
   "metadata": {},
   "source": [
    "### Training the default Tree model"
   ]
  },
  {
   "cell_type": "code",
   "execution_count": 17,
   "id": "857ff286-e0c1-4734-97e9-b4b74479d84a",
   "metadata": {},
   "outputs": [],
   "source": [
    "default_param_tree = DecisionTreeRegressor() # Initialize with default params"
   ]
  },
  {
   "cell_type": "code",
   "execution_count": 18,
   "id": "25570cd7-cd40-4121-aabc-20914e708134",
   "metadata": {},
   "outputs": [
    {
     "name": "stdout",
     "output_type": "stream",
     "text": [
      "Metrics for the California Housing set:\n",
      "Default tree MSE: 0.48714061277059106\n",
      "Default tree MAE: 0.4525633963178295\n",
      "Default tree R2 Score: 0.6282529951645086\n"
     ]
    }
   ],
   "source": [
    "# Train the model and make predictions (California Housing set)\n",
    "\n",
    "default_param_tree.fit(X_train_sklearn, y_train_sklearn)\n",
    "y_pred_tree_sklearn = default_param_tree.predict(X_test_sklearn)\n",
    "\n",
    "mse_tree_sklearn = mean_squared_error(y_test_sklearn, y_pred_tree_sklearn)\n",
    "mae_tree_sklearn = mean_absolute_error(y_test_sklearn, y_pred_tree_sklearn)\n",
    "r2_tree_sklearn = r2_score(y_test_sklearn, y_pred_tree_sklearn)\n",
    "\n",
    "print(\"Metrics for the California Housing set:\")\n",
    "print(f\"Default tree MSE: {mse_tree_sklearn}\")\n",
    "print(f\"Default tree MAE: {mae_tree_sklearn}\")\n",
    "print(f\"Default tree R2 Score: {r2_tree_sklearn}\")"
   ]
  },
  {
   "cell_type": "code",
   "execution_count": 19,
   "id": "258f6ff3-3426-4f5b-a7d3-f42bb7fd3caa",
   "metadata": {},
   "outputs": [
    {
     "name": "stdout",
     "output_type": "stream",
     "text": [
      "Metrics for the Gemini Generated set:\n",
      "Default tree MSE: 119.37333333333338\n",
      "Default tree MAE: 9.511111111111113\n",
      "Default tree R2 Score: 0.5557926072934753\n"
     ]
    }
   ],
   "source": [
    "# Train the model and make predictions (Gemini generated set)\n",
    "\n",
    "default_param_tree.fit(X_train_gemini, y_train_gemini)\n",
    "y_pred_tree_gemini = default_param_tree.predict(X_test_gemini)\n",
    "\n",
    "mse_tree_gemini = mean_squared_error(y_test_gemini, y_pred_tree_gemini)\n",
    "mae_tree_gemini = mean_absolute_error(y_test_gemini, y_pred_tree_gemini)\n",
    "r2_tree_gemini = r2_score(y_test_gemini, y_pred_tree_gemini)\n",
    "\n",
    "print(\"Metrics for the Gemini Generated set:\")\n",
    "print(f\"Default tree MSE: {mse_tree_gemini}\")\n",
    "print(f\"Default tree MAE: {mae_tree_gemini}\")\n",
    "print(f\"Default tree R2 Score: {r2_tree_gemini}\")"
   ]
  },
  {
   "cell_type": "markdown",
   "id": "5ac2183d-7359-403c-a7db-5ef043af4eb4",
   "metadata": {},
   "source": [
    "#### Obserwacje wyników\n",
    "\n",
    "- Wynik modelu drzewa o domyślnych parametrach wyniósł ok. ~63% dokładności metryki R2,\n",
    "- Błędy MSE oraz MAE wahały się w granicach: ~48% - ~52% (dla MSE) oraz ~42% - ~51% (dla MAE).\n",
    "- Dla zbioru danych, który został wygenerowany przez Gemini, metryki wyglądają gorzej.\n",
    "- R2 Score dla zbioru danych od Gemini wyniósł w najlepszym przypadku ~55%, ale często przyjmował również wartości poniżej 0.\n",
    "- Pozostałe metryki, MSE oraz MAE pokazują znacznie większe wartości błędów, niż w przypadku datasetu California Housing.\n",
    "- Złe wyniki dla zbioru danych Gemini mogą wywodzić się z liniowej zależności pomiędzy kolumną temperatury oraz kolumną wytwarzanej energii. Mogą być także spowodowane \"zakłócaniem\" predykcji przez kolumny zachmurzenia oraz miesiąca, z których model możliwie nie jest w stanie wyciągnąć wniosków przy małej ilości danych w zbiorze."
   ]
  },
  {
   "cell_type": "markdown",
   "id": "55a2b6fd-daea-4bd7-b756-ebfece6c9105",
   "metadata": {},
   "source": [
    "### Training the Linear model"
   ]
  },
  {
   "cell_type": "code",
   "execution_count": 20,
   "id": "8f09fbf9-3ab9-4226-9e80-b154d95df6e5",
   "metadata": {},
   "outputs": [],
   "source": [
    "default_param_linear = LinearRegression()"
   ]
  },
  {
   "cell_type": "code",
   "execution_count": 21,
   "id": "dab29192-5a8f-4dac-9165-6c465985a16a",
   "metadata": {},
   "outputs": [
    {
     "name": "stdout",
     "output_type": "stream",
     "text": [
      "Metrics for the California Housing set:\n",
      "Default linear MSE: 0.5558915986952444\n",
      "Default linear MAE: 0.5332001304956553\n",
      "Default linear R2 Score: 0.5757877060324508\n"
     ]
    }
   ],
   "source": [
    "# Train the model and make predictions (California Housing set)\n",
    "\n",
    "default_param_linear.fit(X_train_sklearn, y_train_sklearn)\n",
    "y_pred_linear_sklearn = default_param_linear.predict(X_test_sklearn)\n",
    "\n",
    "mse_linear_sklearn = mean_squared_error(y_test_sklearn, y_pred_linear_sklearn)\n",
    "mae_linear_sklearn = mean_absolute_error(y_test_sklearn, y_pred_linear_sklearn)\n",
    "r2_linear_sklearn = r2_score(y_test_sklearn, y_pred_linear_sklearn)\n",
    "\n",
    "print(\"Metrics for the California Housing set:\")\n",
    "print(f\"Default linear MSE: {mse_linear_sklearn}\")\n",
    "print(f\"Default linear MAE: {mae_linear_sklearn}\")\n",
    "print(f\"Default linear R2 Score: {r2_linear_sklearn}\")"
   ]
  },
  {
   "cell_type": "code",
   "execution_count": 22,
   "id": "e8dd671e-187a-49fd-9400-88d5cbd22b10",
   "metadata": {},
   "outputs": [
    {
     "name": "stdout",
     "output_type": "stream",
     "text": [
      "Metrics for the Gemini Generated set:\n",
      "Default linear MSE: 16.000899441223932\n",
      "Default linear MAE: 2.9569732718767234\n",
      "Default linear R2 Score: 0.9404580769986706\n"
     ]
    }
   ],
   "source": [
    "# Train the model and make predictions (Gemini gnerated set)\n",
    "\n",
    "default_param_linear.fit(X_train_gemini, y_train_gemini)\n",
    "y_pred_linear_gemini = default_param_linear.predict(X_test_gemini)\n",
    "\n",
    "mse_linear_gemini = mean_squared_error(y_test_gemini, y_pred_linear_gemini)\n",
    "mae_linear_gemini = mean_absolute_error(y_test_gemini, y_pred_linear_gemini)\n",
    "r2_linear_gemini = r2_score(y_test_gemini, y_pred_linear_gemini)\n",
    "\n",
    "print(\"Metrics for the Gemini Generated set:\")\n",
    "print(f\"Default linear MSE: {mse_linear_gemini}\")\n",
    "print(f\"Default linear MAE: {mae_linear_gemini}\")\n",
    "print(f\"Default linear R2 Score: {r2_linear_gemini}\")"
   ]
  },
  {
   "cell_type": "markdown",
   "id": "8a36d66a-07d4-480c-a472-806ef51aaf7c",
   "metadata": {},
   "source": [
    "#### Obserwacje wyników oraz porównanie z modelem drzewa\n",
    "\n",
    "- Model liniowy poradził sobie lepiej z datasetem wygenerowanym przez Gemini. Otrzymał w nim ~94% dla metryki R2 oraz znacznie mniejsze wartości dla metryk błędów.\n",
    "- Dla zbioru danych California Housing, wartości otrzymane przez model liniowy były nieco gorsze od metryk modelu drzewa -- R2 Score na poziomie ~33% oraz 0.55 MSE i 0.53 MAE.\n",
    "- Różnice w wynikach mogą być spowodowane liniową zależnością pomiędzy kolumną *Temperature_C* oraz *EnergyOutput_kWh* -- model liniowy może lepiej dopasować wzrost temperatury do wzrostu wytwarzanej energii.\n",
    "- Model drzewa może w tym przypadku próbować wywnioskować zależności pomiędzy wytwarzaną energią, a np. zachmurzeniem, które wpływa w pewnym stopniu na wartość w kolumnie z temperaturą."
   ]
  },
  {
   "cell_type": "markdown",
   "id": "55e98661-f96f-49e8-a1c5-b819aaf71f1c",
   "metadata": {},
   "source": [
    "### GridSearchCV tuning"
   ]
  },
  {
   "cell_type": "code",
   "execution_count": 23,
   "id": "07c95d8a-5c3e-4a8d-bc3b-c2839b208f0a",
   "metadata": {},
   "outputs": [],
   "source": [
    "# Define the GridSearchCV params (estimator, param_grid, etc.)\n",
    "\n",
    "estimator = default_param_tree # Use the previously defined dafault param tree model\n",
    "\n",
    "param_grid = {\n",
    "    \"max_depth\": [3, 5, 7, 10, None],\n",
    "    \"min_samples_split\": [2, 5, 10],\n",
    "    \"min_samples_leaf\": [1, 2, 5, 10]\n",
    "}\n",
    "\n",
    "cv = 5"
   ]
  },
  {
   "cell_type": "code",
   "execution_count": 24,
   "id": "9c713674-a0b0-49b6-bab1-10ed7474db7f",
   "metadata": {},
   "outputs": [],
   "source": [
    "grid = GridSearchCV(estimator, param_grid, cv=cv)"
   ]
  },
  {
   "cell_type": "code",
   "execution_count": 25,
   "id": "597b8e1f-273c-4e70-8981-e7a2fb360074",
   "metadata": {},
   "outputs": [
    {
     "name": "stdout",
     "output_type": "stream",
     "text": [
      "Best found params: {'max_depth': None, 'min_samples_leaf': 10, 'min_samples_split': 5}\n"
     ]
    }
   ],
   "source": [
    "grid.fit(X_train_sklearn, y_train_sklearn)\n",
    "print(\"Best found params:\", grid.best_params_)\n",
    "best_tree_model = grid"
   ]
  },
  {
   "cell_type": "code",
   "execution_count": 26,
   "id": "656c20c7-55ec-48e7-87c5-4bd465d26b9a",
   "metadata": {},
   "outputs": [
    {
     "name": "stdout",
     "output_type": "stream",
     "text": [
      "Metrics for the California Housing set:\n",
      "Best tree MSE: 0.36264849292446966\n",
      "Best tree MAE: 0.40427261331930975\n",
      "Best tree R2 Score: 0.7232554882130837\n"
     ]
    }
   ],
   "source": [
    "y_pred_best_tree_sklearn = best_tree_model.predict(X_test_sklearn)\n",
    "\n",
    "mse_best_tree_sklearn = mean_squared_error(y_test_sklearn, y_pred_best_tree_sklearn)\n",
    "mae_best_tree_sklearn = mean_absolute_error(y_test_sklearn, y_pred_best_tree_sklearn)\n",
    "r2_best_tree_sklearn = r2_score(y_test_sklearn, y_pred_best_tree_sklearn)\n",
    "\n",
    "print(\"Metrics for the California Housing set:\")\n",
    "print(f\"Best tree MSE: {mse_best_tree_sklearn}\")\n",
    "print(f\"Best tree MAE: {mae_best_tree_sklearn}\")\n",
    "print(f\"Best tree R2 Score: {r2_best_tree_sklearn}\")"
   ]
  },
  {
   "cell_type": "code",
   "execution_count": 27,
   "id": "90c2df30-e08f-48bc-a54e-c48c778b99e2",
   "metadata": {},
   "outputs": [
    {
     "name": "stdout",
     "output_type": "stream",
     "text": [
      "Best found params: {'max_depth': 3, 'min_samples_leaf': 1, 'min_samples_split': 2}\n",
      "Metrics for the Gemini Generated set:\n",
      "Best tree MSE: 263.08804444444445\n",
      "Best tree MAE: 11.76920634920635\n",
      "Best tree R2 Score: 0.021007028859670762\n"
     ]
    }
   ],
   "source": [
    "# Train the best model on the Gremini set\n",
    "\n",
    "grid.fit(X_train_gemini, y_train_gemini)\n",
    "print(\"Best found params:\", grid.best_params_)\n",
    "\n",
    "y_pred_best_tree_gemini = grid.predict(X_test_gemini)\n",
    "\n",
    "mse_best_tree_gemini = mean_squared_error(y_test_gemini, y_pred_best_tree_gemini)\n",
    "mae_best_tree_gemini = mean_absolute_error(y_test_gemini, y_pred_best_tree_gemini)\n",
    "r2_best_tree_gemini = r2_score(y_test_gemini, y_pred_best_tree_gemini)\n",
    "\n",
    "print(\"Metrics for the Gemini Generated set:\")\n",
    "print(f\"Best tree MSE: {mse_best_tree_gemini}\")\n",
    "print(f\"Best tree MAE: {mae_best_tree_gemini}\")\n",
    "print(f\"Best tree R2 Score: {r2_best_tree_gemini}\")"
   ]
  },
  {
   "cell_type": "markdown",
   "id": "ded5490d-e1ae-4849-8200-458174bbda4c",
   "metadata": {},
   "source": [
    "#### Porównanie z modelem o podstawowych parametrach\n",
    "\n",
    "- Stosując GridSearch, udało się podnieść wszystkie metryki modelu dla datasetu California Housing.\n",
    "- Metryka R2 wzrosła o maksymalnie ~10%, podczas gdy MSE oraz MAE zmalały nawet o 12%.\n",
    "- Dla wygenerowanego datasetu, GridSearch nie przyniósł dobrych rezultatów.\n",
    "- Metryka R2 często spadała poniżej 0, a błędy wzrosły nawet do poziomu 300% początkowej wartości."
   ]
  }
 ],
 "metadata": {
  "kernelspec": {
   "display_name": "Python 3 (ipykernel)",
   "language": "python",
   "name": "python3"
  },
  "language_info": {
   "codemirror_mode": {
    "name": "ipython",
    "version": 3
   },
   "file_extension": ".py",
   "mimetype": "text/x-python",
   "name": "python",
   "nbconvert_exporter": "python",
   "pygments_lexer": "ipython3",
   "version": "3.13.3"
  }
 },
 "nbformat": 4,
 "nbformat_minor": 5
}
