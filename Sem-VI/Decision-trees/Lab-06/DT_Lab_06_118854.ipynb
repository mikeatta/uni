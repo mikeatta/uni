{
 "cells": [
  {
   "cell_type": "markdown",
   "id": "f8b3c87f-8290-422e-ac67-6a54b8c88814",
   "metadata": {},
   "source": [
    "## Lab 06 | Drzewa Decyzyjne - \"Programowanie genetyczne\""
   ]
  },
  {
   "cell_type": "code",
   "execution_count": 1,
   "id": "5de98719-78f1-43d4-8942-1f0665518346",
   "metadata": {},
   "outputs": [],
   "source": [
    "# Imports\n",
    "\n",
    "import numpy as np\n",
    "from gplearn.genetic import SymbolicRegressor\n",
    "from sklearn.metrics import accuracy_score, mean_squared_error, precision_score, recall_score, f1_score\n",
    "from sklearn.datasets import load_iris\n",
    "from sklearn.model_selection import train_test_split\n",
    "from sklearn.tree import DecisionTreeClassifier\n",
    "import operator\n",
    "import random\n",
    "from deap import base, creator, tools, gp, algorithms\n",
    "import matplotlib.pyplot as plt"
   ]
  },
  {
   "cell_type": "code",
   "execution_count": 4,
   "id": "888901ba-1fc2-4691-a8c2-43a3a6f21717",
   "metadata": {},
   "outputs": [
    {
     "name": "stderr",
     "output_type": "stream",
     "text": [
      "/home/mikeatta/Documents/git/uni/Sem-VI/Decision-trees/.venv/lib/python3.13/site-packages/sklearn/base.py:474: FutureWarning: `BaseEstimator._validate_data` is deprecated in 1.6 and will be removed in 1.7. Use `sklearn.utils.validation.validate_data` instead. This function becomes public and is part of the scikit-learn developer API.\n",
      "  warnings.warn(\n"
     ]
    },
    {
     "name": "stdout",
     "output_type": "stream",
     "text": [
      "    |   Population Average    |             Best Individual              |\n",
      "---- ------------------------- ------------------------------------------ ----------\n",
      " Gen   Length          Fitness   Length          Fitness      OOB Fitness  Time Left\n",
      "   0    46.66           161635       63          6.59482              N/A     25.50s\n",
      "   1    35.92          130.285       55          1.48569              N/A     17.53s\n",
      "   2    51.21          34.6687       51          1.07723              N/A     18.53s\n",
      "   3    49.74          82.8561       39         0.741255              N/A     16.77s\n",
      "   4    49.00          25.5635       53         0.255575              N/A     15.44s\n",
      "   5    51.11          27.1794       49         0.244787              N/A     15.01s\n",
      "   6    52.24          173.115       75         0.198734              N/A     13.73s\n",
      "   7    53.01           21.702       71         0.193684              N/A     12.57s\n",
      "   8    56.91          61.8147       71        0.0863815              N/A     12.35s\n",
      "   9    60.77          62.0322       71        0.0863815              N/A     10.64s\n",
      "  10    66.06          23.3333       73         0.073038              N/A      9.77s\n",
      "  11    66.52          50.1102       73        0.0699431              N/A      8.82s\n",
      "  12    64.85           15.103       99        0.0634419              N/A      7.53s\n",
      "  13    58.72          9.90876       85        0.0642107              N/A      6.53s\n",
      "  14    54.29          12.3066       33        0.0497822              N/A      5.93s\n",
      "  15    49.82          11.7993       33        0.0497822              N/A      4.26s\n",
      "  16    45.93          11.5866       33        0.0497822              N/A      3.06s\n",
      "  17    40.27          10.6662       33        0.0497822              N/A      2.08s\n",
      "  18    34.34          12.5471       33        0.0497822              N/A      0.99s\n",
      "  19    33.10          11.9058       33        0.0497822              N/A      0.00s\n",
      "Most fitting formula: add(div(mul(X0, X0), add(mul(mul(0.866, X0), div(X0, X0)), X0)), add(-0.903, add(add(mul(X0, X0), add(-0.739, div(X0, 0.815))), add(div(X0, 0.815), sub(-0.237, -0.903)))))\n",
      "MSE: 0.00348320727937794\n"
     ]
    }
   ],
   "source": [
    "X = np.linspace(-10, 10, 100).reshape(-1, 1)\n",
    "y = X[:, 0]**2 + 3 * X[:, 0] - 1\n",
    "\n",
    "est = SymbolicRegressor(population_size=500, generations=20,\n",
    "                        stopping_criteria=0.01, p_crossover=0.7,\n",
    "                        p_subtree_mutation=0.1, verbose=1,\n",
    "                        random_state=42)\n",
    "\n",
    "est.fit(X, y)\n",
    "y_pred = est.predict(X)\n",
    "\n",
    "mse = mean_squared_error(y_true=y, y_pred=y_pred)\n",
    "\n",
    "print(f\"Most fitting formula: {est._program}\")\n",
    "print(\"MSE:\", mse)"
   ]
  },
  {
   "cell_type": "markdown",
   "id": "d427ce71-a157-4bae-8641-e95c08379f2b",
   "metadata": {},
   "source": [
    "### Obserwacje\n",
    "\n",
    "- Ostateczny otrzymany wzór to: ```add(div(mul(X0, X0), add(mul(mul(0.866, X0), div(X0, X0)), X0)), add(-0.903, add(add(mul(X0, X0), add(-0.739, div(X0, 0.815))), add(div(X0, 0.815), sub(-0.237, -0.903)))))```, co po \"przekonwertowaniu\" wygląda następująco: **f(x) = (x / 1.866) + x \\*\\* 2 + (2 * x / 0.815) - 0.976**\n",
    "- add(div(X^2)), add(mul(X * 0.866, div(X, X))), add(-0.963, add(add(X^2)))\n",
    "- Błąd wzoru: **0.00348320727937794**\n",
    "- Przy przyjęciu *x == 1*:\n",
    "  - Oryginalny wzór: f(1) = (1 ** 2) + (3 * 1) - 1 = 3.0\n",
    "  - Otrzymany: f(1) = (1 / 1.866) + (1 ** 2) + (2 * 1 / 0.815) - 0.976 = 3.013893411\n",
    "- Otrzymany wzór ma niską wartość błędu średnio kwadratowego oraz otrzymywane z niego wyniki są bliskie oryginalnemu wzorowi, co świadczy o dobrym dopasowaniu."
   ]
  },
  {
   "cell_type": "markdown",
   "id": "bf65ae1e-d410-49b9-b0f3-69f4881b001a",
   "metadata": {},
   "source": [
    "### Tree implementation in DEAP"
   ]
  },
  {
   "cell_type": "code",
   "execution_count": 2,
   "id": "257f6883-3a1c-4077-9aeb-eaf2ba561a5b",
   "metadata": {},
   "outputs": [],
   "source": [
    "# Load the dataset\n",
    "\n",
    "X, y = load_iris(return_X_y=True)\n",
    "\n",
    "X_train, X_test, y_train, y_test = train_test_split(X, y, test_size=0.2, random_state=42)"
   ]
  },
  {
   "cell_type": "code",
   "execution_count": 3,
   "id": "279a54fe-66d1-4e7f-98dc-7bc600b67a0e",
   "metadata": {},
   "outputs": [],
   "source": [
    "# Define the main GP functions\n",
    "\n",
    "# Define the primitive set (float inputs for the dataset labels, int output for the predicted class)\n",
    "pset = gp.PrimitiveSetTyped(\"MAIN\", [float, float, float, float], int)\n",
    "\n",
    "# Add primitives\n",
    "def if_then_else(condition, out1, out2):\n",
    "    return out1 if condition else out2\n",
    "\n",
    "def lt(a, b):\n",
    "    return a < b\n",
    "\n",
    "pset.addPrimitive(lt, [float, float], bool)\n",
    "pset.addPrimitive(if_then_else, [bool, int, int], int)\n",
    "\n",
    "def add(a, b):\n",
    "    return a + b\n",
    "\n",
    "def sub(a, b):\n",
    "    return a - b\n",
    "    \n",
    "def mul(a, b):\n",
    "    return a * b\n",
    "\n",
    "def protectedDiv(a, b):\n",
    "    return a / b if b != 0 else 1.0  # Avoids division by zero errors\n",
    "\n",
    "pset.addPrimitive(add, [float, float], float)\n",
    "pset.addPrimitive(sub, [float, float], float)\n",
    "pset.addPrimitive(mul, [float, float], float)\n",
    "pset.addPrimitive(protectedDiv, [float, float], float)\n",
    "\n",
    "# Class terminals\n",
    "pset.addTerminal(0, int)\n",
    "pset.addTerminal(1, int)\n",
    "pset.addTerminal(2, int)\n",
    "pset.addTerminal(True, bool)\n",
    "pset.addTerminal(False, bool)\n",
    "\n",
    "# Thresholds\n",
    "for val in [1.0, 1.5, 2.0, 2.5, 3.0, 4.0, 5.0, 6.0, 7.0]:\n",
    "    pset.addTerminal(val, float)\n",
    "\n",
    "# Rename the features\n",
    "pset.renameArguments(ARG0='x0', ARG1='x1', ARG2='x2', ARG3='x3')"
   ]
  },
  {
   "cell_type": "code",
   "execution_count": 4,
   "id": "f9d89024-4e44-4f1f-a5f6-850959dcd180",
   "metadata": {},
   "outputs": [],
   "source": [
    "# GP setup\n",
    "\n",
    "creator.create(\"FitnessMax\", base.Fitness, weights=(1.0,))\n",
    "creator.create(\"Individual\", gp.PrimitiveTree, fitness=creator.FitnessMax)\n",
    "\n",
    "toolbox = base.Toolbox()\n",
    "toolbox.register(\"expr\", gp.genHalfAndHalf, pset=pset, min_=1, max_=3)\n",
    "toolbox.register(\"individual\", tools.initIterate, creator.Individual, toolbox.expr)\n",
    "toolbox.register(\"population\", tools.initRepeat, list, toolbox.individual)\n",
    "toolbox.register(\"compile\", gp.compile, pset=pset)"
   ]
  },
  {
   "cell_type": "code",
   "execution_count": 5,
   "id": "436d6982-855f-4e93-bd0b-4bbbd45547ee",
   "metadata": {},
   "outputs": [],
   "source": [
    "# Function for evaluation\n",
    "def eval_individual(individual):\n",
    "    func = toolbox.compile(expr=individual)\n",
    "    predictions = [func(*sample) for sample in X_train]\n",
    "    return accuracy_score(y_train, predictions),\n",
    "\n",
    "toolbox.register(\"evaluate\", eval_individual)\n",
    "toolbox.register(\"select\", tools.selTournament, tournsize=3)\n",
    "toolbox.register(\"mate\", gp.cxOnePoint)\n",
    "toolbox.register(\"mutate\", gp.mutUniform, expr=toolbox.expr, pset=pset)\n",
    "toolbox.decorate(\"mate\", gp.staticLimit(key=len, max_value=10))\n",
    "toolbox.decorate(\"mutate\", gp.staticLimit(key=len, max_value=10))\n",
    "\n",
    "# Function for running the algorithm\n",
    "def run_gp():\n",
    "    pop = toolbox.population(n=300)\n",
    "    hof = tools.HallOfFame(1) # Store only the best found result\n",
    "    stats = tools.Statistics(lambda ind: ind.fitness.values)\n",
    "    stats.register(\"avg\", np.mean)\n",
    "    stats.register(\"max\", np.max)\n",
    "\n",
    "    algorithms.eaSimple(population=pop, toolbox=toolbox,\n",
    "                        cxpb=0.5, mutpb=0.2,\n",
    "                        ngen=30, stats=stats,\n",
    "                        halloffame=hof, verbose=True)\n",
    "\n",
    "    return hof[0]"
   ]
  },
  {
   "cell_type": "code",
   "execution_count": 6,
   "id": "35d8d375-8678-48dc-afe3-aa4130b638df",
   "metadata": {},
   "outputs": [
    {
     "name": "stdout",
     "output_type": "stream",
     "text": [
      "gen\tnevals\tavg     \tmax  \n",
      "0  \t300   \t0.333389\t0.675\n",
      "1  \t196   \t0.351111\t0.675\n",
      "2  \t175   \t0.36175 \t0.675\n",
      "3  \t177   \t0.393639\t0.675\n",
      "4  \t167   \t0.444222\t0.675\n",
      "5  \t179   \t0.507167\t0.675\n",
      "6  \t197   \t0.561139\t0.675\n",
      "7  \t159   \t0.603583\t0.675\n",
      "8  \t189   \t0.613611\t0.675\n",
      "9  \t180   \t0.622806\t0.675\n",
      "10 \t177   \t0.626917\t0.675\n",
      "11 \t202   \t0.602111\t0.675\n",
      "12 \t190   \t0.616333\t0.675\n",
      "13 \t166   \t0.627056\t0.675\n",
      "14 \t180   \t0.635694\t0.675\n",
      "15 \t169   \t0.630417\t0.675\n",
      "16 \t176   \t0.626556\t0.675\n",
      "17 \t180   \t0.625722\t0.675\n",
      "18 \t183   \t0.621417\t0.675\n",
      "19 \t175   \t0.633389\t0.675\n",
      "20 \t175   \t0.635222\t0.675\n",
      "21 \t194   \t0.636417\t0.675\n",
      "22 \t171   \t0.636778\t0.675\n",
      "23 \t174   \t0.635028\t0.675\n",
      "24 \t162   \t0.626778\t0.675\n",
      "25 \t174   \t0.6365  \t0.675\n",
      "26 \t176   \t0.63675 \t0.675\n",
      "27 \t160   \t0.62575 \t0.675\n",
      "28 \t170   \t0.629222\t0.675\n",
      "29 \t162   \t0.632694\t0.675\n",
      "30 \t179   \t0.6305  \t0.675\n",
      "Best GP algorithm test accuracy: 0.6333333333333333\n",
      "Best Tree 'Formula':\n",
      " if_then_else(lt(x2, x1), lt(7.0, x2), lt(x3, 7.0))\n"
     ]
    }
   ],
   "source": [
    "# Running the GP program\n",
    "\n",
    "# Get the best individual\n",
    "best = run_gp()\n",
    "\n",
    "# Test the best individual\n",
    "best_func = toolbox.compile(expr=best)\n",
    "test_preds = [best_func(*x) for x in X_test]\n",
    "accuracy_gp = accuracy_score(y_test, test_preds)\n",
    "print(f\"Best GP algorithm test accuracy: {accuracy_gp}\")\n",
    "\n",
    "# Print best individual tree\n",
    "print(\"Best Tree 'Formula':\\n\", best)"
   ]
  },
  {
   "cell_type": "markdown",
   "id": "a0567a99-8540-4c32-af63-720d2fe42c1c",
   "metadata": {},
   "source": [
    "### Original ML Tree comparison"
   ]
  },
  {
   "cell_type": "code",
   "execution_count": 7,
   "id": "419c008f-70ed-4a7b-b605-76faa4929821",
   "metadata": {},
   "outputs": [
    {
     "name": "stdout",
     "output_type": "stream",
     "text": [
      "Tree Accuracy: 0.9666666666666667\n",
      "Tree Precision: 0.9694444444444444\n",
      "Tree Recall: 0.9666666666666667\n",
      "Tree F1: 0.9664109121909632\n"
     ]
    }
   ],
   "source": [
    "# Train and evaluate a Tree model\n",
    "\n",
    "# Use similar parameters to the ones found in the last lab class to prevent overfitting and obtain a more genuine model score\n",
    "clf = DecisionTreeClassifier(max_depth=3, min_samples_split=5, min_samples_leaf=10, random_state=42)\n",
    "clf.fit(X_train, y_train)\n",
    "y_pred_tree = clf.predict(X_test)\n",
    "\n",
    "accuracy = accuracy_score(y_true=y_test, y_pred=y_pred_tree)\n",
    "precision = precision_score(y_true=y_test, y_pred=y_pred_tree, average=\"weighted\")\n",
    "recall = recall_score(y_true=y_test, y_pred=y_pred_tree, average=\"weighted\")\n",
    "f1 = f1_score(y_true=y_test, y_pred=y_pred_tree, average=\"weighted\")\n",
    "\n",
    "print(f\"Tree Accuracy: {accuracy}\")\n",
    "print(f\"Tree Precision: {precision}\")\n",
    "print(f\"Tree Recall: {recall}\")\n",
    "print(f\"Tree F1: {f1}\")"
   ]
  },
  {
   "cell_type": "code",
   "execution_count": 8,
   "id": "066aa9b9-2f75-4d75-ac22-92369f8b25bd",
   "metadata": {},
   "outputs": [
    {
     "data": {
      "image/png": "[encoded data removed]",
      "text/plain": [
       "<Figure size 640x480 with 1 Axes>"
      ]
     },
     "metadata": {},
     "output_type": "display_data"
    }
   ],
   "source": [
    "# Plot the resulting accuracy\n",
    "\n",
    "fig, ax = plt.subplots()\n",
    "\n",
    "accuracy_descriptions = [\"GP Tree Algorithm\", \"Sklearn Tree Algorithm\"]\n",
    "accuracies = [accuracy_gp, accuracy]\n",
    "bar_labels = [\"G.P.\", \"Sklearn\"]\n",
    "bar_colors = [\"orange\", \"steelblue\"]\n",
    "\n",
    "ax.bar(accuracy_descriptions, accuracies, label=bar_labels, color=bar_colors)\n",
    "\n",
    "ax.set_ylabel(\"Accuracy (%)\")\n",
    "ax.set_title(\"Accuracy Comparison Between GP-Based vs. Regular Tree Implementation\")\n",
    "ax.legend(title=\"Algorithm\")\n",
    "ax.grid(axis=\"y\", linestyle=\"--\", alpha=0.7)\n",
    "\n",
    "plt.show()"
   ]
  },
  {
   "cell_type": "markdown",
   "id": "90247bb0-c0e5-418f-957d-98580ccc4fed",
   "metadata": {},
   "source": [
    "### Obserwacje i porównanie\n",
    "\n",
    "- Model _DecisionTreeClassifier_ z Scikit learn poradził sobie z problemem klasyfikacji lepiej niż zbudowany algorytm drzewa biblioteki DEAP.\n",
    "- W GP, model nie uczy się bezpośrednio przez optymalizację parametrów na zbiorze danych, jak klasyczne algorytmy, lecz ewoluuje struktury drzew poprzez losowe generowanie, ocenę skuteczności i selekcję. Z tego powodu, wykorzystanie GP zajmuje więcej czasu i często wymaga większej liczby pokoleń oraz większych populacji, aby osiągnąć dobre rezultaty.\n",
    "- Struktura drzewa z biblioteki Scikit learn została już wcześniej starannie zoptymalizowana i usprawniona, co sprawia, że nawet na podstawowych parametrach modele są w stanie osiągnąć zadowalające wyniki.\n",
    "- Istnieje prawdopodobieństwo, że po odpowiednim dostrojeniu parametrów drzewa GP, będzie ono w stanie dorównać drzewom z algorytmów ML, ale nie jest to pewne, ponieważ struktura algorytmu predykcji w GP opiera się bardziej na niskopoziomowej matematyce i sprawdzaniu warunków, niż uczeniu się z dostępnych danych, w taki sposób, jak jest to robione w przypadku klasycznych modeli drzew."
   ]
  }
 ],
 "metadata": {
  "kernelspec": {
   "display_name": "Python 3 (ipykernel)",
   "language": "python",
   "name": "python3"
  },
  "language_info": {
   "codemirror_mode": {
    "name": "ipython",
    "version": 3
   },
   "file_extension": ".py",
   "mimetype": "text/x-python",
   "name": "python",
   "nbconvert_exporter": "python",
   "pygments_lexer": "ipython3",
   "version": "3.13.3"
  }
 },
 "nbformat": 4,
 "nbformat_minor": 5
}
