{
 "cells": [
  {
   "cell_type": "markdown",
   "metadata": {},
   "source": [
    "### MPAI Lab 5"
   ]
  },
  {
   "cell_type": "markdown",
   "metadata": {},
   "source": [
    "#### Imports"
   ]
  },
  {
   "cell_type": "code",
   "execution_count": null,
   "metadata": {},
   "outputs": [],
   "source": [
    "import numpy as np"
   ]
  },
  {
   "cell_type": "markdown",
   "metadata": {},
   "source": [
    "### Zadanie 1"
   ]
  },
  {
   "cell_type": "code",
   "execution_count": null,
   "metadata": {},
   "outputs": [],
   "source": [
    "mat = np.random.randint(low=1, high=10 + 1, size=(3, 3))\n",
    "mat"
   ]
  },
  {
   "cell_type": "markdown",
   "metadata": {},
   "source": [
    "### Zadanie 2"
   ]
  },
  {
   "cell_type": "code",
   "execution_count": null,
   "metadata": {},
   "outputs": [],
   "source": [
    "mat_avg_column = mat.mean(axis=0)\n",
    "mat_avg_column"
   ]
  },
  {
   "cell_type": "markdown",
   "metadata": {},
   "source": [
    "### Zadanie 3"
   ]
  },
  {
   "cell_type": "code",
   "execution_count": null,
   "metadata": {},
   "outputs": [],
   "source": [
    "mat_transpose = mat.T\n",
    "mat_transpose"
   ]
  },
  {
   "cell_type": "markdown",
   "metadata": {},
   "source": [
    "### Zadanie 4"
   ]
  },
  {
   "cell_type": "code",
   "execution_count": null,
   "metadata": {},
   "outputs": [],
   "source": [
    "# Define matrices\n",
    "\n",
    "mat_A = np.random.randint(low=1, high=99 + 1, size=(3, 3))\n",
    "mat_B = np.random.randint(low=1, high=99 + 1, size=(3, 3))\n",
    "\n",
    "display(mat_A)\n",
    "display(mat_B)\n",
    "\n",
    "mat_result = mat_A * mat_B\n",
    "mat_result"
   ]
  },
  {
   "cell_type": "markdown",
   "metadata": {},
   "source": [
    "### Zadanie 5"
   ]
  },
  {
   "cell_type": "code",
   "execution_count": null,
   "metadata": {},
   "outputs": [],
   "source": [
    "# Generate a 1-dimensional array\n",
    "\n",
    "arr_1d = np.random.randint(low=1, high=1000 + 1, size=(1, 50))\n",
    "display(arr_1d)\n",
    "\n",
    "# Find the index of the highest value in the array\n",
    "\n",
    "max_value_idx = arr_1d.argmax()\n",
    "max_value = arr_1d.max()\n",
    "print(f'Highest value was: {max_value} at index: {max_value_idx}')"
   ]
  },
  {
   "cell_type": "markdown",
   "metadata": {},
   "source": [
    "### Zadanie 6"
   ]
  },
  {
   "cell_type": "code",
   "execution_count": null,
   "metadata": {},
   "outputs": [],
   "source": [
    "mat_norm_dist = np.random.normal(loc=7.0, scale=3.0, size=(4, 4))\n",
    "mat_norm_dist"
   ]
  },
  {
   "cell_type": "markdown",
   "metadata": {},
   "source": [
    "### Zadanie 7"
   ]
  },
  {
   "cell_type": "code",
   "execution_count": null,
   "metadata": {},
   "outputs": [],
   "source": [
    "# Return the unique values and their counts\n",
    "\n",
    "arr_unique_values = np.unique(ar=arr_1d, return_counts=True)\n",
    "arr_unique_values"
   ]
  },
  {
   "cell_type": "markdown",
   "metadata": {},
   "source": [
    "### Zadanie 8"
   ]
  },
  {
   "cell_type": "code",
   "execution_count": null,
   "metadata": {},
   "outputs": [],
   "source": [
    "mat = np.random.randint(low=1, high=100 + 1, size=(3, 4))\n",
    "vec = np.random.randint(low=1, high=1000 + 1, size=(1, 4))\n",
    "\n",
    "display(mat)\n",
    "display(vec)\n",
    "\n",
    "# NumPy automatically extends the size of the vec variable (smaller array) to adjust to the multiplied matrix\n",
    "# The broadcasted variable takes the form of:\n",
    "# vec = [[x1, x2, x3, x4],\n",
    "#        [x1, x2, x3, x4],\n",
    "#        [x1, x2, x3, x4]]\n",
    "\n",
    "mat_result = mat * vec\n",
    "mat_result"
   ]
  },
  {
   "cell_type": "markdown",
   "metadata": {},
   "source": [
    "### Zadanie 9"
   ]
  },
  {
   "cell_type": "code",
   "execution_count": null,
   "metadata": {},
   "outputs": [],
   "source": [
    "def find_quadratic_function_roots(a, b, c):\n",
    "    discriminant = b**2 - (4 * a * c)\n",
    "\n",
    "    if discriminant > 0:\n",
    "        x1 = (-b - np.sqrt(discriminant)) / (2 * a)\n",
    "        x2 = (-b + np.sqrt(discriminant)) / (2 * a)\n",
    "        return x1, x2\n",
    "    elif discriminant == 0:\n",
    "        x1 = -b / (2 * a)\n",
    "        return x1,\n",
    "    else:\n",
    "        real_part = -b / (2 * a)\n",
    "        imag_part = np.sqrt(abs(discriminant)) / (2 * a)\n",
    "        x1 = complex(real_part, imag_part)\n",
    "        x2 = complex(real_part, -imag_part)\n",
    "        return x1, x2"
   ]
  },
  {
   "cell_type": "code",
   "execution_count": null,
   "metadata": {},
   "outputs": [],
   "source": [
    "a = 4\n",
    "b = 10\n",
    "c = 6\n",
    "\n",
    "roots = find_quadratic_function_roots(a, b, c)\n",
    "roots"
   ]
  },
  {
   "cell_type": "code",
   "execution_count": null,
   "metadata": {},
   "outputs": [],
   "source": [
    "a = 1\n",
    "b = -3\n",
    "c = 2.25\n",
    "\n",
    "roots = find_quadratic_function_roots(a, b, c)\n",
    "roots"
   ]
  },
  {
   "cell_type": "code",
   "execution_count": null,
   "metadata": {},
   "outputs": [],
   "source": [
    "a = 10\n",
    "b = -5\n",
    "c = 1.5\n",
    "\n",
    "roots = find_quadratic_function_roots(a, b, c)\n",
    "roots"
   ]
  }
 ],
 "metadata": {
  "kernelspec": {
   "display_name": "uni_mpai",
   "language": "python",
   "name": "python3"
  },
  "language_info": {
   "codemirror_mode": {
    "name": "ipython",
    "version": 3
   },
   "file_extension": ".py",
   "mimetype": "text/x-python",
   "name": "python",
   "nbconvert_exporter": "python",
   "pygments_lexer": "ipython3",
   "version": "3.11.7"
  }
 },
 "nbformat": 4,
 "nbformat_minor": 2
}
