{
 "cells": [
  {
   "cell_type": "markdown",
   "metadata": {},
   "source": [
    "### MPAI Lab 3"
   ]
  },
  {
   "cell_type": "markdown",
   "metadata": {},
   "source": [
    "#### Imports"
   ]
  },
  {
   "cell_type": "code",
   "execution_count": 43,
   "metadata": {},
   "outputs": [],
   "source": [
    "import numpy as np"
   ]
  },
  {
   "cell_type": "markdown",
   "metadata": {},
   "source": [
    "### Zadanie 1"
   ]
  },
  {
   "cell_type": "code",
   "execution_count": 44,
   "metadata": {},
   "outputs": [],
   "source": [
    "A = np.array([[3, 4, 5],\n",
    "              [8, 3, 1]])\n",
    "B = np.array([[0, 5, 2],\n",
    "              [4, 2, 1]])"
   ]
  },
  {
   "cell_type": "code",
   "execution_count": 45,
   "metadata": {},
   "outputs": [
    {
     "data": {
      "text/plain": [
       "array([[3, 4, 5],\n",
       "       [8, 3, 1],\n",
       "       [0, 5, 2],\n",
       "       [4, 2, 1]])"
      ]
     },
     "execution_count": 45,
     "metadata": {},
     "output_type": "execute_result"
    }
   ],
   "source": [
    "C = np.concatenate((A, B))\n",
    "C"
   ]
  },
  {
   "cell_type": "markdown",
   "metadata": {},
   "source": [
    "### Zadanie 2"
   ]
  },
  {
   "cell_type": "code",
   "execution_count": 46,
   "metadata": {},
   "outputs": [],
   "source": [
    "data = np.array([[4.3, 4.2],\n",
    "                 [3.1, 3.6]])\n",
    "target = np.array([[0],\n",
    "                   [1]])"
   ]
  },
  {
   "cell_type": "code",
   "execution_count": 47,
   "metadata": {},
   "outputs": [
    {
     "data": {
      "text/plain": [
       "array([[4.3, 4.2, 0. ],\n",
       "       [3.1, 3.6, 1. ]])"
      ]
     },
     "execution_count": 47,
     "metadata": {},
     "output_type": "execute_result"
    }
   ],
   "source": [
    "new_array = np.concatenate((data, target), axis=1)\n",
    "new_array"
   ]
  },
  {
   "cell_type": "markdown",
   "metadata": {},
   "source": [
    "### Zadanie 3"
   ]
  },
  {
   "cell_type": "code",
   "execution_count": 48,
   "metadata": {},
   "outputs": [],
   "source": [
    "feature1 = np.array([1.6, 0.9, 2.2])\n",
    "feature2 = np.array([0.4, 1.3, 3.2])\n",
    "feature3 = np.array([1.4, 0.3, 1.2])"
   ]
  },
  {
   "cell_type": "code",
   "execution_count": 49,
   "metadata": {},
   "outputs": [
    {
     "data": {
      "text/plain": [
       "array([1.6, 0.4, 1.4, 0.9, 1.3, 0.3, 2.2, 3.2, 1.2])"
      ]
     },
     "execution_count": 49,
     "metadata": {},
     "output_type": "execute_result"
    }
   ],
   "source": [
    "stacked_features = np.column_stack(tup=(feature1, feature2, feature3))\n",
    "stacked_features = np.concatenate(stacked_features)\n",
    "stacked_features"
   ]
  },
  {
   "cell_type": "markdown",
   "metadata": {},
   "source": [
    "### Zadanie 4"
   ]
  },
  {
   "cell_type": "code",
   "execution_count": 50,
   "metadata": {},
   "outputs": [
    {
     "data": {
      "text/plain": [
       "array([[0, 0, 4, 6, 2, 4, 1, 1],\n",
       "       [0, 0, 6, 2, 2, 4, 1, 1],\n",
       "       [0, 0, 1, 3, 5, 5, 1, 1],\n",
       "       [0, 0, 3, 1, 5, 4, 1, 1],\n",
       "       [0, 0, 2, 6, 1, 3, 1, 1]])"
      ]
     },
     "execution_count": 50,
     "metadata": {},
     "output_type": "execute_result"
    }
   ],
   "source": [
    "np.random.seed(42)\n",
    "\n",
    "A = np.random.randint(low=0 ,high=7, size=(5, 8))\n",
    "A[:, :2] = 0\n",
    "A[:, -2:] = 1\n",
    "A"
   ]
  },
  {
   "cell_type": "code",
   "execution_count": 51,
   "metadata": {},
   "outputs": [
    {
     "name": "stdout",
     "output_type": "stream",
     "text": [
      "[[0 0]\n",
      " [0 0]\n",
      " [0 0]\n",
      " [0 0]\n",
      " [0 0]]\n",
      "[[4 6 2 4]\n",
      " [6 2 2 4]\n",
      " [1 3 5 5]\n",
      " [3 1 5 4]\n",
      " [2 6 1 3]]\n",
      "[[1 1]\n",
      " [1 1]\n",
      " [1 1]\n",
      " [1 1]\n",
      " [1 1]]\n"
     ]
    }
   ],
   "source": [
    "A1, A2, A3 = np.split(ary=A, indices_or_sections=[2, 6], axis=1)\n",
    "print(A1)\n",
    "print(A2)\n",
    "print(A3)"
   ]
  },
  {
   "cell_type": "code",
   "execution_count": 52,
   "metadata": {},
   "outputs": [
    {
     "name": "stdout",
     "output_type": "stream",
     "text": [
      "Set of ones: [1 1]\n",
      "Row of zeros: [0 0]\n",
      "Transformed matrix shape: (6, 6)\n",
      "Transformed matrix:\n",
      "[[0 0 0 0 0 0]\n",
      " [0 1 1 1 1 0]\n",
      " [0 1 1 1 1 0]\n",
      " [0 1 1 1 1 0]\n",
      " [0 1 1 1 1 0]\n",
      " [0 0 0 0 0 0]]\n"
     ]
    }
   ],
   "source": [
    "# Select a single row of ones\n",
    "\n",
    "ones_row = A3[1, :]\n",
    "print(f'Set of ones: {ones_row}')\n",
    "\n",
    "# Select a column of zeros\n",
    "\n",
    "zeros_row = A1[0, :]\n",
    "print(f'Row of zeros: {zeros_row}')\n",
    "\n",
    "# Drop the last two columns\n",
    "\n",
    "A = A[:, :-2]\n",
    "\n",
    "# Repeat the pattern of ones to fill the center of the transformed array\n",
    "\n",
    "A[1:5, 1:5] = np.repeat(a=ones_row, repeats=2)\n",
    "\n",
    "# Fill in the first and last rows with zeros\n",
    "\n",
    "A[0, :] = np.repeat(a=zeros_row, repeats=3)\n",
    "\n",
    "# Append the matrix with values from the first row\n",
    "\n",
    "A = np.vstack(tup=[A, A[0, :]])\n",
    "\n",
    "# Copy values from the first column to the last column\n",
    "\n",
    "A[:, -1] = A[:, 0]\n",
    "\n",
    "print(f'Transformed matrix:\\n{A}')\n",
    "print(f'Transformed matrix shape: {A.shape}')"
   ]
  },
  {
   "cell_type": "markdown",
   "metadata": {},
   "source": [
    "### Zadanie 5"
   ]
  },
  {
   "cell_type": "code",
   "execution_count": 53,
   "metadata": {},
   "outputs": [],
   "source": [
    "np.random.seed(42)\n",
    "\n",
    "A = np.random.randint(low=0 ,high=2, size=(10, 6))"
   ]
  },
  {
   "cell_type": "code",
   "execution_count": 54,
   "metadata": {},
   "outputs": [
    {
     "data": {
      "text/plain": [
       "31"
      ]
     },
     "execution_count": 54,
     "metadata": {},
     "output_type": "execute_result"
    }
   ],
   "source": [
    "positive_values_count = (A > 0).sum()\n",
    "positive_values_count"
   ]
  },
  {
   "cell_type": "markdown",
   "metadata": {},
   "source": [
    "### Zadanie 6"
   ]
  },
  {
   "cell_type": "code",
   "execution_count": 55,
   "metadata": {},
   "outputs": [],
   "source": [
    "np.random.seed(42)\n",
    "\n",
    "A = np.random.randn(10, 4)"
   ]
  },
  {
   "cell_type": "code",
   "execution_count": 56,
   "metadata": {},
   "outputs": [
    {
     "data": {
      "text/plain": [
       "array([[ 0.4967, -0.1383,  0.6477,  1.523 ],\n",
       "       [-0.2342, -0.2341,  1.5792,  0.7674],\n",
       "       [-0.4695,  0.5426, -0.4634, -0.4657],\n",
       "       [ 0.242 , -1.9133, -1.7249, -0.5623],\n",
       "       [-1.0128,  0.3142, -0.908 , -1.4123],\n",
       "       [ 1.4656, -0.2258,  0.0675, -1.4247],\n",
       "       [-0.5444,  0.1109, -1.151 ,  0.3757],\n",
       "       [-0.6006, -0.2917, -0.6017,  1.8523],\n",
       "       [-0.0135, -1.0577,  0.8225, -1.2208],\n",
       "       [ 0.2089, -1.9597, -1.3282,  0.1969]])"
      ]
     },
     "execution_count": 56,
     "metadata": {},
     "output_type": "execute_result"
    }
   ],
   "source": [
    "np.set_printoptions(precision=4)\n",
    "\n",
    "A"
   ]
  },
  {
   "cell_type": "markdown",
   "metadata": {},
   "source": [
    "### Zadanie 7"
   ]
  },
  {
   "cell_type": "code",
   "execution_count": 57,
   "metadata": {},
   "outputs": [
    {
     "data": {
      "text/plain": [
       "array([0.0000012 , 0.00000017])"
      ]
     },
     "execution_count": 57,
     "metadata": {},
     "output_type": "execute_result"
    }
   ],
   "source": [
    "A = np.array([1.2e-6, 1.7e-7])\n",
    "\n",
    "np.set_printoptions(precision=8, suppress=True)\n",
    "np.intersect1d(ar1=A, ar2=A)\n",
    "A"
   ]
  },
  {
   "cell_type": "markdown",
   "metadata": {},
   "source": [
    "### Zadanie 8"
   ]
  },
  {
   "cell_type": "code",
   "execution_count": 58,
   "metadata": {},
   "outputs": [],
   "source": [
    "np.random.seed(42)\n",
    "\n",
    "A = np.random.randn(8, 4)"
   ]
  },
  {
   "cell_type": "code",
   "execution_count": 59,
   "metadata": {},
   "outputs": [
    {
     "data": {
      "text/plain": [
       "array([[ 0.49671415, -0.1382643 ,  1.52302986],\n",
       "       [-0.23415337, -0.23413696,  0.76743473],\n",
       "       [-0.46947439,  0.54256004, -0.46572975],\n",
       "       [ 0.24196227, -1.91328024, -0.56228753],\n",
       "       [-1.01283112,  0.31424733, -1.4123037 ],\n",
       "       [ 1.46564877, -0.2257763 , -1.42474819],\n",
       "       [-0.54438272,  0.11092259,  0.37569802],\n",
       "       [-0.60063869, -0.29169375,  1.85227818]])"
      ]
     },
     "execution_count": 59,
     "metadata": {},
     "output_type": "execute_result"
    }
   ],
   "source": [
    "A = np.delete(arr=A, obj=2, axis=1)\n",
    "A"
   ]
  },
  {
   "cell_type": "markdown",
   "metadata": {},
   "source": [
    "### Zadanie 9"
   ]
  },
  {
   "cell_type": "code",
   "execution_count": 60,
   "metadata": {},
   "outputs": [],
   "source": [
    "v = np.array([3, 4, -2])"
   ]
  },
  {
   "cell_type": "code",
   "execution_count": 61,
   "metadata": {},
   "outputs": [
    {
     "data": {
      "text/plain": [
       "5.385164807134504"
      ]
     },
     "execution_count": 61,
     "metadata": {},
     "output_type": "execute_result"
    }
   ],
   "source": [
    "norm = np.linalg.norm(x=v)\n",
    "norm"
   ]
  },
  {
   "cell_type": "markdown",
   "metadata": {},
   "source": [
    "### Zadnie 10"
   ]
  },
  {
   "cell_type": "code",
   "execution_count": 62,
   "metadata": {},
   "outputs": [],
   "source": [
    "A = np.random.randint(10, size=(100, 30))"
   ]
  },
  {
   "cell_type": "code",
   "execution_count": 63,
   "metadata": {},
   "outputs": [
    {
     "data": {
      "text/plain": [
       "array([[6, 7, 2, 0, 3, 1, 7, 3, 1, 5, ..., 6, 8, 7, 4, 1, 4, 7, 9, 8, 8],\n",
       "       [0, 8, 6, 8, 7, 0, 7, 7, 2, 0, ..., 8, 7, 1, 0, 6, 6, 7, 4, 2, 7],\n",
       "       [5, 2, 0, 2, 4, 2, 0, 4, 9, 6, ..., 6, 6, 3, 6, 2, 5, 1, 9, 8, 4],\n",
       "       [5, 3, 9, 6, 8, 6, 0, 0, 8, 8, ..., 9, 7, 5, 7, 8, 3, 0, 0, 9, 3],\n",
       "       [6, 1, 2, 0, 4, 0, 7, 0, 0, 1, ..., 5, 6, 3, 6, 7, 0, 5, 7, 4, 3],\n",
       "       [1, 5, 5, 0, 8, 5, 2, 3, 3, 2, ..., 1, 7, 0, 8, 8, 1, 6, 9, 2, 6],\n",
       "       [9, 8, 3, 0, 1, 0, 4, 4, 6, 8, ..., 3, 0, 7, 3, 5, 7, 3, 2, 8, 2],\n",
       "       [8, 1, 1, 1, 5, 2, 8, 3, 0, 3, ..., 5, 6, 5, 5, 5, 2, 5, 7, 1, 4],\n",
       "       [0, 0, 4, 2, 3, 2, 0, 0, 4, 5, ..., 6, 0, 2, 1, 8, 9, 5, 9, 2, 7],\n",
       "       [7, 1, 5, 6, 1, 9, 1, 9, 0, 7, ..., 7, 9, 6, 8, 3, 3, 0, 7, 2, 6],\n",
       "       ...,\n",
       "       [1, 2, 7, 7, 6, 5, 8, 3, 0, 7, ..., 4, 4, 3, 3, 0, 6, 8, 2, 1, 2],\n",
       "       [0, 5, 6, 1, 7, 5, 3, 4, 7, 2, ..., 8, 2, 2, 2, 9, 2, 8, 3, 6, 8],\n",
       "       [6, 8, 2, 3, 7, 5, 4, 3, 7, 0, ..., 3, 7, 1, 8, 5, 8, 7, 6, 0, 2],\n",
       "       [1, 4, 4, 4, 3, 4, 2, 0, 4, 8, ..., 5, 8, 2, 9, 3, 5, 7, 4, 2, 5],\n",
       "       [3, 8, 2, 3, 6, 6, 3, 5, 2, 5, ..., 5, 8, 1, 0, 5, 9, 7, 2, 9, 0],\n",
       "       [8, 0, 2, 7, 2, 3, 7, 0, 5, 0, ..., 5, 8, 8, 7, 4, 0, 8, 0, 7, 4],\n",
       "       [2, 6, 6, 8, 6, 2, 0, 7, 2, 7, ..., 6, 0, 3, 1, 1, 1, 3, 0, 3, 1],\n",
       "       [4, 2, 7, 3, 0, 0, 9, 2, 8, 6, ..., 8, 6, 2, 3, 5, 4, 1, 5, 2, 7],\n",
       "       [1, 0, 8, 2, 0, 6, 9, 4, 4, 0, ..., 6, 8, 4, 5, 9, 1, 2, 2, 8, 6],\n",
       "       [7, 9, 8, 5, 3, 0, 7, 6, 1, 7, ..., 1, 2, 0, 0, 5, 4, 7, 1, 3, 7]])"
      ]
     },
     "execution_count": 63,
     "metadata": {},
     "output_type": "execute_result"
    }
   ],
   "source": [
    "np.set_printoptions(edgeitems=10)\n",
    "A"
   ]
  }
 ],
 "metadata": {
  "kernelspec": {
   "display_name": "uni_mpai",
   "language": "python",
   "name": "python3"
  },
  "language_info": {
   "codemirror_mode": {
    "name": "ipython",
    "version": 3
   },
   "file_extension": ".py",
   "mimetype": "text/x-python",
   "name": "python",
   "nbconvert_exporter": "python",
   "pygments_lexer": "ipython3",
   "version": "3.11.6"
  }
 },
 "nbformat": 4,
 "nbformat_minor": 2
}
