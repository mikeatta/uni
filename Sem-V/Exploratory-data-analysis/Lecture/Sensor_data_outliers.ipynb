{
 "cells": [
  {
   "cell_type": "markdown",
   "metadata": {},
   "source": [
    "### EDA Lecture - Finals Assignment\n",
    "\n",
    "#### Temperature Sensor Data Outlier Detection"
   ]
  },
  {
   "cell_type": "markdown",
   "metadata": {},
   "source": [
    "##### Imports"
   ]
  },
  {
   "cell_type": "code",
   "execution_count": null,
   "metadata": {},
   "outputs": [],
   "source": [
    "import matplotlib.pyplot as plt\n",
    "import pandas as pd\n",
    "from datetime import datetime"
   ]
  },
  {
   "cell_type": "markdown",
   "metadata": {},
   "source": [
    "##### Load & prepare the data"
   ]
  },
  {
   "cell_type": "code",
   "execution_count": null,
   "metadata": {},
   "outputs": [],
   "source": [
    "df_set_temp = pd.read_csv(filepath_or_buffer='./Data/Setpoint_LazienkaGorna.csv')\n",
    "df_measured_temp = pd.read_csv(filepath_or_buffer='./Data/Temperatura_LazienkaGorna.csv')\n",
    "df_outside_temp = pd.read_csv(filepath_or_buffer='./Data/TemperaturaZewnetrzna.csv')"
   ]
  },
  {
   "cell_type": "code",
   "execution_count": null,
   "metadata": {},
   "outputs": [],
   "source": [
    "print(df_set_temp.head())\n",
    "print(df_measured_temp.head())\n",
    "print(df_outside_temp.head())"
   ]
  },
  {
   "cell_type": "code",
   "execution_count": null,
   "metadata": {},
   "outputs": [],
   "source": [
    "# Convert time to human-readable datetime\n",
    "\n",
    "df_set_temp['time'] = pd.to_datetime(df_set_temp['time'])\n",
    "df_set_temp.head()"
   ]
  },
  {
   "cell_type": "code",
   "execution_count": null,
   "metadata": {},
   "outputs": [],
   "source": [
    "df_measured_temp['time'] = pd.to_datetime(df_set_temp['time'])\n",
    "df_outside_temp['time'] = pd.to_datetime(df_set_temp['time'])"
   ]
  },
  {
   "cell_type": "code",
   "execution_count": null,
   "metadata": {},
   "outputs": [],
   "source": [
    "# Drop any rows with NaN values\n",
    "\n",
    "df_measured_temp = df_measured_temp.dropna(subset=['value', 'time'])\n",
    "df_set_temp = df_set_temp.dropna(subset=['value', 'time'])\n",
    "df_outside_temp = df_outside_temp.dropna(subset=['value', 'time'])"
   ]
  },
  {
   "cell_type": "markdown",
   "metadata": {},
   "source": [
    "##### Visualize the data"
   ]
  },
  {
   "cell_type": "code",
   "execution_count": null,
   "metadata": {},
   "outputs": [],
   "source": [
    "fix, axes = plt.subplots(nrows=3, ncols=1, figsize=(15, 5))\n",
    "\n",
    "axes[0].plot(df_set_temp['time'], df_set_temp['value'], label='Set Temp')\n",
    "axes[0].set_title('Set Temp')\n",
    "axes[0].set_xlabel('Time')\n",
    "axes[0].set_ylabel('Value')\n",
    "axes[0].legend()\n",
    "\n",
    "axes[1].plot(df_measured_temp['time'], df_measured_temp['value'], label='Measured Temp')\n",
    "axes[1].set_title('Measured Temp')\n",
    "axes[1].set_xlabel('Time')\n",
    "axes[1].set_ylabel('Value')\n",
    "axes[1].legend()\n",
    "\n",
    "axes[2].plot(df_outside_temp['time'], df_outside_temp['value'], label='Outside Temp')\n",
    "axes[2].set_title('Outside Temp')\n",
    "axes[2].set_xlabel('Time')\n",
    "axes[2].set_ylabel('Value')\n",
    "axes[2].legend()\n",
    "\n",
    "plt.tight_layout()\n",
    "plt.show()"
   ]
  },
  {
   "cell_type": "code",
   "execution_count": null,
   "metadata": {},
   "outputs": [],
   "source": [
    "# Redraw the plots with a smaller timeframe\n",
    "\n",
    "fix, axes = plt.subplots(nrows=3, ncols=1, figsize=(15, 5))\n",
    "\n",
    "axes[0].plot(df_set_temp['time'][:8000], df_set_temp['value'][:8000], label='Set Temp')\n",
    "axes[0].set_title('Set Temp')\n",
    "axes[0].set_xlabel('Time')\n",
    "axes[0].set_ylabel('Value')\n",
    "axes[0].legend()\n",
    "\n",
    "axes[1].plot(df_measured_temp['time'][:8000], df_measured_temp['value'][:8000], label='Measured Temp')\n",
    "axes[1].set_title('Measured Temp')\n",
    "axes[1].set_xlabel('Time')\n",
    "axes[1].set_ylabel('Value')\n",
    "axes[1].legend()\n",
    "\n",
    "axes[2].plot(df_outside_temp['time'][:8000], df_outside_temp['value'][:8000], label='Outside Temp')\n",
    "axes[2].set_title('Outside Temp')\n",
    "axes[2].set_xlabel('Time')\n",
    "axes[2].set_ylabel('Value')\n",
    "axes[2].legend()\n",
    "\n",
    "plt.tight_layout()\n",
    "plt.show()"
   ]
  },
  {
   "cell_type": "code",
   "execution_count": null,
   "metadata": {},
   "outputs": [],
   "source": [
    "# Add lines to help spot trend patterns in the data points\n",
    "\n",
    "fix, axes = plt.subplots(nrows=3, ncols=1, figsize=(20, 10))\n",
    "\n",
    "for year in range(2020, 2024):\n",
    "    # Line plots for year 2020\n",
    "    if year == 2020:\n",
    "        for month in range(9, 13):\n",
    "            for ax in axes:\n",
    "                ax.axvline(datetime(year, month, 1), color='k', linestyle='--', alpha=0.5)\n",
    "    # Line plots for year 2023\n",
    "    elif year == 2023:\n",
    "        for month in range(1, 4):\n",
    "            for ax in axes:\n",
    "                ax.axvline(datetime(year, month, 1), color='k', linestyle='--', alpha=0.5)\n",
    "    # Line plots for other years\n",
    "    else:\n",
    "        for month in range(1, 13):\n",
    "            for ax in axes:\n",
    "                ax.axvline(datetime(year, month, 1), color='k', linestyle='--', alpha=0.5)\n",
    "\n",
    "axes[0].plot(df_set_temp['time'], df_set_temp['value'], label='Set Temp')\n",
    "axes[0].set_title('Set Temp')\n",
    "axes[0].set_xlabel('Time')\n",
    "axes[0].set_ylabel('Value')\n",
    "axes[0].legend()\n",
    "\n",
    "axes[1].plot(df_measured_temp['time'], df_measured_temp['value'], label='Measured Temp')\n",
    "axes[1].set_title('Measured Temp')\n",
    "axes[1].set_xlabel('Time')\n",
    "axes[1].set_ylabel('Value')\n",
    "axes[1].legend()\n",
    "\n",
    "axes[2].plot(df_outside_temp['time'], df_outside_temp['value'], label='Outside Temp')\n",
    "axes[2].set_title('Outside Temp')\n",
    "axes[2].set_xlabel('Time')\n",
    "axes[2].set_ylabel('Value')\n",
    "axes[2].legend()\n",
    "\n",
    "plt.tight_layout()\n",
    "plt.show()"
   ]
  },
  {
   "cell_type": "markdown",
   "metadata": {},
   "source": [
    "##### Find min / max values from the available data"
   ]
  },
  {
   "cell_type": "code",
   "execution_count": null,
   "metadata": {},
   "outputs": [],
   "source": [
    "df_sets = [df_set_temp, df_measured_temp, df_outside_temp]\n",
    "\n",
    "for dataset in df_sets:\n",
    "    print(f'Data: {dataset[\"name\"][0]}')\n",
    "    print(f'MIN: {dataset[\"value\"].min()}')\n",
    "    print(f'MAX: {dataset[\"value\"].max()}')\n",
    "    print(f'Median: {dataset[\"value\"].median()}')\n",
    "    print(f'Mean: {dataset[\"value\"].mean()}')\n",
    "    print()"
   ]
  },
  {
   "cell_type": "code",
   "execution_count": null,
   "metadata": {},
   "outputs": [],
   "source": [
    "# Find the standard deviation value for the dataset values\n",
    "\n",
    "set_temp_deviation = df_set_temp['value'].std()\n",
    "print(f'Set temp deviation: {set_temp_deviation}')\n",
    "\n",
    "measured_temp_deviation = df_measured_temp['value'].std()\n",
    "print(f'Measured temp deviation: {measured_temp_deviation}')\n",
    "\n",
    "outside_temp_deviation = df_outside_temp['value'].std()\n",
    "print(f'Outside temp deviation: {outside_temp_deviation}')"
   ]
  },
  {
   "cell_type": "code",
   "execution_count": null,
   "metadata": {},
   "outputs": [],
   "source": [
    "# Find the bounds for the outliers in data via IQR\n",
    "\n",
    "def calculate_outlier_threshold(data):\n",
    "    q1 = data.quantile(0.25)\n",
    "    q3 = data.quantile(0.75)\n",
    "    iqr = q3 - q1\n",
    "    lower_bound = q1 - 4 * iqr\n",
    "    upper_bound = q3 + 4 * iqr\n",
    "    return lower_bound, upper_bound"
   ]
  },
  {
   "cell_type": "code",
   "execution_count": null,
   "metadata": {},
   "outputs": [],
   "source": [
    "lower_bound, upper_bound = calculate_outlier_threshold(df_set_temp['value'])\n",
    "print(f'Outlier Threshold for the set temp: below {lower_bound} or above {upper_bound}')\n",
    "\n",
    "lower_bound, upper_bound = calculate_outlier_threshold(df_measured_temp['value'])\n",
    "print(f'Outlier Threshold for the measured temp: below {lower_bound} or above {upper_bound}')\n",
    "\n",
    "lower_bound, upper_bound = calculate_outlier_threshold(df_outside_temp['value'])\n",
    "print(f'Outlier Threshold for the outside temp: below {lower_bound} or above {upper_bound}')"
   ]
  },
  {
   "cell_type": "markdown",
   "metadata": {},
   "source": [
    "##### Look for outliers in data"
   ]
  },
  {
   "cell_type": "code",
   "execution_count": null,
   "metadata": {},
   "outputs": [],
   "source": [
    "from scipy.stats import zscore\n",
    "\n",
    "def run_zscore(dataset):\n",
    "    dataset['z_score'] = zscore(dataset['value'])\n",
    "    anomalies = dataset[abs(dataset['z_score']) > 4]\n",
    "\n",
    "    plt.figure(figsize=(20, 8))\n",
    "    plt.plot(dataset['time'], dataset['value'])\n",
    "    plt.scatter(anomalies['time'], anomalies['value'], color='red', label='Anomalies')\n",
    "    plt.legend()\n",
    "    plt.show()"
   ]
  },
  {
   "cell_type": "code",
   "execution_count": null,
   "metadata": {},
   "outputs": [],
   "source": [
    "run_zscore(df_measured_temp)"
   ]
  },
  {
   "cell_type": "code",
   "execution_count": null,
   "metadata": {},
   "outputs": [],
   "source": [
    "run_zscore(df_set_temp)"
   ]
  },
  {
   "cell_type": "code",
   "execution_count": null,
   "metadata": {},
   "outputs": [],
   "source": [
    "run_zscore(df_outside_temp)"
   ]
  },
  {
   "cell_type": "code",
   "execution_count": null,
   "metadata": {},
   "outputs": [],
   "source": [
    "def run_iqr(dataset):\n",
    "    q1 = dataset['value'].quantile(0.25)\n",
    "    q3 = dataset['value'].quantile(0.75)\n",
    "    iqr = q3 - q1\n",
    "    lower_bound = q1 - 5 * iqr\n",
    "    upper_bound = q3 + 5 * iqr\n",
    "\n",
    "    anomalies = dataset[(dataset['value'] < lower_bound) | (dataset['value'] > upper_bound)]\n",
    "\n",
    "    plt.figure(figsize=(20, 8))\n",
    "    plt.plot(df_measured_temp['time'], dataset['value'])\n",
    "    plt.scatter(anomalies['time'], anomalies['value'], color='red', label='Anomalies')\n",
    "    plt.legend()\n",
    "    plt.show()"
   ]
  },
  {
   "cell_type": "code",
   "execution_count": null,
   "metadata": {},
   "outputs": [],
   "source": [
    "run_iqr(df_measured_temp)"
   ]
  },
  {
   "cell_type": "code",
   "execution_count": null,
   "metadata": {},
   "outputs": [],
   "source": [
    "run_iqr(df_set_temp)"
   ]
  },
  {
   "cell_type": "code",
   "execution_count": null,
   "metadata": {},
   "outputs": [],
   "source": [
    "run_iqr(df_outside_temp)"
   ]
  },
  {
   "cell_type": "code",
   "execution_count": null,
   "metadata": {},
   "outputs": [],
   "source": [
    "from sklearn.ensemble import IsolationForest\n",
    "\n",
    "def run_isolation_forest(dataset):\n",
    "    model = IsolationForest(contamination=0.0025)\n",
    "    dataset['anomaly'] = model.fit_predict(dataset[['value']])\n",
    "    anomalies = dataset[dataset['anomaly'] == -1]\n",
    "\n",
    "    plt.figure(figsize=(20, 8))\n",
    "    plt.plot(dataset['time'], dataset['value'])\n",
    "    plt.scatter(anomalies['time'], anomalies['value'], color='red', label='Anomalies')\n",
    "    plt.legend()\n",
    "    plt.show()"
   ]
  },
  {
   "cell_type": "code",
   "execution_count": null,
   "metadata": {},
   "outputs": [],
   "source": [
    "run_isolation_forest(df_measured_temp)"
   ]
  },
  {
   "cell_type": "code",
   "execution_count": null,
   "metadata": {},
   "outputs": [],
   "source": [
    "run_isolation_forest(df_set_temp)"
   ]
  },
  {
   "cell_type": "code",
   "execution_count": null,
   "metadata": {},
   "outputs": [],
   "source": [
    "run_isolation_forest(df_outside_temp)"
   ]
  },
  {
   "cell_type": "code",
   "execution_count": null,
   "metadata": {},
   "outputs": [],
   "source": [
    "from statsmodels.tsa.seasonal import STL\n",
    "\n",
    "# Set sampling period: 1 reading every 5 minutes - 12 samples per hour - 288 samples per day\n",
    "\n",
    "period = 288\n",
    "\n",
    "# Dictionary to store outlier detection results for each dataset\n",
    "\n",
    "results_dict = {}\n",
    "\n",
    "# Dictionary to store anomalies found for each dataset\n",
    "\n",
    "anomaly_dict = {}\n",
    "\n",
    "datasets = {\n",
    "    'Measured temp': df_measured_temp,\n",
    "    'Set temp': df_set_temp,\n",
    "    'Outside temp': df_outside_temp\n",
    "}"
   ]
  },
  {
   "cell_type": "code",
   "execution_count": null,
   "metadata": {},
   "outputs": [],
   "source": [
    "def run_STL_model(dataset_name, period):\n",
    "    dataset = datasets[dataset_name]\n",
    "    data = dataset['value']\n",
    "\n",
    "    stl = STL(data, period=period)\n",
    "    result = stl.fit()\n",
    "\n",
    "    results_dict[dataset_name] = result\n",
    "\n",
    "    seasonal, trend, residual = result.seasonal, result.trend, result.resid\n",
    "\n",
    "    # Plot the result charts\n",
    "\n",
    "    plt.figure(figsize=(16, 8))\n",
    "\n",
    "    plt.subplot(4,1,1)\n",
    "    plt.plot(data)\n",
    "    plt.title(f'Original {dataset_name} Series', fontsize=16)\n",
    "\n",
    "    plt.subplot(4,1,2)\n",
    "    plt.plot(trend)\n",
    "    plt.title(f'{dataset_name} Trend', fontsize=16)\n",
    "\n",
    "    plt.subplot(4,1,3)\n",
    "    plt.plot(seasonal)\n",
    "    plt.title(f'{dataset_name} Seasonal', fontsize=16)\n",
    "\n",
    "    plt.subplot(4,1,4)\n",
    "    plt.plot(residual)\n",
    "    plt.title(f'{dataset_name} Residual', fontsize=16)\n",
    "\n",
    "    plt.tight_layout()\n",
    "    plt.show()"
   ]
  },
  {
   "cell_type": "code",
   "execution_count": null,
   "metadata": {},
   "outputs": [],
   "source": [
    "for dataset_name in datasets:\n",
    "    run_STL_model(dataset_name, period)"
   ]
  },
  {
   "cell_type": "code",
   "execution_count": null,
   "metadata": {},
   "outputs": [],
   "source": [
    "def find_STL_outliers(dataset_name, results_dict):\n",
    "    dataset = datasets[dataset_name]\n",
    "    data = dataset['value']\n",
    "    results = results_dict[dataset_name]\n",
    "    residual = results.resid\n",
    "\n",
    "    estimated = results.trend + results.seasonal\n",
    "\n",
    "    plt.figure(figsize=(12, 4))\n",
    "    plt.plot(data)\n",
    "    plt.plot(estimated)\n",
    "    plt.title(f'{dataset_name} Estimate vs Original difference')\n",
    "    plt.show()\n",
    "\n",
    "    resid_mu = residual.mean()\n",
    "    resid_dev = residual.std()\n",
    "\n",
    "    lower = resid_mu - (6.6 * resid_dev)\n",
    "    upper = resid_mu + (6.6 * resid_dev)\n",
    "\n",
    "    anomalies = dataset[(residual < lower) | (residual > upper)]\n",
    "    anomaly_dict[dataset_name] = anomalies\n",
    "\n",
    "    plt.figure(figsize=(12, 4))\n",
    "    plt.plot(results.resid)\n",
    "    plt.fill_between([datetime(2020, 9, 1), datetime(2023, 4, 1)], lower, upper, color='g', alpha=0.25, linestyle='--', linewidth=2)\n",
    "    plt.xlim(datetime(2020, 9, 1), datetime(2023, 4, 1))\n",
    "    plt.show()\n",
    "\n",
    "    plt.figure(figsize=(12, 4))\n",
    "    plt.plot(data)\n",
    "\n",
    "    for year in range (2020, 2023):\n",
    "        plt.axvline(datetime(year, 1, 1), color='k', linestyle='--', alpha=0.25)\n",
    "    \n",
    "    plt.scatter(anomalies.index, anomalies['value'], color='r', marker='D')\n",
    "    plt.show()"
   ]
  },
  {
   "cell_type": "code",
   "execution_count": null,
   "metadata": {},
   "outputs": [],
   "source": [
    "for dataset_name in datasets:\n",
    "    find_STL_outliers(dataset_name, results_dict)"
   ]
  },
  {
   "cell_type": "code",
   "execution_count": null,
   "metadata": {},
   "outputs": [],
   "source": [
    "anomaly_dict['Measured temp']"
   ]
  },
  {
   "cell_type": "code",
   "execution_count": null,
   "metadata": {},
   "outputs": [],
   "source": [
    "anomaly_dict['Set temp']"
   ]
  },
  {
   "cell_type": "code",
   "execution_count": null,
   "metadata": {},
   "outputs": [],
   "source": [
    "anomaly_dict['Outside temp']"
   ]
  }
 ],
 "metadata": {
  "kernelspec": {
   "display_name": "uni_eda",
   "language": "python",
   "name": "python3"
  },
  "language_info": {
   "codemirror_mode": {
    "name": "ipython",
    "version": 3
   },
   "file_extension": ".py",
   "mimetype": "text/x-python",
   "name": "python",
   "nbconvert_exporter": "python",
   "pygments_lexer": "ipython3",
   "version": "3.11.7"
  }
 },
 "nbformat": 4,
 "nbformat_minor": 2
}
