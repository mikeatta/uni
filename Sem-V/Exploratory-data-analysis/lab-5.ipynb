{
 "cells": [
  {
   "cell_type": "markdown",
   "metadata": {},
   "source": [
    "### EDA Lab 5"
   ]
  },
  {
   "cell_type": "markdown",
   "metadata": {},
   "source": [
    "### Imports"
   ]
  },
  {
   "cell_type": "code",
   "execution_count": 1,
   "metadata": {},
   "outputs": [],
   "source": [
    "import pandas as pd\n",
    "import numpy as np"
   ]
  },
  {
   "cell_type": "markdown",
   "metadata": {},
   "source": [
    "### Zadanie 1"
   ]
  },
  {
   "cell_type": "code",
   "execution_count": 2,
   "metadata": {},
   "outputs": [],
   "source": [
    "np.random.seed(42)\n",
    "s1 = pd.Series(np.random.rand(20))\n",
    "s2 = pd.Series(np.random.randn(20))"
   ]
  },
  {
   "cell_type": "code",
   "execution_count": 3,
   "metadata": {},
   "outputs": [
    {
     "name": "stdout",
     "output_type": "stream",
     "text": [
      "(20,)\n",
      "(20,)\n",
      "0     0.374540\n",
      "1     0.950714\n",
      "2     0.731994\n",
      "3     0.598658\n",
      "4     0.156019\n",
      "5     0.155995\n",
      "6     0.058084\n",
      "7     0.866176\n",
      "8     0.601115\n",
      "9     0.708073\n",
      "10    0.020584\n",
      "11    0.969910\n",
      "12    0.832443\n",
      "13    0.212339\n",
      "14    0.181825\n",
      "15    0.183405\n",
      "16    0.304242\n",
      "17    0.524756\n",
      "18    0.431945\n",
      "19    0.291229\n",
      "dtype: float64\n",
      "0    -1.012831\n",
      "1     0.314247\n",
      "2    -0.908024\n",
      "3    -1.412304\n",
      "4     1.465649\n",
      "5    -0.225776\n",
      "6     0.067528\n",
      "7    -1.424748\n",
      "8    -0.544383\n",
      "9     0.110923\n",
      "10   -1.150994\n",
      "11    0.375698\n",
      "12   -0.600639\n",
      "13   -0.291694\n",
      "14   -0.601707\n",
      "15    1.852278\n",
      "16   -0.013497\n",
      "17   -1.057711\n",
      "18    0.822545\n",
      "19   -1.220844\n",
      "dtype: float64\n"
     ]
    }
   ],
   "source": [
    "print(s1.shape)\n",
    "print(s2.shape)\n",
    "print(s1)\n",
    "print(s2)"
   ]
  },
  {
   "cell_type": "code",
   "execution_count": 4,
   "metadata": {},
   "outputs": [
    {
     "name": "stdout",
     "output_type": "stream",
     "text": [
      "        col1      col2\n",
      "0   0.374540 -1.012831\n",
      "1   0.950714  0.314247\n",
      "2   0.731994 -0.908024\n",
      "3   0.598658 -1.412304\n",
      "4   0.156019  1.465649\n",
      "5   0.155995 -0.225776\n",
      "6   0.058084  0.067528\n",
      "7   0.866176 -1.424748\n",
      "8   0.601115 -0.544383\n",
      "9   0.708073  0.110923\n",
      "10  0.020584 -1.150994\n",
      "11  0.969910  0.375698\n",
      "12  0.832443 -0.600639\n",
      "13  0.212339 -0.291694\n",
      "14  0.181825 -0.601707\n",
      "15  0.183405  1.852278\n",
      "16  0.304242 -0.013497\n",
      "17  0.524756 -1.057711\n",
      "18  0.431945  0.822545\n",
      "19  0.291229 -1.220844\n"
     ]
    }
   ],
   "source": [
    "df_data = {'col1': s1, 'col2': s2}\n",
    "\n",
    "df = pd.DataFrame(df_data)\n",
    "print(df)"
   ]
  },
  {
   "cell_type": "markdown",
   "metadata": {},
   "source": [
    "### Zadanie 2"
   ]
  },
  {
   "cell_type": "code",
   "execution_count": 5,
   "metadata": {},
   "outputs": [
    {
     "name": "stdout",
     "output_type": "stream",
     "text": [
      "        col1      col2\n",
      "1   0.950714  0.314247\n",
      "6   0.058084  0.067528\n",
      "9   0.708073  0.110923\n",
      "11  0.969910  0.375698\n",
      "18  0.431945  0.822545\n"
     ]
    }
   ],
   "source": [
    "ext = df[df['col2'].between(left=0.0, right=1.0, inclusive='both')]\n",
    "print(ext)"
   ]
  },
  {
   "cell_type": "markdown",
   "metadata": {},
   "source": [
    "### Zadanie 3"
   ]
  },
  {
   "cell_type": "code",
   "execution_count": 6,
   "metadata": {},
   "outputs": [
    {
     "name": "stdout",
     "output_type": "stream",
     "text": [
      "[0, 1, 0, 0, 1, 0, 1, 0, 0, 1, 0, 1, 0, 0, 0, 1, 0, 0, 1, 0]\n"
     ]
    }
   ],
   "source": [
    "# Create the values list\n",
    "\n",
    "values = []\n",
    "for record in df['col2'].values:\n",
    "    if (record >= 0):\n",
    "        values.append(1)\n",
    "    else:\n",
    "        values.append(0)\n",
    "\n",
    "print(values)"
   ]
  },
  {
   "cell_type": "code",
   "execution_count": 7,
   "metadata": {},
   "outputs": [
    {
     "name": "stdout",
     "output_type": "stream",
     "text": [
      "        col1      col2  col3\n",
      "0   0.374540 -1.012831     0\n",
      "1   0.950714  0.314247     1\n",
      "2   0.731994 -0.908024     0\n",
      "3   0.598658 -1.412304     0\n",
      "4   0.156019  1.465649     1\n",
      "5   0.155995 -0.225776     0\n",
      "6   0.058084  0.067528     1\n",
      "7   0.866176 -1.424748     0\n",
      "8   0.601115 -0.544383     0\n",
      "9   0.708073  0.110923     1\n",
      "10  0.020584 -1.150994     0\n",
      "11  0.969910  0.375698     1\n",
      "12  0.832443 -0.600639     0\n",
      "13  0.212339 -0.291694     0\n",
      "14  0.181825 -0.601707     0\n",
      "15  0.183405  1.852278     1\n",
      "16  0.304242 -0.013497     0\n",
      "17  0.524756 -1.057711     0\n",
      "18  0.431945  0.822545     1\n",
      "19  0.291229 -1.220844     0\n"
     ]
    }
   ],
   "source": [
    "df['col3'] = values\n",
    "print(df)"
   ]
  },
  {
   "cell_type": "markdown",
   "metadata": {},
   "source": [
    "### Zadanie 4"
   ]
  },
  {
   "cell_type": "code",
   "execution_count": 8,
   "metadata": {},
   "outputs": [
    {
     "name": "stdout",
     "output_type": "stream",
     "text": [
      "        col1      col2  col3      col4\n",
      "0   0.374540 -1.012831     0 -1.000000\n",
      "1   0.950714  0.314247     1  0.314247\n",
      "2   0.731994 -0.908024     0 -0.908024\n",
      "3   0.598658 -1.412304     0 -1.000000\n",
      "4   0.156019  1.465649     1  1.465649\n",
      "5   0.155995 -0.225776     0 -0.225776\n",
      "6   0.058084  0.067528     1  0.067528\n",
      "7   0.866176 -1.424748     0 -1.000000\n",
      "8   0.601115 -0.544383     0 -0.544383\n",
      "9   0.708073  0.110923     1  0.110923\n",
      "10  0.020584 -1.150994     0 -1.000000\n",
      "11  0.969910  0.375698     1  0.375698\n",
      "12  0.832443 -0.600639     0 -0.600639\n",
      "13  0.212339 -0.291694     0 -0.291694\n",
      "14  0.181825 -0.601707     0 -0.601707\n",
      "15  0.183405  1.852278     1  1.852278\n",
      "16  0.304242 -0.013497     0 -0.013497\n",
      "17  0.524756 -1.057711     0 -1.000000\n",
      "18  0.431945  0.822545     1  0.822545\n",
      "19  0.291229 -1.220844     0 -1.000000\n"
     ]
    }
   ],
   "source": [
    "# Cap col2 values at 1.0 for values above 1.0 and at -1.0 for values below -1.0\n",
    "\n",
    "df['col4'] = np.where(df['col2'] >= 1.0, 1.0, df['col2'])\n",
    "df['col4'] = np.where(df['col2'] <= -1.0, -1.0, df['col2'])\n",
    "print(df)"
   ]
  },
  {
   "cell_type": "markdown",
   "metadata": {},
   "source": [
    "### Zadanie 5"
   ]
  },
  {
   "cell_type": "code",
   "execution_count": 9,
   "metadata": {},
   "outputs": [
    {
     "name": "stdout",
     "output_type": "stream",
     "text": [
      "15    1.852278\n",
      "4     1.465649\n",
      "18    0.822545\n",
      "11    0.375698\n",
      "1     0.314247\n",
      "Name: col2, dtype: float64\n",
      "\n",
      "17   -1.057711\n",
      "10   -1.150994\n",
      "19   -1.220844\n",
      "3    -1.412304\n",
      "7    -1.424748\n",
      "Name: col2, dtype: float64\n"
     ]
    }
   ],
   "source": [
    "sorted_col2_values = df['col2'].sort_values(axis=0, ascending=False)\n",
    "print(sorted_col2_values.head(5))\n",
    "print('')\n",
    "print(sorted_col2_values.tail(5))"
   ]
  },
  {
   "cell_type": "markdown",
   "metadata": {},
   "source": [
    "### Zadanie 6"
   ]
  },
  {
   "cell_type": "code",
   "execution_count": 10,
   "metadata": {},
   "outputs": [
    {
     "name": "stdout",
     "output_type": "stream",
     "text": [
      "        col1      col2  col3      col4\n",
      "0   0.374540 -1.012831     0 -1.000000\n",
      "1   1.325254 -0.698584     1 -0.685753\n",
      "2   2.057248 -1.606608     1 -1.593777\n",
      "3   2.655907 -3.018912     1 -2.593777\n",
      "4   2.811925 -1.553263     2 -1.128128\n",
      "5   2.967920 -1.779039     2 -1.353904\n",
      "6   3.026004 -1.711511     3 -1.286376\n",
      "7   3.892180 -3.136259     3 -2.286376\n",
      "8   4.493295 -3.680642     3 -2.830759\n",
      "9   5.201367 -3.569719     4 -2.719836\n",
      "10  5.221952 -4.720713     4 -3.719836\n",
      "11  6.191862 -4.345015     5 -3.344138\n",
      "12  7.024304 -4.945653     5 -3.944777\n",
      "13  7.236643 -5.237347     5 -4.236471\n",
      "14  7.418468 -5.839054     5 -4.838177\n",
      "15  7.601873 -3.986776     6 -2.985899\n",
      "16  7.906115 -4.000273     6 -2.999396\n",
      "17  8.430872 -5.057984     6 -3.999396\n",
      "18  8.862817 -4.235439     7 -3.176851\n",
      "19  9.154046 -5.456283     7 -4.176851\n"
     ]
    }
   ],
   "source": [
    "df_sum = pd.DataFrame.cumsum(self=df)\n",
    "print(df_sum)"
   ]
  },
  {
   "cell_type": "markdown",
   "metadata": {},
   "source": [
    "### Zadanie 7"
   ]
  },
  {
   "cell_type": "code",
   "execution_count": 11,
   "metadata": {},
   "outputs": [
    {
     "name": "stdout",
     "output_type": "stream",
     "text": [
      "-0.4180382371592297\n"
     ]
    }
   ],
   "source": [
    "col2_med = df['col2'].median()\n",
    "print(col2_med)"
   ]
  },
  {
   "cell_type": "markdown",
   "metadata": {},
   "source": [
    "### Zadanie 8"
   ]
  },
  {
   "cell_type": "code",
   "execution_count": 12,
   "metadata": {},
   "outputs": [
    {
     "name": "stdout",
     "output_type": "stream",
     "text": [
      "        col1      col2  col3      col4\n",
      "1   0.950714  0.314247     1  0.314247\n",
      "4   0.156019  1.465649     1  1.465649\n",
      "6   0.058084  0.067528     1  0.067528\n",
      "9   0.708073  0.110923     1  0.110923\n",
      "11  0.969910  0.375698     1  0.375698\n",
      "15  0.183405  1.852278     1  1.852278\n",
      "18  0.431945  0.822545     1  0.822545\n"
     ]
    }
   ],
   "source": [
    "# Select rows where col2 value is bigger than or equal to 0.0\n",
    "\n",
    "search_cond = df['col2'] >= 0.0\n",
    "\n",
    "ext_nonnegative_val = df[search_cond]\n",
    "print(ext_nonnegative_val)"
   ]
  },
  {
   "cell_type": "markdown",
   "metadata": {},
   "source": [
    "### Zadanie 9"
   ]
  },
  {
   "cell_type": "code",
   "execution_count": 13,
   "metadata": {},
   "outputs": [
    {
     "name": "stdout",
     "output_type": "stream",
     "text": [
      "{'col1': {0: 0.3745401188473625, 1: 0.9507143064099162, 2: 0.7319939418114051, 3: 0.5986584841970366, 4: 0.15601864044243652}, 'col2': {0: -1.0128311203344238, 1: 0.3142473325952739, 2: -0.9080240755212109, 3: -1.4123037013352915, 4: 1.465648768921554}, 'col3': {0: 0, 1: 1, 2: 0, 3: 0, 4: 1}, 'col4': {0: -1.0, 1: 0.3142473325952739, 2: -0.9080240755212109, 3: -1.0, 4: 1.465648768921554}}\n"
     ]
    }
   ],
   "source": [
    "df_dict = df.head().to_dict()\n",
    "print(df_dict)"
   ]
  },
  {
   "cell_type": "markdown",
   "metadata": {},
   "source": [
    "### Zadanie 10"
   ]
  },
  {
   "cell_type": "code",
   "execution_count": 14,
   "metadata": {},
   "outputs": [
    {
     "name": "stdout",
     "output_type": "stream",
     "text": [
      "<table border=\"1\" class=\"dataframe\">\n",
      "  <thead>\n",
      "    <tr style=\"text-align: right;\">\n",
      "      <th></th>\n",
      "      <th>col1</th>\n",
      "      <th>col2</th>\n",
      "      <th>col3</th>\n",
      "      <th>col4</th>\n",
      "    </tr>\n",
      "  </thead>\n",
      "  <tbody>\n",
      "    <tr>\n",
      "      <th>0</th>\n",
      "      <td>0.374540</td>\n",
      "      <td>-1.012831</td>\n",
      "      <td>0</td>\n",
      "      <td>-1.000000</td>\n",
      "    </tr>\n",
      "    <tr>\n",
      "      <th>1</th>\n",
      "      <td>0.950714</td>\n",
      "      <td>0.314247</td>\n",
      "      <td>1</td>\n",
      "      <td>0.314247</td>\n",
      "    </tr>\n",
      "    <tr>\n",
      "      <th>2</th>\n",
      "      <td>0.731994</td>\n",
      "      <td>-0.908024</td>\n",
      "      <td>0</td>\n",
      "      <td>-0.908024</td>\n",
      "    </tr>\n",
      "    <tr>\n",
      "      <th>3</th>\n",
      "      <td>0.598658</td>\n",
      "      <td>-1.412304</td>\n",
      "      <td>0</td>\n",
      "      <td>-1.000000</td>\n",
      "    </tr>\n",
      "    <tr>\n",
      "      <th>4</th>\n",
      "      <td>0.156019</td>\n",
      "      <td>1.465649</td>\n",
      "      <td>1</td>\n",
      "      <td>1.465649</td>\n",
      "    </tr>\n",
      "  </tbody>\n",
      "</table>\n"
     ]
    }
   ],
   "source": [
    "df_html = df.head().to_html()\n",
    "print(df_html)"
   ]
  },
  {
   "cell_type": "markdown",
   "metadata": {},
   "source": [
    "### Zadanie 11"
   ]
  },
  {
   "cell_type": "code",
   "execution_count": 15,
   "metadata": {},
   "outputs": [],
   "source": [
    "np.random.seed(42)\n",
    "df = pd.DataFrame(np.random.rand(10, 4), columns=list('ABCD'))"
   ]
  },
  {
   "cell_type": "code",
   "execution_count": 16,
   "metadata": {},
   "outputs": [
    {
     "name": "stdout",
     "output_type": "stream",
     "text": [
      "          A         B         C         D\n",
      "8  0.065052  0.948886  0.965632  0.808397\n"
     ]
    }
   ],
   "source": [
    "search_cond = df['C'] > 0.8\n",
    "\n",
    "ext = df[search_cond]\n",
    "print(ext)"
   ]
  },
  {
   "cell_type": "markdown",
   "metadata": {},
   "source": [
    "### Zadanie 12"
   ]
  },
  {
   "cell_type": "code",
   "execution_count": 17,
   "metadata": {},
   "outputs": [
    {
     "name": "stdout",
     "output_type": "stream",
     "text": [
      "          A         B         C         D\n",
      "0  0.374540  0.950714  0.731994  0.598658\n",
      "4  0.304242  0.524756  0.431945  0.291229\n",
      "7  0.592415  0.046450  0.607545  0.170524\n",
      "9  0.304614  0.097672  0.684233  0.440152\n"
     ]
    }
   ],
   "source": [
    "search_cond = (df['C'] > 0.3) & (df['D'] < 0.7)\n",
    "\n",
    "ext = df[search_cond]\n",
    "print(ext)"
   ]
  },
  {
   "cell_type": "markdown",
   "metadata": {},
   "source": [
    "### Zadanie 13"
   ]
  },
  {
   "cell_type": "code",
   "execution_count": 18,
   "metadata": {},
   "outputs": [
    {
     "name": "stdout",
     "output_type": "stream",
     "text": [
      "A    0.374540\n",
      "B    0.950714\n",
      "C    0.731994\n",
      "D    0.598658\n",
      "Name: 0, dtype: float64\n",
      "A    0.156019\n",
      "B    0.155995\n",
      "C    0.058084\n",
      "D    0.866176\n",
      "Name: 1, dtype: float64\n",
      "A    0.601115\n",
      "B    0.708073\n",
      "C    0.020584\n",
      "D    0.969910\n",
      "Name: 2, dtype: float64\n",
      "A    0.832443\n",
      "B    0.212339\n",
      "C    0.181825\n",
      "D    0.183405\n",
      "Name: 3, dtype: float64\n",
      "A    0.304242\n",
      "B    0.524756\n",
      "C    0.431945\n",
      "D    0.291229\n",
      "Name: 4, dtype: float64\n"
     ]
    }
   ],
   "source": [
    "for index, row in df.head().iterrows():\n",
    "    print(row)"
   ]
  },
  {
   "cell_type": "markdown",
   "metadata": {},
   "source": [
    "### Zadanie 14"
   ]
  },
  {
   "cell_type": "code",
   "execution_count": 19,
   "metadata": {},
   "outputs": [
    {
     "name": "stdout",
     "output_type": "stream",
     "text": [
      "          A         B         C         D\n",
      "0  0.374540  0.950714  0.731994  0.598658\n",
      "1  0.156019  0.155995  0.058084  0.866176\n",
      "2  0.601115  0.708073  0.020584  0.969910\n",
      "3  0.832443       NaN  0.181825  0.183405\n",
      "4  0.304242  0.524756  0.431945  0.291229\n",
      "5  0.611853  0.139494  0.292145  0.366362\n",
      "6  0.456070  0.785176  0.199674  0.514234\n",
      "7  0.592415  0.046450  0.607545  0.170524\n",
      "8  0.065052  0.948886  0.965632       NaN\n",
      "9  0.304614  0.097672  0.684233  0.440152\n"
     ]
    }
   ],
   "source": [
    "# Set the value of column B index 3 to NaN with iloc\n",
    "\n",
    "df['B'].iloc[3] = np.nan\n",
    "\n",
    "# Set the value of column D index 8 to NaN with loc\n",
    "\n",
    "df.loc[8, 'D'] = np.nan\n",
    "\n",
    "print(df)"
   ]
  },
  {
   "cell_type": "markdown",
   "metadata": {},
   "source": [
    "### Zadanie 15"
   ]
  },
  {
   "cell_type": "code",
   "execution_count": 20,
   "metadata": {},
   "outputs": [
    {
     "name": "stdout",
     "output_type": "stream",
     "text": [
      "          A         B         C         D\n",
      "0  0.374540  0.950714  0.731994  0.598658\n",
      "1  0.156019  0.155995  0.058084  0.866176\n",
      "2  0.601115  0.708073  0.020584  0.969910\n",
      "4  0.304242  0.524756  0.431945  0.291229\n",
      "5  0.611853  0.139494  0.292145  0.366362\n",
      "6  0.456070  0.785176  0.199674  0.514234\n",
      "7  0.592415  0.046450  0.607545  0.170524\n",
      "9  0.304614  0.097672  0.684233  0.440152\n"
     ]
    }
   ],
   "source": [
    "df1 = df.dropna()\n",
    "print(df1)"
   ]
  },
  {
   "cell_type": "markdown",
   "metadata": {},
   "source": [
    "### Zadanie 16"
   ]
  },
  {
   "cell_type": "code",
   "execution_count": 21,
   "metadata": {},
   "outputs": [
    {
     "name": "stdout",
     "output_type": "stream",
     "text": [
      "          A         B         C         D\n",
      "0  0.374540  0.950714  0.731994  0.598658\n",
      "1  0.156019  0.155995  0.058084  0.866176\n",
      "2  0.601115  0.708073  0.020584  0.969910\n",
      "3  0.304242  0.524756  0.431945  0.291229\n",
      "4  0.611853  0.139494  0.292145  0.366362\n",
      "5  0.456070  0.785176  0.199674  0.514234\n",
      "6  0.592415  0.046450  0.607545  0.170524\n",
      "7  0.304614  0.097672  0.684233  0.440152\n"
     ]
    }
   ],
   "source": [
    "# Use inplace to directly alter df1 object, use drop to avoid adding index as new column\n",
    "\n",
    "df1.reset_index(inplace=True, drop=True)\n",
    "print(df1)"
   ]
  },
  {
   "cell_type": "markdown",
   "metadata": {},
   "source": [
    "### Zadanie 17"
   ]
  },
  {
   "cell_type": "code",
   "execution_count": 22,
   "metadata": {},
   "outputs": [
    {
     "data": {
      "text/plain": [
       "A    0\n",
       "B    1\n",
       "C    0\n",
       "D    1\n",
       "dtype: int64"
      ]
     },
     "execution_count": 22,
     "metadata": {},
     "output_type": "execute_result"
    }
   ],
   "source": [
    "df.isna().sum()"
   ]
  },
  {
   "cell_type": "markdown",
   "metadata": {},
   "source": [
    "### Zadanie 18"
   ]
  },
  {
   "cell_type": "code",
   "execution_count": 23,
   "metadata": {},
   "outputs": [
    {
     "name": "stdout",
     "output_type": "stream",
     "text": [
      "          A         B         C         D\n",
      "0  0.374540  0.950714  0.731994  0.598658\n",
      "1  0.156019  0.155995  0.058084  0.866176\n",
      "2  0.601115  0.708073  0.020584  0.969910\n",
      "3  0.832443  0.000000  0.181825  0.183405\n",
      "4  0.304242  0.524756  0.431945  0.291229\n",
      "5  0.611853  0.139494  0.292145  0.366362\n",
      "6  0.456070  0.785176  0.199674  0.514234\n",
      "7  0.592415  0.046450  0.607545  0.170524\n",
      "8  0.065052  0.948886  0.965632  0.000000\n",
      "9  0.304614  0.097672  0.684233  0.440152\n",
      "\n",
      "A    0\n",
      "B    0\n",
      "C    0\n",
      "D    0\n",
      "dtype: int64\n"
     ]
    }
   ],
   "source": [
    "df.fillna(value=0, inplace=True)\n",
    "print(df)\n",
    "print('')\n",
    "print(df.isna().sum())"
   ]
  },
  {
   "cell_type": "markdown",
   "metadata": {},
   "source": [
    "### Zadanie 19"
   ]
  },
  {
   "cell_type": "code",
   "execution_count": 24,
   "metadata": {},
   "outputs": [
    {
     "name": "stdout",
     "output_type": "stream",
     "text": [
      "          D         A         B         C\n",
      "0  0.598658  0.374540  0.950714  0.731994\n",
      "1  0.866176  0.156019  0.155995  0.058084\n",
      "2  0.969910  0.601115  0.708073  0.020584\n",
      "3  0.183405  0.832443  0.000000  0.181825\n",
      "4  0.291229  0.304242  0.524756  0.431945\n",
      "5  0.366362  0.611853  0.139494  0.292145\n",
      "6  0.514234  0.456070  0.785176  0.199674\n",
      "7  0.170524  0.592415  0.046450  0.607545\n",
      "8  0.000000  0.065052  0.948886  0.965632\n",
      "9  0.440152  0.304614  0.097672  0.684233\n"
     ]
    }
   ],
   "source": [
    "df = df[['D', 'A', 'B', 'C']]\n",
    "print(df)"
   ]
  },
  {
   "cell_type": "markdown",
   "metadata": {},
   "source": [
    "### Zadanie 20"
   ]
  },
  {
   "cell_type": "code",
   "execution_count": 25,
   "metadata": {},
   "outputs": [
    {
     "name": "stdout",
     "output_type": "stream",
     "text": [
      "          A         B         C\n",
      "0  0.374540  0.950714  0.731994\n",
      "1  0.156019  0.155995  0.058084\n",
      "2  0.601115  0.708073  0.020584\n",
      "3  0.832443  0.000000  0.181825\n",
      "4  0.304242  0.524756  0.431945\n",
      "5  0.611853  0.139494  0.292145\n",
      "6  0.456070  0.785176  0.199674\n",
      "7  0.592415  0.046450  0.607545\n",
      "8  0.065052  0.948886  0.965632\n",
      "9  0.304614  0.097672  0.684233\n"
     ]
    }
   ],
   "source": [
    "df.drop(columns='D', axis=1, inplace=True)\n",
    "print(df)"
   ]
  }
 ],
 "metadata": {
  "kernelspec": {
   "display_name": "uni_eda",
   "language": "python",
   "name": "python3"
  },
  "language_info": {
   "codemirror_mode": {
    "name": "ipython",
    "version": 3
   },
   "file_extension": ".py",
   "mimetype": "text/x-python",
   "name": "python",
   "nbconvert_exporter": "python",
   "pygments_lexer": "ipython3",
   "version": "3.11.6"
  }
 },
 "nbformat": 4,
 "nbformat_minor": 2
}
