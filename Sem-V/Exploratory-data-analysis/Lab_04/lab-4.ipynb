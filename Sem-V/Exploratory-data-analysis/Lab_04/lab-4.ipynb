{
 "cells": [
  {
   "cell_type": "code",
   "execution_count": 1,
   "id": "c3f808a3-5f2e-4e9a-84ee-138656e8080c",
   "metadata": {},
   "outputs": [],
   "source": [
    "import pandas as pd"
   ]
  },
  {
   "cell_type": "markdown",
   "id": "24e1454e-f323-4db0-935d-82faa6edc247",
   "metadata": {},
   "source": [
    "# Dane studenta"
   ]
  },
  {
   "cell_type": "code",
   "execution_count": null,
   "id": "9b427e16-75e7-40cb-ba20-89f3fe796f60",
   "metadata": {},
   "outputs": [],
   "source": []
  },
  {
   "cell_type": "markdown",
   "id": "8cce211a-11f6-403f-a722-3b61d6029965",
   "metadata": {},
   "source": [
    "# Zadania do samodzielnego wykonania"
   ]
  },
  {
   "cell_type": "markdown",
   "id": "7d4d45e4-41e3-419e-918b-280f73f4f3ea",
   "metadata": {},
   "source": [
    "#### Wczytany plik google.csv będzie potrzebny do realizacji zadań od 1 do 10"
   ]
  },
  {
   "cell_type": "markdown",
   "id": "0aa7dbe9-af3a-4560-bc1a-8c74bd2a8fed",
   "metadata": {},
   "source": [
    "## Zadanie 1"
   ]
  },
  {
   "cell_type": "markdown",
   "id": "3af18398-57dd-4c70-aff7-666ba08c9c30",
   "metadata": {},
   "source": [
    "Załaduj zawartość pliku google.csv do obiektu DataFrame za pomocą biblioteki pandas i przypisz go do zmiennej google. Wydrukuj zawartość zmiennej google do konsoli."
   ]
  },
  {
   "cell_type": "markdown",
   "id": "06a12dbd-8ee4-4943-ab17-6916342c7270",
   "metadata": {},
   "source": [
    "### Miejsce na rozwiązanie"
   ]
  },
  {
   "cell_type": "code",
   "execution_count": 2,
   "id": "caa5b57f-2590-4d1b-a0a1-2baf15b16afa",
   "metadata": {},
   "outputs": [
    {
     "name": "stdout",
     "output_type": "stream",
     "text": [
      "          Date     Open       High        Low    Close   Volume\n",
      "0   2020-07-02  1451.84  1488.5200  1451.0650  1469.93  2860915\n",
      "1   2020-07-01  1419.17  1448.4800  1414.1800  1442.00  2109124\n",
      "2   2020-06-30  1396.88  1424.0000  1386.9301  1418.05  2014320\n",
      "3   2020-06-29  1360.34  1398.0000  1351.6500  1397.17  2253678\n",
      "4   2020-06-26  1432.63  1437.0200  1355.0000  1362.54  4882014\n",
      "5   2020-06-25  1431.22  1442.3200  1419.5401  1441.10  1197907\n",
      "6   2020-06-24  1463.28  1475.7900  1430.0000  1432.70  1579579\n",
      "7   2020-06-23  1452.00  1475.2000  1445.0000  1463.98  1887583\n",
      "8   2020-06-22  1425.01  1450.9500  1419.1900  1450.66  1472072\n",
      "9   2020-06-19  1440.00  1444.5000  1419.0000  1424.64  2639167\n",
      "10  2020-06-18  1449.85  1452.9699  1426.2350  1434.12  1743071\n",
      "11  2020-06-17  1452.94  1462.2000  1435.1250  1452.54  1530500\n",
      "12  2020-06-16  1449.00  1457.1700  1428.9900  1446.47  1534826\n",
      "13  2020-06-15  1389.49  1425.0000  1387.1952  1420.74  1527652\n",
      "14  2020-06-12  1425.86  1434.5050  1385.8000  1412.92  1833756\n",
      "15  2020-06-11  1441.03  1451.6033  1398.4100  1401.90  2357243\n",
      "16  2020-06-10  1461.51  1472.7700  1454.3550  1464.70  1588116\n",
      "17  2020-06-09  1445.24  1467.8000  1442.3600  1452.08  1681155\n",
      "18  2020-06-08  1426.28  1449.0000  1424.4800  1448.04  1693881\n",
      "19  2020-06-05  1415.64  1446.3000  1407.6213  1440.02  2132350\n",
      "20  2020-06-04  1436.78  1441.3200  1406.0100  1414.30  1349105\n",
      "21  2020-06-03  1442.70  1449.0100  1431.6200  1439.25  1386640\n",
      "22  2020-06-02  1435.00  1443.0000  1421.6100  1442.31  1172069\n",
      "23  2020-06-01  1425.70  1441.5800  1422.2800  1434.87  1259254\n",
      "24  2020-05-29  1420.43  1436.7300  1415.9800  1433.52  1852522\n",
      "25  2020-05-28  1400.00  1444.4600  1399.0760  1418.24  1759787\n",
      "26  2020-05-27  1420.00  1425.3450  1394.6000  1420.28  1584185\n",
      "27  2020-05-26  1441.96  1445.1100  1419.3950  1421.37  2229488\n",
      "28  2020-05-22  1403.90  1417.0000  1395.9500  1413.24  1427206\n",
      "29  2020-05-21  1410.99  1416.4600  1394.3900  1406.75  1544976\n"
     ]
    }
   ],
   "source": [
    "google = pd.read_csv('./datasets/google.csv')\n",
    "print(google)"
   ]
  },
  {
   "cell_type": "markdown",
   "id": "0425c4b1-3025-4964-97d1-801e5c515361",
   "metadata": {},
   "source": [
    "## Zadanie 2"
   ]
  },
  {
   "cell_type": "markdown",
   "id": "f76d152f-e53c-4999-a8bd-257613802ee7",
   "metadata": {},
   "source": [
    "Dla załadowanego pliku z zadania 1 wykonaj następujące polecenia:\n",
    "- wydrukuj podstawowe informacje o obiekcie google\n",
    "- wydrukuj pustą linię\n",
    "- wydrukuj podstawowe statystyki obiektu google"
   ]
  },
  {
   "cell_type": "markdown",
   "id": "8f7a14aa-0478-4b30-927e-dfac05f733e0",
   "metadata": {},
   "source": [
    "Wskazówka: Użyj `pd.DataFrame.into()` oraz `pd.DataFrame.describe()`."
   ]
  },
  {
   "cell_type": "markdown",
   "id": "29ccaadb-169c-4dd2-8283-d493a9a84a55",
   "metadata": {},
   "source": [
    "### Miejsce na rozwiązanie"
   ]
  },
  {
   "cell_type": "code",
   "execution_count": 3,
   "id": "e4f4e006-18c8-4a80-985c-a9b48ff30261",
   "metadata": {},
   "outputs": [
    {
     "name": "stdout",
     "output_type": "stream",
     "text": [
      "<class 'pandas.core.frame.DataFrame'>\n",
      "RangeIndex: 30 entries, 0 to 29\n",
      "Data columns (total 6 columns):\n",
      " #   Column  Non-Null Count  Dtype  \n",
      "---  ------  --------------  -----  \n",
      " 0   Date    30 non-null     object \n",
      " 1   Open    30 non-null     float64\n",
      " 2   High    30 non-null     float64\n",
      " 3   Low     30 non-null     float64\n",
      " 4   Close   30 non-null     float64\n",
      " 5   Volume  30 non-null     int64  \n",
      "dtypes: float64(4), int64(1), object(1)\n",
      "memory usage: 1.5+ KB\n",
      "None\n",
      "\n",
      "              Open         High          Low        Close        Volume\n",
      "count    30.000000    30.000000    30.000000    30.000000  3.000000e+01\n",
      "mean   1428.889000  1445.470440  1412.767923  1430.681000  1.869471e+06\n",
      "std      22.943586    19.462454    24.728358    22.717075  7.014872e+05\n",
      "min    1360.340000  1398.000000  1351.650000  1362.540000  1.172069e+06\n",
      "25%    1419.377500  1436.802500  1396.565000  1418.097500  1.528364e+06\n",
      "50%    1431.925000  1444.805000  1419.095000  1433.820000  1.687518e+06\n",
      "75%    1444.605000  1452.628250  1428.301250  1445.430000  2.085423e+06\n",
      "max    1463.280000  1488.520000  1454.355000  1469.930000  4.882014e+06\n"
     ]
    }
   ],
   "source": [
    "print(google.info())\n",
    "print('')\n",
    "print(google.describe())"
   ]
  },
  {
   "cell_type": "markdown",
   "id": "089b25b7-6bf5-4e44-9315-eaf04cbef788",
   "metadata": {},
   "source": [
    "## Zadanie 3"
   ]
  },
  {
   "cell_type": "markdown",
   "id": "fdf2ee5c-7aa8-48e9-9d8e-e4568ce3847d",
   "metadata": {},
   "source": [
    "Dla załadowanego pliku z zadania 1 zamień indeks podanego obiektu DataFrame na kolumnę i przypisz na stałe zmiany do zmiennej google. Wydrukuj zawartość zmiennej google do konsoli."
   ]
  },
  {
   "cell_type": "markdown",
   "id": "5bb87c34-68b3-42dd-89d4-e91ec3d48b8f",
   "metadata": {},
   "source": [
    "### Miejsce na rozwiązanie"
   ]
  },
  {
   "cell_type": "code",
   "execution_count": 4,
   "id": "a35b2096-0022-4337-837c-ad8e14aa7cb1",
   "metadata": {},
   "outputs": [
    {
     "name": "stdout",
     "output_type": "stream",
     "text": [
      "None\n"
     ]
    }
   ],
   "source": [
    "print(google.reset_index(inplace=True)) # inplace=True - reassign the return value back to the google variable"
   ]
  },
  {
   "cell_type": "markdown",
   "id": "8d5c0a3a-9dab-45c5-9de1-044c22d37ffa",
   "metadata": {},
   "source": [
    "## Zadanie 4"
   ]
  },
  {
   "cell_type": "markdown",
   "id": "24a15a6f-f38d-403f-8389-8b973fc1b5e7",
   "metadata": {},
   "source": [
    "Przypisz dwie nowe kolumny do obiektu google (z pliku z zad.1) dodając kolumnę z numerem bieżącego miesiąca o nazwie 'Month' oraz kolumnę zawierającą odpowiedni rok o nazwie 'Year'. Wydrukuj wynik do konsoli."
   ]
  },
  {
   "cell_type": "markdown",
   "id": "670a4ee8-8541-4b91-ad4e-2c6e98f8d280",
   "metadata": {},
   "source": [
    "### Miejsce na rozwiązanie"
   ]
  },
  {
   "cell_type": "code",
   "execution_count": 5,
   "id": "0bf96acd-f9fe-4e5e-88a4-505667f58bda",
   "metadata": {},
   "outputs": [
    {
     "name": "stdout",
     "output_type": "stream",
     "text": [
      "    index  Year  Month        Date     Open       High        Low    Close  \\\n",
      "0       0  2023     11  2020-07-02  1451.84  1488.5200  1451.0650  1469.93   \n",
      "1       1  2023     11  2020-07-01  1419.17  1448.4800  1414.1800  1442.00   \n",
      "2       2  2023     11  2020-06-30  1396.88  1424.0000  1386.9301  1418.05   \n",
      "3       3  2023     11  2020-06-29  1360.34  1398.0000  1351.6500  1397.17   \n",
      "4       4  2023     11  2020-06-26  1432.63  1437.0200  1355.0000  1362.54   \n",
      "5       5  2023     11  2020-06-25  1431.22  1442.3200  1419.5401  1441.10   \n",
      "6       6  2023     11  2020-06-24  1463.28  1475.7900  1430.0000  1432.70   \n",
      "7       7  2023     11  2020-06-23  1452.00  1475.2000  1445.0000  1463.98   \n",
      "8       8  2023     11  2020-06-22  1425.01  1450.9500  1419.1900  1450.66   \n",
      "9       9  2023     11  2020-06-19  1440.00  1444.5000  1419.0000  1424.64   \n",
      "10     10  2023     11  2020-06-18  1449.85  1452.9699  1426.2350  1434.12   \n",
      "11     11  2023     11  2020-06-17  1452.94  1462.2000  1435.1250  1452.54   \n",
      "12     12  2023     11  2020-06-16  1449.00  1457.1700  1428.9900  1446.47   \n",
      "13     13  2023     11  2020-06-15  1389.49  1425.0000  1387.1952  1420.74   \n",
      "14     14  2023     11  2020-06-12  1425.86  1434.5050  1385.8000  1412.92   \n",
      "15     15  2023     11  2020-06-11  1441.03  1451.6033  1398.4100  1401.90   \n",
      "16     16  2023     11  2020-06-10  1461.51  1472.7700  1454.3550  1464.70   \n",
      "17     17  2023     11  2020-06-09  1445.24  1467.8000  1442.3600  1452.08   \n",
      "18     18  2023     11  2020-06-08  1426.28  1449.0000  1424.4800  1448.04   \n",
      "19     19  2023     11  2020-06-05  1415.64  1446.3000  1407.6213  1440.02   \n",
      "20     20  2023     11  2020-06-04  1436.78  1441.3200  1406.0100  1414.30   \n",
      "21     21  2023     11  2020-06-03  1442.70  1449.0100  1431.6200  1439.25   \n",
      "22     22  2023     11  2020-06-02  1435.00  1443.0000  1421.6100  1442.31   \n",
      "23     23  2023     11  2020-06-01  1425.70  1441.5800  1422.2800  1434.87   \n",
      "24     24  2023     11  2020-05-29  1420.43  1436.7300  1415.9800  1433.52   \n",
      "25     25  2023     11  2020-05-28  1400.00  1444.4600  1399.0760  1418.24   \n",
      "26     26  2023     11  2020-05-27  1420.00  1425.3450  1394.6000  1420.28   \n",
      "27     27  2023     11  2020-05-26  1441.96  1445.1100  1419.3950  1421.37   \n",
      "28     28  2023     11  2020-05-22  1403.90  1417.0000  1395.9500  1413.24   \n",
      "29     29  2023     11  2020-05-21  1410.99  1416.4600  1394.3900  1406.75   \n",
      "\n",
      "     Volume  \n",
      "0   2860915  \n",
      "1   2109124  \n",
      "2   2014320  \n",
      "3   2253678  \n",
      "4   4882014  \n",
      "5   1197907  \n",
      "6   1579579  \n",
      "7   1887583  \n",
      "8   1472072  \n",
      "9   2639167  \n",
      "10  1743071  \n",
      "11  1530500  \n",
      "12  1534826  \n",
      "13  1527652  \n",
      "14  1833756  \n",
      "15  2357243  \n",
      "16  1588116  \n",
      "17  1681155  \n",
      "18  1693881  \n",
      "19  2132350  \n",
      "20  1349105  \n",
      "21  1386640  \n",
      "22  1172069  \n",
      "23  1259254  \n",
      "24  1852522  \n",
      "25  1759787  \n",
      "26  1584185  \n",
      "27  2229488  \n",
      "28  1427206  \n",
      "29  1544976  \n"
     ]
    }
   ],
   "source": [
    "google.insert(loc=1, column='Month', value=11)\n",
    "google.insert(loc=1, column='Year', value=2023)\n",
    "print(google)"
   ]
  },
  {
   "cell_type": "markdown",
   "id": "c671535b-0f4f-4623-bd0b-2f499b5e9a60",
   "metadata": {},
   "source": [
    "## Zadanie 5"
   ]
  },
  {
   "cell_type": "markdown",
   "id": "0d65a474-f297-4b76-b71f-69d6bc25c109",
   "metadata": {},
   "source": [
    "Oblicz średnią cenę zamknięcia dla każdego miesiąca. Wydrukuj wynik do konsoli.\n",
    "\n",
    "Wskazówka: dane pogrupuj według miesiąca - kolumna Month, a następnie policz średnią wartość."
   ]
  },
  {
   "cell_type": "markdown",
   "id": "43f5942a-17dc-423e-bcaf-9623f0f41438",
   "metadata": {},
   "source": [
    "### Miejsce na rozwiązanie"
   ]
  },
  {
   "cell_type": "code",
   "execution_count": 6,
   "id": "bcad4a71-98a1-4101-bec3-1fb516f4378c",
   "metadata": {},
   "outputs": [
    {
     "name": "stdout",
     "output_type": "stream",
     "text": [
      "Month\n",
      "11    1430.681\n",
      "Name: Close, dtype: float64\n"
     ]
    }
   ],
   "source": [
    "close_avg = google.groupby(by='Month')['Close'].mean()\n",
    "print(close_avg)"
   ]
  },
  {
   "cell_type": "markdown",
   "id": "b2aa9c9e-de40-4aae-a303-b22a6b59c957",
   "metadata": {},
   "source": [
    "## Zadanie 6"
   ]
  },
  {
   "cell_type": "markdown",
   "id": "c9d1c5b8-03ff-424e-ac4a-c67d6d938d63",
   "metadata": {},
   "source": [
    "Znajdź indeks dla którego kolumna Close ma najniższą wartość i przypisz go do zmiennej idx_min. Następnie wyodrębnij wiersz dla tego indeksu z obiektu google jako obiekt DataFrame. Wydrukuj ten wiersz do konsoli."
   ]
  },
  {
   "cell_type": "markdown",
   "id": "1f2acb24-b9a3-4c26-a65e-3e9c6cb36460",
   "metadata": {},
   "source": [
    "### Miejsce na rozwiązanie"
   ]
  },
  {
   "cell_type": "code",
   "execution_count": 7,
   "id": "0fdd9911-622e-44d3-8f18-94924644a492",
   "metadata": {},
   "outputs": [
    {
     "name": "stdout",
     "output_type": "stream",
     "text": [
      "Min idx column: 4\n",
      "  index  Year Month        Date     Open     High     Low    Close   Volume\n",
      "4     4  2023    11  2020-06-26  1432.63  1437.02  1355.0  1362.54  4882014\n"
     ]
    }
   ],
   "source": [
    "idx_min = google['Close'].idxmin()\n",
    "print(f'Min idx column: {idx_min}')\n",
    "\n",
    "data_row = pd.DataFrame(data=google.loc[idx_min]).transpose()\n",
    "print(data_row)"
   ]
  },
  {
   "cell_type": "markdown",
   "id": "43b4f911-278b-4757-aeb5-138e31b91d17",
   "metadata": {},
   "source": [
    "## Zadanie 7"
   ]
  },
  {
   "cell_type": "markdown",
   "id": "2206f3de-0093-43d9-97a3-067acd6ebb0c",
   "metadata": {},
   "source": [
    "Wyodrębnij kolumny Date, Open, Close, Volume z obiektu google. Wydrukuj wynik do konsoli."
   ]
  },
  {
   "cell_type": "markdown",
   "id": "180e0ace-632e-4e81-acdf-96615cb821b8",
   "metadata": {},
   "source": [
    "### Miejsce na rozwiązanie"
   ]
  },
  {
   "cell_type": "code",
   "execution_count": 8,
   "id": "e62638d4-03cb-4bc0-afa8-5c41a47749ac",
   "metadata": {},
   "outputs": [
    {
     "name": "stdout",
     "output_type": "stream",
     "text": [
      "          Date     Open    Close\n",
      "0   2020-07-02  1451.84  1469.93\n",
      "1   2020-07-01  1419.17  1442.00\n",
      "2   2020-06-30  1396.88  1418.05\n",
      "3   2020-06-29  1360.34  1397.17\n",
      "4   2020-06-26  1432.63  1362.54\n",
      "5   2020-06-25  1431.22  1441.10\n",
      "6   2020-06-24  1463.28  1432.70\n",
      "7   2020-06-23  1452.00  1463.98\n",
      "8   2020-06-22  1425.01  1450.66\n",
      "9   2020-06-19  1440.00  1424.64\n",
      "10  2020-06-18  1449.85  1434.12\n",
      "11  2020-06-17  1452.94  1452.54\n",
      "12  2020-06-16  1449.00  1446.47\n",
      "13  2020-06-15  1389.49  1420.74\n",
      "14  2020-06-12  1425.86  1412.92\n",
      "15  2020-06-11  1441.03  1401.90\n",
      "16  2020-06-10  1461.51  1464.70\n",
      "17  2020-06-09  1445.24  1452.08\n",
      "18  2020-06-08  1426.28  1448.04\n",
      "19  2020-06-05  1415.64  1440.02\n",
      "20  2020-06-04  1436.78  1414.30\n",
      "21  2020-06-03  1442.70  1439.25\n",
      "22  2020-06-02  1435.00  1442.31\n",
      "23  2020-06-01  1425.70  1434.87\n",
      "24  2020-05-29  1420.43  1433.52\n",
      "25  2020-05-28  1400.00  1418.24\n",
      "26  2020-05-27  1420.00  1420.28\n",
      "27  2020-05-26  1441.96  1421.37\n",
      "28  2020-05-22  1403.90  1413.24\n",
      "29  2020-05-21  1410.99  1406.75\n"
     ]
    }
   ],
   "source": [
    "extracted_columns = google[['Date', 'Open', 'Close']]\n",
    "print(extracted_columns)"
   ]
  },
  {
   "cell_type": "markdown",
   "id": "cb8a3b43-dc8a-4222-a8ed-ae0b4af3abc7",
   "metadata": {},
   "source": [
    "## Zadanie 8"
   ]
  },
  {
   "cell_type": "markdown",
   "id": "40cecae3-8073-4a55-b98b-94ba40e49129",
   "metadata": {},
   "source": [
    "Ustaw indeks dla kolumny Date. Wydrukuj wynik do konsoli."
   ]
  },
  {
   "cell_type": "markdown",
   "id": "4236e670-8745-4486-8275-9cd363f63df0",
   "metadata": {},
   "source": [
    "### Miejsce na rozwiązanie"
   ]
  },
  {
   "cell_type": "code",
   "execution_count": 9,
   "id": "3f501ae7-def6-443e-885a-739d08f0702f",
   "metadata": {},
   "outputs": [
    {
     "name": "stdout",
     "output_type": "stream",
     "text": [
      "               Open    Close\n",
      "Date                        \n",
      "2020-07-02  1451.84  1469.93\n",
      "2020-07-01  1419.17  1442.00\n",
      "2020-06-30  1396.88  1418.05\n",
      "2020-06-29  1360.34  1397.17\n",
      "2020-06-26  1432.63  1362.54\n",
      "2020-06-25  1431.22  1441.10\n",
      "2020-06-24  1463.28  1432.70\n",
      "2020-06-23  1452.00  1463.98\n",
      "2020-06-22  1425.01  1450.66\n",
      "2020-06-19  1440.00  1424.64\n",
      "2020-06-18  1449.85  1434.12\n",
      "2020-06-17  1452.94  1452.54\n",
      "2020-06-16  1449.00  1446.47\n",
      "2020-06-15  1389.49  1420.74\n",
      "2020-06-12  1425.86  1412.92\n",
      "2020-06-11  1441.03  1401.90\n",
      "2020-06-10  1461.51  1464.70\n",
      "2020-06-09  1445.24  1452.08\n",
      "2020-06-08  1426.28  1448.04\n",
      "2020-06-05  1415.64  1440.02\n",
      "2020-06-04  1436.78  1414.30\n",
      "2020-06-03  1442.70  1439.25\n",
      "2020-06-02  1435.00  1442.31\n",
      "2020-06-01  1425.70  1434.87\n",
      "2020-05-29  1420.43  1433.52\n",
      "2020-05-28  1400.00  1418.24\n",
      "2020-05-27  1420.00  1420.28\n",
      "2020-05-26  1441.96  1421.37\n",
      "2020-05-22  1403.90  1413.24\n",
      "2020-05-21  1410.99  1406.75\n"
     ]
    }
   ],
   "source": [
    "extracted_columns.set_index(keys='Date', inplace=True)\n",
    "print(extracted_columns)"
   ]
  },
  {
   "cell_type": "markdown",
   "id": "412c0809-5ca5-493c-aea3-c8b09fef5d63",
   "metadata": {},
   "source": [
    "## Zadanie 9"
   ]
  },
  {
   "cell_type": "markdown",
   "id": "a8576f71-d7b2-4c59-a2f4-8e9854763f20",
   "metadata": {},
   "source": [
    "Trwale usuń kolumny Year i Month z obiektu google. Wydrukuj zmienną google do konsoli."
   ]
  },
  {
   "cell_type": "markdown",
   "id": "7001c8e2-cae9-47ee-abbe-a643fbb8f186",
   "metadata": {},
   "source": [
    "### Miejsce na rozwiązanie"
   ]
  },
  {
   "cell_type": "code",
   "execution_count": 10,
   "id": "c15df673-4fcc-4f91-b759-ac422977d771",
   "metadata": {},
   "outputs": [
    {
     "name": "stdout",
     "output_type": "stream",
     "text": [
      "    index        Date     Open       High        Low    Close   Volume\n",
      "0       0  2020-07-02  1451.84  1488.5200  1451.0650  1469.93  2860915\n",
      "1       1  2020-07-01  1419.17  1448.4800  1414.1800  1442.00  2109124\n",
      "2       2  2020-06-30  1396.88  1424.0000  1386.9301  1418.05  2014320\n",
      "3       3  2020-06-29  1360.34  1398.0000  1351.6500  1397.17  2253678\n",
      "4       4  2020-06-26  1432.63  1437.0200  1355.0000  1362.54  4882014\n",
      "5       5  2020-06-25  1431.22  1442.3200  1419.5401  1441.10  1197907\n",
      "6       6  2020-06-24  1463.28  1475.7900  1430.0000  1432.70  1579579\n",
      "7       7  2020-06-23  1452.00  1475.2000  1445.0000  1463.98  1887583\n",
      "8       8  2020-06-22  1425.01  1450.9500  1419.1900  1450.66  1472072\n",
      "9       9  2020-06-19  1440.00  1444.5000  1419.0000  1424.64  2639167\n",
      "10     10  2020-06-18  1449.85  1452.9699  1426.2350  1434.12  1743071\n",
      "11     11  2020-06-17  1452.94  1462.2000  1435.1250  1452.54  1530500\n",
      "12     12  2020-06-16  1449.00  1457.1700  1428.9900  1446.47  1534826\n",
      "13     13  2020-06-15  1389.49  1425.0000  1387.1952  1420.74  1527652\n",
      "14     14  2020-06-12  1425.86  1434.5050  1385.8000  1412.92  1833756\n",
      "15     15  2020-06-11  1441.03  1451.6033  1398.4100  1401.90  2357243\n",
      "16     16  2020-06-10  1461.51  1472.7700  1454.3550  1464.70  1588116\n",
      "17     17  2020-06-09  1445.24  1467.8000  1442.3600  1452.08  1681155\n",
      "18     18  2020-06-08  1426.28  1449.0000  1424.4800  1448.04  1693881\n",
      "19     19  2020-06-05  1415.64  1446.3000  1407.6213  1440.02  2132350\n",
      "20     20  2020-06-04  1436.78  1441.3200  1406.0100  1414.30  1349105\n",
      "21     21  2020-06-03  1442.70  1449.0100  1431.6200  1439.25  1386640\n",
      "22     22  2020-06-02  1435.00  1443.0000  1421.6100  1442.31  1172069\n",
      "23     23  2020-06-01  1425.70  1441.5800  1422.2800  1434.87  1259254\n",
      "24     24  2020-05-29  1420.43  1436.7300  1415.9800  1433.52  1852522\n",
      "25     25  2020-05-28  1400.00  1444.4600  1399.0760  1418.24  1759787\n",
      "26     26  2020-05-27  1420.00  1425.3450  1394.6000  1420.28  1584185\n",
      "27     27  2020-05-26  1441.96  1445.1100  1419.3950  1421.37  2229488\n",
      "28     28  2020-05-22  1403.90  1417.0000  1395.9500  1413.24  1427206\n",
      "29     29  2020-05-21  1410.99  1416.4600  1394.3900  1406.75  1544976\n"
     ]
    }
   ],
   "source": [
    "google.drop(columns=['Year', 'Month'], inplace=True)\n",
    "print(google)"
   ]
  },
  {
   "cell_type": "markdown",
   "id": "e3f8f22e-414b-4d93-bfff-56aecfa4f423",
   "metadata": {},
   "source": [
    "## Zadanie 10"
   ]
  },
  {
   "cell_type": "markdown",
   "id": "ce16893f-f3cd-44e5-b7f1-8156fd3226c6",
   "metadata": {},
   "source": [
    "Zamień następujące nazwy kolumn w zmiennej google:\n",
    " - Open -> O\n",
    " - High -> H\n",
    " - Low -> L\n",
    " - Close -> C\n",
    " - Volume -> V\n",
    "\n",
    "Wydrukuj wynik do konsoli."
   ]
  },
  {
   "cell_type": "markdown",
   "id": "59c0d570-1015-4caf-9823-6700b43d8b9b",
   "metadata": {},
   "source": [
    "### Miejsce na rozwiązanie"
   ]
  },
  {
   "cell_type": "code",
   "execution_count": 11,
   "id": "eaf79cb5-b363-4261-9c66-5db0f4f9c164",
   "metadata": {},
   "outputs": [
    {
     "name": "stdout",
     "output_type": "stream",
     "text": [
      "    index        Date        O          H          L        C        V\n",
      "0       0  2020-07-02  1451.84  1488.5200  1451.0650  1469.93  2860915\n",
      "1       1  2020-07-01  1419.17  1448.4800  1414.1800  1442.00  2109124\n",
      "2       2  2020-06-30  1396.88  1424.0000  1386.9301  1418.05  2014320\n",
      "3       3  2020-06-29  1360.34  1398.0000  1351.6500  1397.17  2253678\n",
      "4       4  2020-06-26  1432.63  1437.0200  1355.0000  1362.54  4882014\n",
      "5       5  2020-06-25  1431.22  1442.3200  1419.5401  1441.10  1197907\n",
      "6       6  2020-06-24  1463.28  1475.7900  1430.0000  1432.70  1579579\n",
      "7       7  2020-06-23  1452.00  1475.2000  1445.0000  1463.98  1887583\n",
      "8       8  2020-06-22  1425.01  1450.9500  1419.1900  1450.66  1472072\n",
      "9       9  2020-06-19  1440.00  1444.5000  1419.0000  1424.64  2639167\n",
      "10     10  2020-06-18  1449.85  1452.9699  1426.2350  1434.12  1743071\n",
      "11     11  2020-06-17  1452.94  1462.2000  1435.1250  1452.54  1530500\n",
      "12     12  2020-06-16  1449.00  1457.1700  1428.9900  1446.47  1534826\n",
      "13     13  2020-06-15  1389.49  1425.0000  1387.1952  1420.74  1527652\n",
      "14     14  2020-06-12  1425.86  1434.5050  1385.8000  1412.92  1833756\n",
      "15     15  2020-06-11  1441.03  1451.6033  1398.4100  1401.90  2357243\n",
      "16     16  2020-06-10  1461.51  1472.7700  1454.3550  1464.70  1588116\n",
      "17     17  2020-06-09  1445.24  1467.8000  1442.3600  1452.08  1681155\n",
      "18     18  2020-06-08  1426.28  1449.0000  1424.4800  1448.04  1693881\n",
      "19     19  2020-06-05  1415.64  1446.3000  1407.6213  1440.02  2132350\n",
      "20     20  2020-06-04  1436.78  1441.3200  1406.0100  1414.30  1349105\n",
      "21     21  2020-06-03  1442.70  1449.0100  1431.6200  1439.25  1386640\n",
      "22     22  2020-06-02  1435.00  1443.0000  1421.6100  1442.31  1172069\n",
      "23     23  2020-06-01  1425.70  1441.5800  1422.2800  1434.87  1259254\n",
      "24     24  2020-05-29  1420.43  1436.7300  1415.9800  1433.52  1852522\n",
      "25     25  2020-05-28  1400.00  1444.4600  1399.0760  1418.24  1759787\n",
      "26     26  2020-05-27  1420.00  1425.3450  1394.6000  1420.28  1584185\n",
      "27     27  2020-05-26  1441.96  1445.1100  1419.3950  1421.37  2229488\n",
      "28     28  2020-05-22  1403.90  1417.0000  1395.9500  1413.24  1427206\n",
      "29     29  2020-05-21  1410.99  1416.4600  1394.3900  1406.75  1544976\n"
     ]
    }
   ],
   "source": [
    "google.rename(\n",
    "    columns={'Open': 'O', 'High': 'H', 'Low': 'L', 'Close': 'C', 'Volume': 'V'},\n",
    "    inplace=True,\n",
    ")\n",
    "print(google)"
   ]
  },
  {
   "cell_type": "markdown",
   "id": "f36563ca-b7c3-438b-b361-0f75cd6119ed",
   "metadata": {},
   "source": [
    "#### Utworzony w zadanu 11 df będzie potrzebny do realizacji pozostałych zadań"
   ]
  },
  {
   "cell_type": "markdown",
   "id": "40c8d395-9b1b-4b0d-ae4f-6a589ddb3e03",
   "metadata": {},
   "source": [
    "## Zadanie 11"
   ]
  },
  {
   "cell_type": "markdown",
   "id": "87754ba8-641b-4dec-8bb6-6841f442f2aa",
   "metadata": {},
   "source": [
    "Załaduj plik csv do obiektu DataFrame o nazwie df z domyślnymi parametrami funkcji pd.read_csv() i wyświetl pierwsze 5 wierszy. Adres URL do pliku:\n",
    " - https://ml-repository-krakers.s3-eu-west-1.amazonaws.com/kaggle+/churn_modelling/Telco-Customer-Churn.csv"
   ]
  },
  {
   "cell_type": "markdown",
   "id": "2d7581b4-c775-4bc6-92b7-c4a0388ff220",
   "metadata": {},
   "source": [
    "Uwaga: Plik należy załadować bezpośrednio z adresu URL"
   ]
  },
  {
   "cell_type": "markdown",
   "id": "a22498f3-af7a-423f-b48d-fc510cbd63bf",
   "metadata": {},
   "source": [
    "### Miejsce na rozwiązanie"
   ]
  },
  {
   "cell_type": "code",
   "execution_count": 12,
   "id": "f3aebc95-bfe1-4d1b-b006-e7bfc9d56e81",
   "metadata": {},
   "outputs": [
    {
     "data": {
      "text/html": [
       "<div>\n",
       "<style scoped>\n",
       "    .dataframe tbody tr th:only-of-type {\n",
       "        vertical-align: middle;\n",
       "    }\n",
       "\n",
       "    .dataframe tbody tr th {\n",
       "        vertical-align: top;\n",
       "    }\n",
       "\n",
       "    .dataframe thead th {\n",
       "        text-align: right;\n",
       "    }\n",
       "</style>\n",
       "<table border=\"1\" class=\"dataframe\">\n",
       "  <thead>\n",
       "    <tr style=\"text-align: right;\">\n",
       "      <th></th>\n",
       "      <th>customerID</th>\n",
       "      <th>gender</th>\n",
       "      <th>SeniorCitizen</th>\n",
       "      <th>Partner</th>\n",
       "      <th>Dependents</th>\n",
       "      <th>tenure</th>\n",
       "      <th>PhoneService</th>\n",
       "      <th>MultipleLines</th>\n",
       "      <th>InternetService</th>\n",
       "      <th>OnlineSecurity</th>\n",
       "      <th>...</th>\n",
       "      <th>DeviceProtection</th>\n",
       "      <th>TechSupport</th>\n",
       "      <th>StreamingTV</th>\n",
       "      <th>StreamingMovies</th>\n",
       "      <th>Contract</th>\n",
       "      <th>PaperlessBilling</th>\n",
       "      <th>PaymentMethod</th>\n",
       "      <th>MonthlyCharges</th>\n",
       "      <th>TotalCharges</th>\n",
       "      <th>Churn</th>\n",
       "    </tr>\n",
       "  </thead>\n",
       "  <tbody>\n",
       "    <tr>\n",
       "      <th>0</th>\n",
       "      <td>7590-VHVEG</td>\n",
       "      <td>Female</td>\n",
       "      <td>0</td>\n",
       "      <td>Yes</td>\n",
       "      <td>No</td>\n",
       "      <td>1</td>\n",
       "      <td>No</td>\n",
       "      <td>No phone service</td>\n",
       "      <td>DSL</td>\n",
       "      <td>No</td>\n",
       "      <td>...</td>\n",
       "      <td>No</td>\n",
       "      <td>No</td>\n",
       "      <td>No</td>\n",
       "      <td>No</td>\n",
       "      <td>Month-to-month</td>\n",
       "      <td>Yes</td>\n",
       "      <td>Electronic check</td>\n",
       "      <td>29.85</td>\n",
       "      <td>29.85</td>\n",
       "      <td>No</td>\n",
       "    </tr>\n",
       "    <tr>\n",
       "      <th>1</th>\n",
       "      <td>5575-GNVDE</td>\n",
       "      <td>Male</td>\n",
       "      <td>0</td>\n",
       "      <td>No</td>\n",
       "      <td>No</td>\n",
       "      <td>34</td>\n",
       "      <td>Yes</td>\n",
       "      <td>No</td>\n",
       "      <td>DSL</td>\n",
       "      <td>Yes</td>\n",
       "      <td>...</td>\n",
       "      <td>Yes</td>\n",
       "      <td>No</td>\n",
       "      <td>No</td>\n",
       "      <td>No</td>\n",
       "      <td>One year</td>\n",
       "      <td>No</td>\n",
       "      <td>Mailed check</td>\n",
       "      <td>56.95</td>\n",
       "      <td>1889.5</td>\n",
       "      <td>No</td>\n",
       "    </tr>\n",
       "    <tr>\n",
       "      <th>2</th>\n",
       "      <td>3668-QPYBK</td>\n",
       "      <td>Male</td>\n",
       "      <td>0</td>\n",
       "      <td>No</td>\n",
       "      <td>No</td>\n",
       "      <td>2</td>\n",
       "      <td>Yes</td>\n",
       "      <td>No</td>\n",
       "      <td>DSL</td>\n",
       "      <td>Yes</td>\n",
       "      <td>...</td>\n",
       "      <td>No</td>\n",
       "      <td>No</td>\n",
       "      <td>No</td>\n",
       "      <td>No</td>\n",
       "      <td>Month-to-month</td>\n",
       "      <td>Yes</td>\n",
       "      <td>Mailed check</td>\n",
       "      <td>53.85</td>\n",
       "      <td>108.15</td>\n",
       "      <td>Yes</td>\n",
       "    </tr>\n",
       "    <tr>\n",
       "      <th>3</th>\n",
       "      <td>7795-CFOCW</td>\n",
       "      <td>Male</td>\n",
       "      <td>0</td>\n",
       "      <td>No</td>\n",
       "      <td>No</td>\n",
       "      <td>45</td>\n",
       "      <td>No</td>\n",
       "      <td>No phone service</td>\n",
       "      <td>DSL</td>\n",
       "      <td>Yes</td>\n",
       "      <td>...</td>\n",
       "      <td>Yes</td>\n",
       "      <td>Yes</td>\n",
       "      <td>No</td>\n",
       "      <td>No</td>\n",
       "      <td>One year</td>\n",
       "      <td>No</td>\n",
       "      <td>Bank transfer (automatic)</td>\n",
       "      <td>42.30</td>\n",
       "      <td>1840.75</td>\n",
       "      <td>No</td>\n",
       "    </tr>\n",
       "    <tr>\n",
       "      <th>4</th>\n",
       "      <td>9237-HQITU</td>\n",
       "      <td>Female</td>\n",
       "      <td>0</td>\n",
       "      <td>No</td>\n",
       "      <td>No</td>\n",
       "      <td>2</td>\n",
       "      <td>Yes</td>\n",
       "      <td>No</td>\n",
       "      <td>Fiber optic</td>\n",
       "      <td>No</td>\n",
       "      <td>...</td>\n",
       "      <td>No</td>\n",
       "      <td>No</td>\n",
       "      <td>No</td>\n",
       "      <td>No</td>\n",
       "      <td>Month-to-month</td>\n",
       "      <td>Yes</td>\n",
       "      <td>Electronic check</td>\n",
       "      <td>70.70</td>\n",
       "      <td>151.65</td>\n",
       "      <td>Yes</td>\n",
       "    </tr>\n",
       "  </tbody>\n",
       "</table>\n",
       "<p>5 rows × 21 columns</p>\n",
       "</div>"
      ],
      "text/plain": [
       "   customerID  gender  SeniorCitizen Partner Dependents  tenure PhoneService  \\\n",
       "0  7590-VHVEG  Female              0     Yes         No       1           No   \n",
       "1  5575-GNVDE    Male              0      No         No      34          Yes   \n",
       "2  3668-QPYBK    Male              0      No         No       2          Yes   \n",
       "3  7795-CFOCW    Male              0      No         No      45           No   \n",
       "4  9237-HQITU  Female              0      No         No       2          Yes   \n",
       "\n",
       "      MultipleLines InternetService OnlineSecurity  ... DeviceProtection  \\\n",
       "0  No phone service             DSL             No  ...               No   \n",
       "1                No             DSL            Yes  ...              Yes   \n",
       "2                No             DSL            Yes  ...               No   \n",
       "3  No phone service             DSL            Yes  ...              Yes   \n",
       "4                No     Fiber optic             No  ...               No   \n",
       "\n",
       "  TechSupport StreamingTV StreamingMovies        Contract PaperlessBilling  \\\n",
       "0          No          No              No  Month-to-month              Yes   \n",
       "1          No          No              No        One year               No   \n",
       "2          No          No              No  Month-to-month              Yes   \n",
       "3         Yes          No              No        One year               No   \n",
       "4          No          No              No  Month-to-month              Yes   \n",
       "\n",
       "               PaymentMethod MonthlyCharges  TotalCharges Churn  \n",
       "0           Electronic check          29.85         29.85    No  \n",
       "1               Mailed check          56.95        1889.5    No  \n",
       "2               Mailed check          53.85        108.15   Yes  \n",
       "3  Bank transfer (automatic)          42.30       1840.75    No  \n",
       "4           Electronic check          70.70        151.65   Yes  \n",
       "\n",
       "[5 rows x 21 columns]"
      ]
     },
     "execution_count": 12,
     "metadata": {},
     "output_type": "execute_result"
    }
   ],
   "source": [
    "df = pd.read_csv('https://ml-repository-krakers.s3-eu-west-1.amazonaws.com/kaggle+/churn_modelling/Telco-Customer-Churn.csv')\n",
    "df.head()"
   ]
  },
  {
   "cell_type": "markdown",
   "id": "621d160c-67b7-4fde-ac24-a1b6e051d3f7",
   "metadata": {},
   "source": [
    "## Zadanie 12"
   ]
  },
  {
   "cell_type": "markdown",
   "id": "9175d71e-9b6e-4e17-8ef1-dc1039dfd977",
   "metadata": {},
   "source": [
    " Określ liczbę brakujących elementów (np.nan) w obiekcie df (z zadania 11) dla każdej zmiennej. Wydrukuj wynik do konsoli."
   ]
  },
  {
   "cell_type": "markdown",
   "id": "f3db7f27-1bf9-46a6-8dd9-fa27086ddfc0",
   "metadata": {},
   "source": [
    "### Miejsce na rozwiązanie"
   ]
  },
  {
   "cell_type": "code",
   "execution_count": 13,
   "id": "18bc64ea-8320-4477-a5b1-7b21370f2981",
   "metadata": {},
   "outputs": [
    {
     "name": "stdout",
     "output_type": "stream",
     "text": [
      "customerID          0\n",
      "gender              0\n",
      "SeniorCitizen       0\n",
      "Partner             0\n",
      "Dependents          0\n",
      "tenure              0\n",
      "PhoneService        0\n",
      "MultipleLines       0\n",
      "InternetService     0\n",
      "OnlineSecurity      0\n",
      "OnlineBackup        0\n",
      "DeviceProtection    0\n",
      "TechSupport         0\n",
      "StreamingTV         0\n",
      "StreamingMovies     0\n",
      "Contract            0\n",
      "PaperlessBilling    0\n",
      "PaymentMethod       0\n",
      "MonthlyCharges      0\n",
      "TotalCharges        0\n",
      "Churn               0\n",
      "dtype: int64\n"
     ]
    }
   ],
   "source": [
    "# Check for missing values\n",
    "\n",
    "print(df.isna().sum())"
   ]
  },
  {
   "cell_type": "markdown",
   "id": "9a90f7c0-5a68-41db-872a-eb0f66161d17",
   "metadata": {},
   "source": [
    "## Zadanie 13"
   ]
  },
  {
   "cell_type": "markdown",
   "id": "2944063f-14db-42b2-9045-b074dfd10ea8",
   "metadata": {},
   "source": [
    "Zwróć uwagę na kolumnę TotalCharges. Typ tej kolumny to object. Spróbuj zgadnąć, dlaczego tak się stało. Przyczynę opisz w komórce poniżej."
   ]
  },
  {
   "cell_type": "markdown",
   "id": "1778b1de-7d0f-49fa-ad82-63525ac4f729",
   "metadata": {},
   "source": [
    "Dane zostały wprowadzone w postaci tekstowej *(np. '991.63')*, zamiast w postaci numerycznej *(np. 991.63)*."
   ]
  },
  {
   "cell_type": "markdown",
   "id": "a30a3f1e-3e64-49d9-ace9-4870cba9f7a9",
   "metadata": {},
   "source": [
    "Nasępnie spróbuj zastąpić brakujące wartości kolumny TotalCharges jej medianą. Wydrukuj rozkład zmiennej TotalCharges do konsoli."
   ]
  },
  {
   "cell_type": "markdown",
   "id": "0f9bd4dc-2f1a-42b2-a7e7-ed3020d30b7d",
   "metadata": {},
   "source": [
    "### Miejsce na rozwiązanie"
   ]
  },
  {
   "cell_type": "code",
   "execution_count": 14,
   "id": "5242c1a3-2f60-4f0c-aa8d-aae773184c04",
   "metadata": {},
   "outputs": [
    {
     "name": "stdout",
     "output_type": "stream",
     "text": [
      "Sum of missing values: 0\n",
      "New sum of missing values: 11\n",
      "Mean: 2283.3004408418656\n",
      "Final sum of missing values: 0\n",
      "Amount of rows filled: 11\n"
     ]
    },
    {
     "data": {
      "image/png": "[encoded data removed]",
      "text/plain": [
       "<Figure size 640x480 with 1 Axes>"
      ]
     },
     "metadata": {},
     "output_type": "display_data"
    }
   ],
   "source": [
    "missing_values_sum = df['TotalCharges'].isna().sum()\n",
    "print(f'Sum of missing values: {missing_values_sum}')\n",
    "\n",
    "# Convert the column to a numeric type\n",
    "\n",
    "df['TotalCharges'] = pd.to_numeric(arg=df['TotalCharges'], errors='coerce') # change error-raising values to NaN\n",
    "\n",
    "missing_values_sum = df['TotalCharges'].isna().sum()\n",
    "print(f'New sum of missing values: {missing_values_sum}')\n",
    "\n",
    "# Fill in the missing values\n",
    "\n",
    "tc_column_mean = df['TotalCharges'].mean()\n",
    "print(f'Mean: {tc_column_mean}')\n",
    "\n",
    "df['TotalCharges'].fillna(value=tc_column_mean, inplace=True)\n",
    "missing_values_sum = df['TotalCharges'].isna().sum()\n",
    "print(f'Final sum of missing values: {missing_values_sum}')\n",
    "\n",
    "# Check how many have been filled with tc_column_mean value\n",
    "\n",
    "filled_rows = df[df['TotalCharges'] == tc_column_mean]\n",
    "tc_column_fill_sum = len(filled_rows)\n",
    "print(f'Amount of rows filled: {tc_column_fill_sum}') # should return 11\n",
    "\n",
    "from matplotlib import pyplot as plt\n",
    "\n",
    "plt.hist(x=df['TotalCharges'], bins=20, rwidth=0.8)\n",
    "plt.title('TotalCharges')\n",
    "plt.show()"
   ]
  },
  {
   "cell_type": "markdown",
   "id": "5443adbd-bcec-42e4-8d66-5fc566dc05c7",
   "metadata": {},
   "source": [
    "## Zadanie 14"
   ]
  },
  {
   "cell_type": "markdown",
   "id": "2c9c3c1c-2947-4aab-9845-5569e363d765",
   "metadata": {},
   "source": [
    "Zamień typ kolumn z listy categorical na typ category oraz kolumny z listy numerical na typ float.\n",
    "\n",
    "W odpowiedzi wydrukuj informacje o obiekcie df do konsoli."
   ]
  },
  {
   "cell_type": "code",
   "execution_count": 15,
   "id": "abe2d882-5210-4a32-b009-99efba54797d",
   "metadata": {},
   "outputs": [],
   "source": [
    "categorical = [\n",
    "    'gender',\n",
    "    'SeniorCitizen',\n",
    "    'Partner',\n",
    "    'Dependents',\n",
    "    'PhoneService',\n",
    "    'MultipleLines',\n",
    "    'InternetService',\n",
    "    'OnlineSecurity',\n",
    "    'OnlineBackup',\n",
    "    'DeviceProtection',\n",
    "    'TechSupport',\n",
    "    'StreamingTV',\n",
    "    'Contract',\n",
    "    'StreamingMovies',\n",
    "    'PaperlessBilling',\n",
    "    'PaymentMethod',\n",
    "    'Churn',\n",
    "]"
   ]
  },
  {
   "cell_type": "code",
   "execution_count": 16,
   "id": "a1c3bb98-a6da-4939-b586-6e51751984d2",
   "metadata": {},
   "outputs": [],
   "source": [
    "numerical = ['tenure', 'MonthlyCharges']"
   ]
  },
  {
   "cell_type": "markdown",
   "id": "03ba34bd-a9d8-47ec-bb75-b12c13642902",
   "metadata": {},
   "source": [
    "### Miejsce na rozwiązanie"
   ]
  },
  {
   "cell_type": "code",
   "execution_count": 17,
   "id": "87e3bd90-cbda-4c8b-807a-75508c8602ce",
   "metadata": {},
   "outputs": [
    {
     "name": "stdout",
     "output_type": "stream",
     "text": [
      "<class 'pandas.core.frame.DataFrame'>\n",
      "RangeIndex: 7043 entries, 0 to 7042\n",
      "Data columns (total 21 columns):\n",
      " #   Column            Non-Null Count  Dtype   \n",
      "---  ------            --------------  -----   \n",
      " 0   customerID        7043 non-null   object  \n",
      " 1   gender            7043 non-null   category\n",
      " 2   SeniorCitizen     7043 non-null   category\n",
      " 3   Partner           7043 non-null   category\n",
      " 4   Dependents        7043 non-null   category\n",
      " 5   tenure            7043 non-null   float64 \n",
      " 6   PhoneService      7043 non-null   category\n",
      " 7   MultipleLines     7043 non-null   category\n",
      " 8   InternetService   7043 non-null   category\n",
      " 9   OnlineSecurity    7043 non-null   category\n",
      " 10  OnlineBackup      7043 non-null   category\n",
      " 11  DeviceProtection  7043 non-null   category\n",
      " 12  TechSupport       7043 non-null   category\n",
      " 13  StreamingTV       7043 non-null   category\n",
      " 14  StreamingMovies   7043 non-null   category\n",
      " 15  Contract          7043 non-null   category\n",
      " 16  PaperlessBilling  7043 non-null   category\n",
      " 17  PaymentMethod     7043 non-null   category\n",
      " 18  MonthlyCharges    7043 non-null   float64 \n",
      " 19  TotalCharges      7043 non-null   float64 \n",
      " 20  Churn             7043 non-null   category\n",
      "dtypes: category(17), float64(3), object(1)\n",
      "memory usage: 339.4+ KB\n"
     ]
    }
   ],
   "source": [
    "df[categorical] = df[categorical].astype('category')\n",
    "df[numerical] = df[numerical].astype(float)\n",
    "df.info()"
   ]
  },
  {
   "cell_type": "markdown",
   "id": "d4a21030-e3ca-4db8-a48c-0aff134c5f6c",
   "metadata": {},
   "source": [
    "## Zadanie 15"
   ]
  },
  {
   "cell_type": "markdown",
   "id": "d359c3a2-f161-42cc-95c7-e16f6cf703da",
   "metadata": {},
   "source": [
    "Wyświetl podstawowe statystyki zmiennych kategorialnych przekazując odpowiedni parametr include metody `pd.DataFrame.describe()`. Wydrukuj wynik do konsoli."
   ]
  },
  {
   "cell_type": "markdown",
   "id": "a6ed76fb-7807-459e-9d8b-7f02cad7042d",
   "metadata": {},
   "source": [
    "### Miejsce na rozwiązanie"
   ]
  },
  {
   "cell_type": "code",
   "execution_count": 18,
   "id": "a379acd0-8672-40ba-a45e-de5593c090bd",
   "metadata": {},
   "outputs": [
    {
     "data": {
      "text/html": [
       "<div>\n",
       "<style scoped>\n",
       "    .dataframe tbody tr th:only-of-type {\n",
       "        vertical-align: middle;\n",
       "    }\n",
       "\n",
       "    .dataframe tbody tr th {\n",
       "        vertical-align: top;\n",
       "    }\n",
       "\n",
       "    .dataframe thead th {\n",
       "        text-align: right;\n",
       "    }\n",
       "</style>\n",
       "<table border=\"1\" class=\"dataframe\">\n",
       "  <thead>\n",
       "    <tr style=\"text-align: right;\">\n",
       "      <th></th>\n",
       "      <th>count</th>\n",
       "      <th>unique</th>\n",
       "      <th>top</th>\n",
       "      <th>freq</th>\n",
       "    </tr>\n",
       "  </thead>\n",
       "  <tbody>\n",
       "    <tr>\n",
       "      <th>gender</th>\n",
       "      <td>7043</td>\n",
       "      <td>2</td>\n",
       "      <td>Male</td>\n",
       "      <td>3555</td>\n",
       "    </tr>\n",
       "    <tr>\n",
       "      <th>SeniorCitizen</th>\n",
       "      <td>7043</td>\n",
       "      <td>2</td>\n",
       "      <td>0</td>\n",
       "      <td>5901</td>\n",
       "    </tr>\n",
       "    <tr>\n",
       "      <th>Partner</th>\n",
       "      <td>7043</td>\n",
       "      <td>2</td>\n",
       "      <td>No</td>\n",
       "      <td>3641</td>\n",
       "    </tr>\n",
       "    <tr>\n",
       "      <th>Dependents</th>\n",
       "      <td>7043</td>\n",
       "      <td>2</td>\n",
       "      <td>No</td>\n",
       "      <td>4933</td>\n",
       "    </tr>\n",
       "    <tr>\n",
       "      <th>PhoneService</th>\n",
       "      <td>7043</td>\n",
       "      <td>2</td>\n",
       "      <td>Yes</td>\n",
       "      <td>6361</td>\n",
       "    </tr>\n",
       "    <tr>\n",
       "      <th>MultipleLines</th>\n",
       "      <td>7043</td>\n",
       "      <td>3</td>\n",
       "      <td>No</td>\n",
       "      <td>3390</td>\n",
       "    </tr>\n",
       "    <tr>\n",
       "      <th>InternetService</th>\n",
       "      <td>7043</td>\n",
       "      <td>3</td>\n",
       "      <td>Fiber optic</td>\n",
       "      <td>3096</td>\n",
       "    </tr>\n",
       "    <tr>\n",
       "      <th>OnlineSecurity</th>\n",
       "      <td>7043</td>\n",
       "      <td>3</td>\n",
       "      <td>No</td>\n",
       "      <td>3498</td>\n",
       "    </tr>\n",
       "    <tr>\n",
       "      <th>OnlineBackup</th>\n",
       "      <td>7043</td>\n",
       "      <td>3</td>\n",
       "      <td>No</td>\n",
       "      <td>3088</td>\n",
       "    </tr>\n",
       "    <tr>\n",
       "      <th>DeviceProtection</th>\n",
       "      <td>7043</td>\n",
       "      <td>3</td>\n",
       "      <td>No</td>\n",
       "      <td>3095</td>\n",
       "    </tr>\n",
       "    <tr>\n",
       "      <th>TechSupport</th>\n",
       "      <td>7043</td>\n",
       "      <td>3</td>\n",
       "      <td>No</td>\n",
       "      <td>3473</td>\n",
       "    </tr>\n",
       "    <tr>\n",
       "      <th>StreamingTV</th>\n",
       "      <td>7043</td>\n",
       "      <td>3</td>\n",
       "      <td>No</td>\n",
       "      <td>2810</td>\n",
       "    </tr>\n",
       "    <tr>\n",
       "      <th>StreamingMovies</th>\n",
       "      <td>7043</td>\n",
       "      <td>3</td>\n",
       "      <td>No</td>\n",
       "      <td>2785</td>\n",
       "    </tr>\n",
       "    <tr>\n",
       "      <th>Contract</th>\n",
       "      <td>7043</td>\n",
       "      <td>3</td>\n",
       "      <td>Month-to-month</td>\n",
       "      <td>3875</td>\n",
       "    </tr>\n",
       "    <tr>\n",
       "      <th>PaperlessBilling</th>\n",
       "      <td>7043</td>\n",
       "      <td>2</td>\n",
       "      <td>Yes</td>\n",
       "      <td>4171</td>\n",
       "    </tr>\n",
       "    <tr>\n",
       "      <th>PaymentMethod</th>\n",
       "      <td>7043</td>\n",
       "      <td>4</td>\n",
       "      <td>Electronic check</td>\n",
       "      <td>2365</td>\n",
       "    </tr>\n",
       "    <tr>\n",
       "      <th>Churn</th>\n",
       "      <td>7043</td>\n",
       "      <td>2</td>\n",
       "      <td>No</td>\n",
       "      <td>5174</td>\n",
       "    </tr>\n",
       "  </tbody>\n",
       "</table>\n",
       "</div>"
      ],
      "text/plain": [
       "                 count unique               top  freq\n",
       "gender            7043      2              Male  3555\n",
       "SeniorCitizen     7043      2                 0  5901\n",
       "Partner           7043      2                No  3641\n",
       "Dependents        7043      2                No  4933\n",
       "PhoneService      7043      2               Yes  6361\n",
       "MultipleLines     7043      3                No  3390\n",
       "InternetService   7043      3       Fiber optic  3096\n",
       "OnlineSecurity    7043      3                No  3498\n",
       "OnlineBackup      7043      3                No  3088\n",
       "DeviceProtection  7043      3                No  3095\n",
       "TechSupport       7043      3                No  3473\n",
       "StreamingTV       7043      3                No  2810\n",
       "StreamingMovies   7043      3                No  2785\n",
       "Contract          7043      3    Month-to-month  3875\n",
       "PaperlessBilling  7043      2               Yes  4171\n",
       "PaymentMethod     7043      4  Electronic check  2365\n",
       "Churn             7043      2                No  5174"
      ]
     },
     "execution_count": 18,
     "metadata": {},
     "output_type": "execute_result"
    }
   ],
   "source": [
    "df.describe(include='category').transpose() # use transpose for better readability"
   ]
  },
  {
   "cell_type": "markdown",
   "id": "8d23b0a7-5295-489d-b485-94fc60753bf0",
   "metadata": {},
   "source": [
    "## Zadanie 16"
   ]
  },
  {
   "cell_type": "markdown",
   "id": "d5f5b3ac-96df-4aa0-910d-44eb22f4728a",
   "metadata": {},
   "source": [
    "Znajdź rozkład wartości dla zmiennej Churn. Wydrukuj wynik do konsoli."
   ]
  },
  {
   "cell_type": "markdown",
   "id": "8cdab252-6426-4865-ad23-a4e10435ffe7",
   "metadata": {},
   "source": [
    "### Miejsce na rozwiązanie"
   ]
  },
  {
   "cell_type": "code",
   "execution_count": 19,
   "id": "75f9e9f2-1147-4183-849a-e95712f0df37",
   "metadata": {},
   "outputs": [
    {
     "name": "stdout",
     "output_type": "stream",
     "text": [
      "Churn\n",
      "No     5174\n",
      "Yes    1869\n",
      "Name: count, dtype: int64\n",
      "Axes(0.125,0.11;0.775x0.77)\n"
     ]
    },
    {
     "data": {
      "image/png": "[encoded data removed]",
      "text/plain": [
       "<Figure size 640x480 with 1 Axes>"
      ]
     },
     "metadata": {},
     "output_type": "display_data"
    }
   ],
   "source": [
    "print(df['Churn'].value_counts())\n",
    "print(df['Churn'].hist())"
   ]
  },
  {
   "cell_type": "markdown",
   "id": "f6864e47-7b99-4720-8671-6158a66b359c",
   "metadata": {},
   "source": [
    "## Zadanie 17"
   ]
  },
  {
   "cell_type": "markdown",
   "id": "6aeda85c-27a0-43a8-b300-ef5d38782345",
   "metadata": {},
   "source": [
    "Pogrupuj dane na poziomie zmiennych `Churn` oraz `PaymentMethod` i oblicz średnią wartość zmiennej `MonthlyCharges`. Wydrukuj wynik do konsoli."
   ]
  },
  {
   "cell_type": "markdown",
   "id": "122f809f-e36b-4fce-84ab-e77c832b032b",
   "metadata": {},
   "source": [
    "### Miejsce na rozwiązanie"
   ]
  },
  {
   "cell_type": "code",
   "execution_count": 20,
   "id": "b00b0e02-7bea-47fa-aca6-3ee38796ff16",
   "metadata": {},
   "outputs": [
    {
     "name": "stdout",
     "output_type": "stream",
     "text": [
      "Churn  PaymentMethod            \n",
      "No     Bank transfer (automatic)    65.049417\n",
      "       Credit card (automatic)      64.562209\n",
      "       Electronic check             74.232032\n",
      "       Mailed check                 41.403911\n",
      "Yes    Bank transfer (automatic)    77.875581\n",
      "       Credit card (automatic)      77.356034\n",
      "       Electronic check             78.700980\n",
      "       Mailed check                 54.557143\n",
      "Name: MonthlyCharges, dtype: float64\n"
     ]
    }
   ],
   "source": [
    "df_groupped = df.groupby(by=['Churn', 'PaymentMethod'], observed=True)\n",
    "print(df_groupped['MonthlyCharges'].mean())"
   ]
  },
  {
   "cell_type": "markdown",
   "id": "7ec80ab0-7441-4a42-9fbb-f3e168016925",
   "metadata": {},
   "source": [
    "## Zadanie 18"
   ]
  },
  {
   "cell_type": "markdown",
   "id": "7e02609d-1c6a-4b3e-bf70-7c368c67ac59",
   "metadata": {},
   "source": [
    "Zmapuj odpowiednio kolumnę Churn:\n",
    " - `Yes` -> 1\n",
    " - `No` -> 0\n",
    " Wynik wydrukuj w konsoli dla pierwszych 5 wierszy."
   ]
  },
  {
   "cell_type": "markdown",
   "id": "5c024c06-3da6-46d6-8112-38e01d7bf626",
   "metadata": {},
   "source": [
    "### Miejsce na rozwiązanie"
   ]
  },
  {
   "cell_type": "code",
   "execution_count": 21,
   "id": "f4b10eb7-3528-4add-8564-9a56514247ee",
   "metadata": {},
   "outputs": [
    {
     "name": "stdout",
     "output_type": "stream",
     "text": [
      "0    0\n",
      "1    0\n",
      "2    1\n",
      "3    0\n",
      "4    1\n",
      "Name: Churn, dtype: category\n",
      "Categories (2, int64): [0, 1]\n"
     ]
    }
   ],
   "source": [
    "df['Churn'] = df['Churn'].map(arg={'Yes': 1, 'No': 0})\n",
    "print(df['Churn'].head())"
   ]
  },
  {
   "cell_type": "markdown",
   "id": "f1738680-5ddd-4a0d-bcf9-50a55d52a077",
   "metadata": {},
   "source": [
    "## Zadanie 19"
   ]
  },
  {
   "cell_type": "markdown",
   "id": "4c00e381-3525-4da1-acaf-894320b9ad52",
   "metadata": {},
   "source": [
    "Oblicz macierz korelacji dla obiektu df. Wydrukuj wynik do konsoli."
   ]
  },
  {
   "cell_type": "markdown",
   "id": "93d1fc98-9a7e-4efa-9058-e6b38b8b0744",
   "metadata": {},
   "source": [
    "### Miejsce na rozwiązanie"
   ]
  },
  {
   "cell_type": "code",
   "execution_count": 22,
   "id": "07a97777-7760-4719-a903-c1a01a07e226",
   "metadata": {},
   "outputs": [
    {
     "name": "stdout",
     "output_type": "stream",
     "text": [
      "                  tenure  MonthlyCharges  TotalCharges\n",
      "tenure          1.000000        0.247900      0.824757\n",
      "MonthlyCharges  0.247900        1.000000      0.650468\n",
      "TotalCharges    0.824757        0.650468      1.000000\n"
     ]
    }
   ],
   "source": [
    "numeric_columns = df.select_dtypes(include='number').columns\n",
    "correlation_matrix = df[numeric_columns].corr()\n",
    "print(correlation_matrix)"
   ]
  },
  {
   "cell_type": "markdown",
   "id": "dde2a0bd-1a0c-4add-8443-37476bfe9028",
   "metadata": {},
   "source": [
    "## Zadanie 20"
   ]
  },
  {
   "cell_type": "markdown",
   "id": "e5903f41-0fff-4adf-aeb7-f30eb4ba5182",
   "metadata": {},
   "source": [
    "Pobierz próbkę 10 wierszy z obiektu df i zapisz do pliku `sample_10.csv`."
   ]
  },
  {
   "cell_type": "markdown",
   "id": "4ea15aeb-e3f4-4817-a8c8-5bae2a6a40cc",
   "metadata": {},
   "source": [
    "### Miejsce na rozwiązanie"
   ]
  },
  {
   "cell_type": "code",
   "execution_count": 23,
   "id": "c5bb82c0-5bd9-450f-b067-1819fee0b891",
   "metadata": {},
   "outputs": [],
   "source": [
    "df.sample(n=10, random_state=42).to_csv('./datasets/sample_10.csv', index=False)"
   ]
  }
 ],
 "metadata": {
  "kernelspec": {
   "display_name": "Python 3 (ipykernel)",
   "language": "python",
   "name": "python3"
  },
  "language_info": {
   "codemirror_mode": {
    "name": "ipython",
    "version": 3
   },
   "file_extension": ".py",
   "mimetype": "text/x-python",
   "name": "python",
   "nbconvert_exporter": "python",
   "pygments_lexer": "ipython3",
   "version": "3.11.6"
  }
 },
 "nbformat": 4,
 "nbformat_minor": 5
}
