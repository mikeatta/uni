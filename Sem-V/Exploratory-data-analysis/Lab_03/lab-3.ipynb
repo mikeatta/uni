{
 "cells": [
  {
   "cell_type": "code",
   "execution_count": 1,
   "id": "8ac40dced1d1fc4c",
   "metadata": {
    "ExecuteTime": {
     "end_time": "2023-11-02T17:30:20.489097100Z",
     "start_time": "2023-11-02T17:30:20.285766500Z"
    },
    "collapsed": false
   },
   "outputs": [],
   "source": [
    "import pandas as pd"
   ]
  },
  {
   "cell_type": "markdown",
   "id": "eb3227aa746c1731",
   "metadata": {
    "collapsed": false
   },
   "source": [
    "# Wprowadzenie do tematu"
   ]
  },
  {
   "cell_type": "markdown",
   "id": "907e3f130e341142",
   "metadata": {
    "collapsed": false
   },
   "source": [
    "## Przykład 1 - Tworzenie obiektu Series"
   ]
  },
  {
   "cell_type": "markdown",
   "id": "b9ba2e8d24dae9ef",
   "metadata": {
    "collapsed": false
   },
   "source": [
    "Z listy poniżej:"
   ]
  },
  {
   "cell_type": "code",
   "execution_count": 2,
   "id": "fffcf6e9acee8b51",
   "metadata": {
    "ExecuteTime": {
     "end_time": "2023-11-02T16:36:53.899407400Z",
     "start_time": "2023-11-02T16:36:53.895405500Z"
    },
    "collapsed": false
   },
   "outputs": [],
   "source": [
    "stocks = ['PLW', 'CDR', '11B', 'TEN']"
   ]
  },
  {
   "cell_type": "markdown",
   "id": "ca7ef7a1343c6c36",
   "metadata": {
    "collapsed": false
   },
   "source": [
    "utwórz obiekt typu Series. Wynik wydrukuj do konsoli."
   ]
  },
  {
   "cell_type": "markdown",
   "id": "e1e244b605262fc7",
   "metadata": {
    "collapsed": false
   },
   "source": [
    "### Rozwiązanie"
   ]
  },
  {
   "cell_type": "code",
   "execution_count": 3,
   "id": "821b6c47a620a65",
   "metadata": {
    "ExecuteTime": {
     "end_time": "2023-11-02T17:26:24.767532Z",
     "start_time": "2023-11-02T17:26:24.759717400Z"
    },
    "collapsed": false
   },
   "outputs": [
    {
     "name": "stdout",
     "output_type": "stream",
     "text": [
      "0    PLW\n",
      "1    CDR\n",
      "2    11B\n",
      "3    TEN\n",
      "dtype: object\n"
     ]
    }
   ],
   "source": [
    "stocks = ['PLW', 'CDR', '11B', 'TEN']\n",
    "print(pd.Series(data=stocks))"
   ]
  },
  {
   "cell_type": "markdown",
   "id": "4bfdeb40934f1c75",
   "metadata": {
    "collapsed": false
   },
   "source": [
    "## Przykład 2 - Tworzenie obiektu DataFrame z obiektu Series"
   ]
  },
  {
   "cell_type": "markdown",
   "id": "c602d441f23cf487",
   "metadata": {
    "collapsed": false
   },
   "source": [
    "Przekształć obiekt quotations:"
   ]
  },
  {
   "cell_type": "code",
   "execution_count": 4,
   "id": "826e91d419a046a0",
   "metadata": {
    "collapsed": false
   },
   "outputs": [],
   "source": [
    "stocks = {\n",
    "    'PLW': 387.00,\n",
    "    'CDR': 339.5,\n",
    "    'TEN': 349.5,\n",
    "    '11B': 391.0,\n",
    "    'BBT': 25.5,\n",
    "    'F51': 19.2,\n",
    "}\n",
    "quotations = pd.Series(data=stocks)"
   ]
  },
  {
   "cell_type": "markdown",
   "id": "54765c6da7649907",
   "metadata": {
    "collapsed": false
   },
   "source": [
    "do obiektu DataFrame. Zresetuj indeks i nazwij kolumny `ticker` oraz `price`. Wydrukuj obiekt DataFrame do konsoli."
   ]
  },
  {
   "cell_type": "markdown",
   "id": "75a723a4a7ecfe82",
   "metadata": {
    "collapsed": false
   },
   "source": [
    "### Rozwiązanie"
   ]
  },
  {
   "cell_type": "code",
   "execution_count": 5,
   "id": "4506cf52a8d88825",
   "metadata": {
    "collapsed": false
   },
   "outputs": [
    {
     "name": "stdout",
     "output_type": "stream",
     "text": [
      "  ticker  price\n",
      "0    PLW  387.0\n",
      "1    CDR  339.5\n",
      "2    TEN  349.5\n",
      "3    11B  391.0\n",
      "4    BBT   25.5\n",
      "5    F51   19.2\n"
     ]
    }
   ],
   "source": [
    "stocks = {\n",
    "    'PLW': 387.00,\n",
    "    'CDR': 339.5,\n",
    "    'TEN': 349.5,\n",
    "    '11B': 391.0,\n",
    "    'BBT': 25.5,\n",
    "    'F51': 19.2,\n",
    "}\n",
    "quotations = pd.Series(data=stocks)\n",
    "quotations = pd.DataFrame(quotations).reset_index()\n",
    "quotations.columns = ['ticker', 'price']\n",
    "print(quotations)"
   ]
  },
  {
   "cell_type": "markdown",
   "id": "e3e69056e5c27f46",
   "metadata": {
    "collapsed": false
   },
   "source": [
    "## Przykład 3 - Tworzenie obiektu DataFrame i wypełnianie go danymi"
   ]
  },
  {
   "cell_type": "markdown",
   "id": "4978e29432ac857f",
   "metadata": {
    "collapsed": false
   },
   "source": [
    "Zbuduj obiekt DatetimeIndex zawierający daty w formacie `yyyy-mm-dd` dla wszystkich dni dla listopada 2023 roku i przypisz go do zmiennej date_range. Wydrukuj zawartość tej zmiennej do konsoli."
   ]
  },
  {
   "cell_type": "markdown",
   "id": "9ca672ca1c0f3208",
   "metadata": {
    "collapsed": false
   },
   "source": [
    "### Rozwiązanie - wariant 1"
   ]
  },
  {
   "cell_type": "code",
   "execution_count": 6,
   "id": "4587cbc8a759f75e",
   "metadata": {
    "collapsed": false
   },
   "outputs": [
    {
     "name": "stdout",
     "output_type": "stream",
     "text": [
      "DatetimeIndex(['2023-11-01', '2023-11-02', '2023-11-03', '2023-11-04',\n",
      "               '2023-11-05', '2023-11-06', '2023-11-07', '2023-11-08',\n",
      "               '2023-11-09', '2023-11-10', '2023-11-11', '2023-11-12',\n",
      "               '2023-11-13', '2023-11-14', '2023-11-15', '2023-11-16',\n",
      "               '2023-11-17', '2023-11-18', '2023-11-19', '2023-11-20',\n",
      "               '2023-11-21', '2023-11-22', '2023-11-23', '2023-11-24',\n",
      "               '2023-11-25', '2023-11-26', '2023-11-27', '2023-11-28',\n",
      "               '2023-11-29', '2023-11-30'],\n",
      "              dtype='datetime64[ns]', freq='D')\n"
     ]
    }
   ],
   "source": [
    "date_range = pd.date_range(start='2023-11-01', periods=30)\n",
    "print(date_range)"
   ]
  },
  {
   "cell_type": "markdown",
   "id": "b5a5e7248680263",
   "metadata": {
    "collapsed": false
   },
   "source": [
    "### Rozwiązanie - wariant 2"
   ]
  },
  {
   "cell_type": "code",
   "execution_count": 7,
   "id": "8a7e76f802f06ec3",
   "metadata": {
    "collapsed": false
   },
   "outputs": [
    {
     "name": "stdout",
     "output_type": "stream",
     "text": [
      "DatetimeIndex(['2023-11-01', '2023-11-02', '2023-11-03', '2023-11-04',\n",
      "               '2023-11-05', '2023-11-06', '2023-11-07', '2023-11-08',\n",
      "               '2023-11-09', '2023-11-10', '2023-11-11', '2023-11-12',\n",
      "               '2023-11-13', '2023-11-14', '2023-11-15', '2023-11-16',\n",
      "               '2023-11-17', '2023-11-18', '2023-11-19', '2023-11-20',\n",
      "               '2023-11-21', '2023-11-22', '2023-11-23', '2023-11-24',\n",
      "               '2023-11-25', '2023-11-26', '2023-11-27', '2023-11-28',\n",
      "               '2023-11-29', '2023-11-30'],\n",
      "              dtype='datetime64[ns]', freq='D')\n"
     ]
    }
   ],
   "source": [
    "date_range = pd.date_range(start='2023-11-01', end='2023-11-30')\n",
    "print(date_range)"
   ]
  },
  {
   "cell_type": "markdown",
   "id": "24ab3b2fb11230a4",
   "metadata": {
    "collapsed": false
   },
   "source": [
    "# Zadania do samodzielnego wykonania"
   ]
  },
  {
   "cell_type": "markdown",
   "id": "4cee95e32bcbd29e",
   "metadata": {
    "collapsed": false
   },
   "source": [
    "## Ćwiczenie 1"
   ]
  },
  {
   "cell_type": "markdown",
   "id": "92e7f08549810f76",
   "metadata": {
    "collapsed": false
   },
   "source": [
    "Z podanego słownika:"
   ]
  },
  {
   "cell_type": "code",
   "execution_count": 8,
   "id": "c0fa1d8339c7211e",
   "metadata": {
    "collapsed": false
   },
   "outputs": [],
   "source": [
    "stocks = {'PLW': 387.00, 'CDR': 339.5, 'TEN': 349.5, '11B': 391.0}"
   ]
  },
  {
   "cell_type": "markdown",
   "id": "2f050785b574e135",
   "metadata": {
    "collapsed": false
   },
   "source": [
    "utwórz obiekt typu Series i przypisz do zmiennej quotations. Zawartość zmiennej quotations wydrukuj do konsoli."
   ]
  },
  {
   "cell_type": "markdown",
   "id": "aacae5bc1a266c",
   "metadata": {
    "collapsed": false
   },
   "source": [
    "### Miejsce na rozwiązanie"
   ]
  },
  {
   "cell_type": "code",
   "execution_count": 9,
   "id": "9cd623f7ba7103cf",
   "metadata": {
    "collapsed": false
   },
   "outputs": [
    {
     "name": "stdout",
     "output_type": "stream",
     "text": [
      "PLW    387.0\n",
      "CDR    339.5\n",
      "TEN    349.5\n",
      "11B    391.0\n",
      "dtype: float64\n"
     ]
    }
   ],
   "source": [
    "quotations = pd.Series(data=stocks)\n",
    "print(quotations)"
   ]
  },
  {
   "cell_type": "markdown",
   "id": "75b9f1c0184964ca",
   "metadata": {
    "collapsed": false
   },
   "source": [
    "## Ćwiczenie 2"
   ]
  },
  {
   "cell_type": "markdown",
   "id": "f4f5bee50e8ab07f",
   "metadata": {
    "collapsed": false
   },
   "source": [
    "Podana jest zmienna quotations (obiekt typu Series):"
   ]
  },
  {
   "cell_type": "code",
   "execution_count": 10,
   "id": "965fd47e3383ce02",
   "metadata": {
    "collapsed": false
   },
   "outputs": [],
   "source": [
    "stocks = {'PLW': 387.00, 'CDR': 339.5, 'TEN': 349.5, '11B': 391.0}\n",
    "quotations = pd.Series(data=stocks)"
   ]
  },
  {
   "cell_type": "markdown",
   "id": "e8392a0a45e30877",
   "metadata": {
    "collapsed": false
   },
   "source": [
    "Przekształć obiekt quotations na listę. Wynik wydrukuj do konsoli."
   ]
  },
  {
   "cell_type": "markdown",
   "id": "ed6c345906ab79d0",
   "metadata": {
    "collapsed": false
   },
   "source": [
    "### Miejsce na rozwiązanie"
   ]
  },
  {
   "cell_type": "code",
   "execution_count": 11,
   "id": "79de92ce7d7b06c0",
   "metadata": {
    "collapsed": false
   },
   "outputs": [
    {
     "name": "stdout",
     "output_type": "stream",
     "text": [
      "[387.0, 339.5, 349.5, 391.0]\n",
      "<class 'list'>\n"
     ]
    }
   ],
   "source": [
    "quotations = quotations.to_list()\n",
    "print(quotations)\n",
    "print(type(quotations))"
   ]
  },
  {
   "cell_type": "markdown",
   "id": "f10ec758558f2c23",
   "metadata": {
    "collapsed": false
   },
   "source": [
    "## Ćwiczenie 3"
   ]
  },
  {
   "cell_type": "markdown",
   "id": "3aae1fb787546bb9",
   "metadata": {
    "collapsed": false
   },
   "source": [
    "Przekształć obiekt quotations na obiekt typu DataFrame. Ustaw nazwę kolumny na price."
   ]
  },
  {
   "cell_type": "code",
   "execution_count": 12,
   "id": "4983c2c576ad182a",
   "metadata": {
    "collapsed": false
   },
   "outputs": [],
   "source": [
    "stocks = {'PLW': 387.00, 'CDR': 339.5, 'TEN': 349.5, '11B': 391.0}\n",
    "quotations = pd.Series(data=stocks)"
   ]
  },
  {
   "cell_type": "markdown",
   "id": "ebf6648c756b871b",
   "metadata": {
    "collapsed": false
   },
   "source": [
    "Wydrukuj wynik do konsoli."
   ]
  },
  {
   "cell_type": "markdown",
   "id": "384c0eebd1804b7f",
   "metadata": {
    "collapsed": false
   },
   "source": [
    "### Miejsce na rozwiązanie"
   ]
  },
  {
   "cell_type": "code",
   "execution_count": 13,
   "id": "255196fe0769a9f5",
   "metadata": {
    "collapsed": false
   },
   "outputs": [
    {
     "name": "stdout",
     "output_type": "stream",
     "text": [
      "  Ticker  Price\n",
      "0    PLW  387.0\n",
      "1    CDR  339.5\n",
      "2    TEN  349.5\n",
      "3    11B  391.0\n"
     ]
    }
   ],
   "source": [
    "quotations = pd.DataFrame(quotations).reset_index()\n",
    "quotations.columns = ['Ticker', 'Price']\n",
    "print(quotations)"
   ]
  },
  {
   "cell_type": "markdown",
   "id": "bbde43ebb3c19b15",
   "metadata": {
    "collapsed": false
   },
   "source": [
    "## Ćwiczenie 4"
   ]
  },
  {
   "cell_type": "markdown",
   "id": "ce5be05f2dcdaa0a",
   "metadata": {
    "collapsed": false
   },
   "source": [
    "Używając bibliotek numpy i pandas zbuduj następujący obiekt Series:\n",
    "    101    10.0\n",
    "    102    20.0\n",
    "    103    30.0\n",
    "    104    40.0\n",
    "    105    50.0\n",
    "    106    60.0\n",
    "    107    70.0\n",
    "    108    80.0\n",
    "    109    90.0\n",
    "    dtype: float64"
   ]
  },
  {
   "cell_type": "markdown",
   "id": "41e801f5e44769f2",
   "metadata": {
    "collapsed": false
   },
   "source": [
    "Wydrukuj wynik do konsoli.\n",
    "Wskazówka: Użyj funkcji `np.arange()`.\n",
    "### Miejsce na rozwiązanie"
   ]
  },
  {
   "cell_type": "code",
   "execution_count": 14,
   "id": "a7bc8a13feeea31",
   "metadata": {
    "collapsed": false
   },
   "outputs": [
    {
     "name": "stdout",
     "output_type": "stream",
     "text": [
      "101    10.0\n",
      "102    20.0\n",
      "103    30.0\n",
      "104    40.0\n",
      "105    50.0\n",
      "106    60.0\n",
      "107    70.0\n",
      "108    80.0\n",
      "109    90.0\n",
      "dtype: float64\n"
     ]
    }
   ],
   "source": [
    "import numpy as np\n",
    "\n",
    "# Create two individual arrays\n",
    "\n",
    "values = np.arange(start=10, stop=91, step=10, dtype=float)\n",
    "indexes = np.arange(start=101, stop=110, step=1)\n",
    "\n",
    "series = pd.Series(data=values, index=indexes)\n",
    "print(series)"
   ]
  },
  {
   "cell_type": "markdown",
   "id": "c7aaa8e7e4c97ba6",
   "metadata": {
    "collapsed": false
   },
   "source": [
    "## Ćwiczenie 5"
   ]
  },
  {
   "cell_type": "markdown",
   "id": "8dce13cd0a5c0806",
   "metadata": {
    "collapsed": false
   },
   "source": [
    "Podany jest następujący obiekt typu Series:"
   ]
  },
  {
   "cell_type": "code",
   "execution_count": 15,
   "id": "ea340b95bff9da8f",
   "metadata": {
    "collapsed": false
   },
   "outputs": [
    {
     "name": "stdout",
     "output_type": "stream",
     "text": [
      "a    001\n",
      "b    002\n",
      "c    003\n",
      "d    004\n",
      "dtype: object\n"
     ]
    }
   ],
   "source": [
    "series = pd.Series(['001', '002', '003', '004'], list('abcd'))\n",
    "print(series)"
   ]
  },
  {
   "cell_type": "markdown",
   "id": "5feff15653dc43c6",
   "metadata": {
    "collapsed": false
   },
   "source": [
    "Zmień typ danych obiektu na int. Wydrukuj wynik do konsoli."
   ]
  },
  {
   "cell_type": "markdown",
   "id": "9874dc66f78aa1e9",
   "metadata": {
    "collapsed": false
   },
   "source": [
    "### Miejsce na rozwiązanie"
   ]
  },
  {
   "cell_type": "code",
   "execution_count": 16,
   "id": "df631c02d83f175b",
   "metadata": {
    "collapsed": false
   },
   "outputs": [
    {
     "name": "stdout",
     "output_type": "stream",
     "text": [
      "a    1\n",
      "b    2\n",
      "c    3\n",
      "d    4\n",
      "dtype: int64\n"
     ]
    }
   ],
   "source": [
    "int_series = series.astype(dtype=int)\n",
    "print(int_series)"
   ]
  },
  {
   "cell_type": "markdown",
   "id": "4696a870de64c274",
   "metadata": {
    "collapsed": false
   },
   "source": [
    "## Ćwiczenie 6"
   ]
  },
  {
   "cell_type": "markdown",
   "id": "ad4035b3f4aafa77",
   "metadata": {
    "collapsed": false
   },
   "source": [
    "Podany jest następujący obiekt quotations:"
   ]
  },
  {
   "cell_type": "code",
   "execution_count": 17,
   "id": "42190a883164f91e",
   "metadata": {
    "collapsed": false
   },
   "outputs": [],
   "source": [
    "stocks = {'PLW': 387.00, 'CDR': 339.5, 'TEN': 349.5, '11B': 391.0}\n",
    "quotations = pd.Series(data=stocks)"
   ]
  },
  {
   "cell_type": "markdown",
   "id": "56e7755da51a0238",
   "metadata": {
    "collapsed": false
   },
   "source": [
    "Dodaj do niego dwa elementy:\n",
    "- klucz: BBT, wartość: 25.5\n",
    "- klucz: F51, wartość: 19.2\n",
    "\n",
    "Wydrukuj zawartość zmiennej quotations do konsoli."
   ]
  },
  {
   "cell_type": "markdown",
   "id": "2188e18068d5ef7b",
   "metadata": {
    "collapsed": false
   },
   "source": [
    "### Miejsce na rozwiązanie"
   ]
  },
  {
   "cell_type": "code",
   "execution_count": 18,
   "id": "c43193199123b1bc",
   "metadata": {
    "collapsed": false
   },
   "outputs": [
    {
     "name": "stdout",
     "output_type": "stream",
     "text": [
      "PLW    387.0\n",
      "CDR    339.5\n",
      "TEN    349.5\n",
      "11B    391.0\n",
      "BBT     25.5\n",
      "F51     19.2\n",
      "dtype: float64\n"
     ]
    }
   ],
   "source": [
    "new_stocks = {'BBT': 25.5, 'F51': 19.2}\n",
    "new_series = pd.Series(data=new_stocks)\n",
    "\n",
    "quotations = pd.concat((quotations, new_series))\n",
    "print(quotations)"
   ]
  },
  {
   "cell_type": "markdown",
   "id": "496629947ea6550b",
   "metadata": {
    "collapsed": false
   },
   "source": [
    "## Ćwiczenie 7"
   ]
  },
  {
   "cell_type": "markdown",
   "id": "63acecf9dbe22f9f",
   "metadata": {
    "collapsed": false
   },
   "source": [
    "Zbuduj poniższy obiekt DataFrame i przypisz go do zmiennej companies: <br>\n",
    "<img src=\"img/1.png\">\n",
    "    \n",
    "Wydrukuj obiekt do konsoli.\n"
   ]
  },
  {
   "cell_type": "markdown",
   "id": "c50bf63837c41c39",
   "metadata": {
    "collapsed": false
   },
   "source": [
    "### Miejsce na rozwiązanie"
   ]
  },
  {
   "cell_type": "code",
   "execution_count": 19,
   "id": "a6751ad991d4a54d",
   "metadata": {
    "collapsed": false
   },
   "outputs": [
    {
     "name": "stdout",
     "output_type": "stream",
     "text": [
      "     company   price   ticker\n",
      "0     Amazon  2375.0  AMZN.US\n",
      "1  Microsoft   178.6  MSFT.US\n",
      "2   Facebook   179.2    FB.US\n"
     ]
    }
   ],
   "source": [
    "# Define df value arrays\n",
    "\n",
    "names = ['Amazon', 'Microsoft', 'Facebook']\n",
    "prices = [2375.0, 178.6, 179.2]\n",
    "tickers = ['AMZN.US', 'MSFT.US', 'FB.US']\n",
    "\n",
    "data = {'company': names, 'price': prices, 'ticker': tickers}\n",
    "\n",
    "companies = pd.DataFrame(data=data)\n",
    "print(companies)"
   ]
  },
  {
   "cell_type": "markdown",
   "id": "4a65028c892c4bc8",
   "metadata": {
    "collapsed": false
   },
   "source": [
    "## Ćwiczenie 8"
   ]
  },
  {
   "cell_type": "markdown",
   "id": "80df71baa84113a",
   "metadata": {
    "collapsed": false
   },
   "source": [
    "Przekształć pierwszą kolumnę obiektu companies na indeks. Wydrukuj obiekt do konsoli."
   ]
  },
  {
   "cell_type": "code",
   "execution_count": 20,
   "id": "818f039e76804759",
   "metadata": {
    "collapsed": false
   },
   "outputs": [],
   "source": [
    "data_dict = {\n",
    "    'company': ['Amazon', 'Microsoft', 'Facebook'],\n",
    "    'price': [2375.00, 178.6, 179.2],\n",
    "    'ticker': ['AMZN.US', 'MSFT.US', 'FB.US']\n",
    "}\n",
    "\n",
    "companies = pd.DataFrame(data=data_dict)"
   ]
  },
  {
   "cell_type": "markdown",
   "id": "c9ab028cfaf6f82c",
   "metadata": {
    "collapsed": false
   },
   "source": [
    "### Miejsce na rozwiązanie"
   ]
  },
  {
   "cell_type": "code",
   "execution_count": 21,
   "id": "a8efd404457f5ff1",
   "metadata": {
    "collapsed": false
   },
   "outputs": [
    {
     "name": "stdout",
     "output_type": "stream",
     "text": [
      "            price   ticker\n",
      "company                   \n",
      "Amazon     2375.0  AMZN.US\n",
      "Microsoft   178.6  MSFT.US\n",
      "Facebook    179.2    FB.US\n"
     ]
    }
   ],
   "source": [
    "companies.set_index('company', inplace=True)\n",
    "print(companies)"
   ]
  },
  {
   "cell_type": "markdown",
   "id": "e6aedb4b8e5851c",
   "metadata": {
    "collapsed": false
   },
   "source": [
    "## Ćwiczenie 9"
   ]
  },
  {
   "cell_type": "markdown",
   "id": "b113e774227042b9",
   "metadata": {
    "collapsed": false
   },
   "source": [
    "Zbuduj obiekt DatetimeIndex zawierający daty w formacie `yyyy-mm-dd` dla wszystkich dni dla stycznia 2020 roku i przypisz go do zmiennej date_range. Wydrukuj zawartość tej zmiennej do konsoli."
   ]
  },
  {
   "cell_type": "markdown",
   "id": "ed4ff96f2ba0cd47",
   "metadata": {
    "collapsed": false
   },
   "source": [
    "### Miejsce na rozwiązanie"
   ]
  },
  {
   "cell_type": "code",
   "execution_count": 22,
   "id": "c49ce0bf5dfb2cfe",
   "metadata": {
    "collapsed": false
   },
   "outputs": [
    {
     "name": "stdout",
     "output_type": "stream",
     "text": [
      "DatetimeIndex(['2020-01-01', '2020-01-02', '2020-01-03', '2020-01-04',\n",
      "               '2020-01-05', '2020-01-06', '2020-01-07', '2020-01-08',\n",
      "               '2020-01-09', '2020-01-10', '2020-01-11', '2020-01-12',\n",
      "               '2020-01-13', '2020-01-14', '2020-01-15', '2020-01-16',\n",
      "               '2020-01-17', '2020-01-18', '2020-01-19', '2020-01-20',\n",
      "               '2020-01-21', '2020-01-22', '2020-01-23', '2020-01-24',\n",
      "               '2020-01-25', '2020-01-26', '2020-01-27', '2020-01-28',\n",
      "               '2020-01-29', '2020-01-30', '2020-01-31'],\n",
      "              dtype='datetime64[ns]', freq='D')\n"
     ]
    }
   ],
   "source": [
    "date_range = pd.date_range(start='2020-01-01', periods=31)\n",
    "print(date_range)"
   ]
  },
  {
   "cell_type": "markdown",
   "id": "558a184b94674131",
   "metadata": {
    "collapsed": false
   },
   "source": [
    "## Ćwiczenie 10"
   ]
  },
  {
   "cell_type": "markdown",
   "id": "1587384ae60a6902",
   "metadata": {
    "collapsed": false
   },
   "source": [
    "Zbuduj obiekt DatetimeIndex zawierający daty w formacie `yyyy-mm-dd` dla wszystkich poniedziałków z 2020 r. i przypisz go do zmiennej date_range. Wydrukuj zawartość tej zmiennej do konsoli."
   ]
  },
  {
   "cell_type": "markdown",
   "id": "6822b2429f1d3596",
   "metadata": {
    "collapsed": false
   },
   "source": [
    "### Miejsce na rozwiązanie"
   ]
  },
  {
   "cell_type": "code",
   "execution_count": 23,
   "id": "8f275b0802072d5f",
   "metadata": {
    "collapsed": false
   },
   "outputs": [
    {
     "name": "stdout",
     "output_type": "stream",
     "text": [
      "DatetimeIndex(['2020-01-06', '2020-01-13', '2020-01-20', '2020-01-27',\n",
      "               '2020-02-03', '2020-02-10', '2020-02-17', '2020-02-24',\n",
      "               '2020-03-02', '2020-03-09', '2020-03-16', '2020-03-23',\n",
      "               '2020-03-30', '2020-04-06', '2020-04-13', '2020-04-20',\n",
      "               '2020-04-27', '2020-05-04', '2020-05-11', '2020-05-18',\n",
      "               '2020-05-25', '2020-06-01', '2020-06-08', '2020-06-15',\n",
      "               '2020-06-22', '2020-06-29', '2020-07-06', '2020-07-13',\n",
      "               '2020-07-20', '2020-07-27', '2020-08-03', '2020-08-10',\n",
      "               '2020-08-17', '2020-08-24', '2020-08-31', '2020-09-07',\n",
      "               '2020-09-14', '2020-09-21', '2020-09-28', '2020-10-05',\n",
      "               '2020-10-12', '2020-10-19', '2020-10-26', '2020-11-02',\n",
      "               '2020-11-09', '2020-11-16', '2020-11-23', '2020-11-30',\n",
      "               '2020-12-07', '2020-12-14', '2020-12-21', '2020-12-28'],\n",
      "              dtype='datetime64[ns]', freq='W-MON')\n"
     ]
    }
   ],
   "source": [
    "# Start on 2020.01.01, end on 2020.12.31. Get the first monday (2020.01.06) and increment by a week.\n",
    "\n",
    "date_range = pd.date_range(start='2020-01-01', end='2020-12-31', freq='W-MON')\n",
    "print(date_range)"
   ]
  },
  {
   "cell_type": "markdown",
   "id": "a65c4f43efa5b4eb",
   "metadata": {
    "collapsed": false
   },
   "source": [
    "## Ćwiczenie 11"
   ]
  },
  {
   "cell_type": "markdown",
   "id": "a90c7cd47543fcd4",
   "metadata": {
    "collapsed": false
   },
   "source": [
    "Zbuduj obiekt DatetimeIndex zawierający daty w formacie `yyyy-mm-dd hh: mm: ss` dla 1 stycznia 2021 roku z interwałem czasowym 1h i przypisz do zmiennej date_range. Wydrukuj zawartość tej zmiennej do konsoli."
   ]
  },
  {
   "cell_type": "markdown",
   "id": "4f01a33e24ddee6a",
   "metadata": {
    "collapsed": false
   },
   "source": [
    "### Miejsce na rozwiązanie"
   ]
  },
  {
   "cell_type": "code",
   "execution_count": 24,
   "id": "cfffa727d292ef87",
   "metadata": {
    "collapsed": false
   },
   "outputs": [
    {
     "name": "stdout",
     "output_type": "stream",
     "text": [
      "DatetimeIndex(['2021-01-01 00:00:00', '2021-01-01 01:00:00',\n",
      "               '2021-01-01 02:00:00', '2021-01-01 03:00:00',\n",
      "               '2021-01-01 04:00:00', '2021-01-01 05:00:00',\n",
      "               '2021-01-01 06:00:00', '2021-01-01 07:00:00',\n",
      "               '2021-01-01 08:00:00', '2021-01-01 09:00:00',\n",
      "               '2021-01-01 10:00:00', '2021-01-01 11:00:00',\n",
      "               '2021-01-01 12:00:00', '2021-01-01 13:00:00',\n",
      "               '2021-01-01 14:00:00', '2021-01-01 15:00:00',\n",
      "               '2021-01-01 16:00:00', '2021-01-01 17:00:00',\n",
      "               '2021-01-01 18:00:00', '2021-01-01 19:00:00',\n",
      "               '2021-01-01 20:00:00', '2021-01-01 21:00:00',\n",
      "               '2021-01-01 22:00:00', '2021-01-01 23:00:00',\n",
      "               '2021-01-02 00:00:00'],\n",
      "              dtype='datetime64[ns]', freq='H')\n"
     ]
    }
   ],
   "source": [
    "# Increment the date by 1hr between the 1st and 2nd day of January 2021\n",
    "\n",
    "date_range = pd.date_range(start='2021-01-01 00:00:00', end='2021-01-02 00:00:00', freq='1H')\n",
    "print(date_range)"
   ]
  },
  {
   "cell_type": "markdown",
   "id": "37a0ec03766aff49",
   "metadata": {
    "collapsed": false
   },
   "source": [
    "## Ćwiczenie 12"
   ]
  },
  {
   "cell_type": "markdown",
   "id": "d063ec45571af8c8",
   "metadata": {
    "collapsed": false
   },
   "source": [
    "Zbuduj obiekt DataFrame określony poniżej i wydrukuj do konsoli.\n",
    "  -  Kolumna day ma zawierać daty od 1 marca 2023 roku do o 31 marca 2023 roku włącznie. \n",
    "  - Kolumna day_of_year to numer dnia w całym roku"
   ]
  },
  {
   "cell_type": "markdown",
   "id": "e4f7eb8f15c64d19",
   "metadata": {
    "collapsed": false
   },
   "source": [
    "### Miejsce na rozwiązanie"
   ]
  },
  {
   "cell_type": "code",
   "execution_count": 25,
   "id": "1f95b906c095b032",
   "metadata": {
    "collapsed": false
   },
   "outputs": [
    {
     "name": "stdout",
     "output_type": "stream",
     "text": [
      "                   day\n",
      "day_of_year           \n",
      "60          2021-03-01\n",
      "61          2021-03-02\n",
      "62          2021-03-03\n",
      "63          2021-03-04\n",
      "64          2021-03-05\n",
      "65          2021-03-06\n",
      "66          2021-03-07\n",
      "67          2021-03-08\n",
      "68          2021-03-09\n",
      "69          2021-03-10\n",
      "70          2021-03-11\n",
      "71          2021-03-12\n",
      "72          2021-03-13\n",
      "73          2021-03-14\n",
      "74          2021-03-15\n",
      "75          2021-03-16\n",
      "76          2021-03-17\n",
      "77          2021-03-18\n",
      "78          2021-03-19\n",
      "79          2021-03-20\n",
      "80          2021-03-21\n",
      "81          2021-03-22\n",
      "82          2021-03-23\n",
      "83          2021-03-24\n",
      "84          2021-03-25\n",
      "85          2021-03-26\n",
      "86          2021-03-27\n",
      "87          2021-03-28\n",
      "88          2021-03-29\n",
      "89          2021-03-30\n",
      "90          2021-03-31\n"
     ]
    }
   ],
   "source": [
    "# Build the date_range object\n",
    "\n",
    "date_range = pd.date_range(start='2021-03-01', end='2021-03-31', freq='1D')\n",
    "\n",
    "# Get the day of the year for each of the dates in the date_range object\n",
    "\n",
    "day_of_year = date_range.dayofyear\n",
    "\n",
    "# Create a DataFrame object based on the previous output\n",
    "\n",
    "data = {'day_of_year': day_of_year, 'day': date_range}\n",
    "\n",
    "df = pd.DataFrame(data=data).set_index('day_of_year')\n",
    "print(df)"
   ]
  },
  {
   "cell_type": "markdown",
   "id": "f601b826139368d2",
   "metadata": {
    "collapsed": false
   },
   "source": [
    "## Ćwiczenie 13"
   ]
  },
  {
   "cell_type": "markdown",
   "id": "2fca3b6e6f0e4c",
   "metadata": {
    "collapsed": false
   },
   "source": [
    "Podany jest następujący słownik data_dict:"
   ]
  },
  {
   "cell_type": "code",
   "execution_count": 26,
   "id": "d91b1f888fad358e",
   "metadata": {
    "collapsed": false
   },
   "outputs": [],
   "source": [
    "data_dict = {\n",
    "    'normal': np.random.normal(loc=0, scale=1, size=1000),\n",
    "    'uniform': np.random.uniform(low=0, high=1, size=1000),\n",
    "    'binomial': np.random.binomial(n=1, p=0.2, size=1000)\n",
    "}"
   ]
  },
  {
   "cell_type": "markdown",
   "id": "94358c8389c8f318",
   "metadata": {
    "collapsed": false
   },
   "source": [
    "Zbuduj obiekt DateFrame z tego słownika. Dodatkowo jako indeks dodaj datę od 01.01.2023. Obiekt przypisz do zmiennej df. Wydrukuj zawartość zmiennej df do konsoli."
   ]
  },
  {
   "cell_type": "markdown",
   "id": "9c95299606556ee",
   "metadata": {
    "collapsed": false
   },
   "source": [
    "### Miejsce na rozwiązanie"
   ]
  },
  {
   "cell_type": "code",
   "execution_count": 27,
   "id": "1848a4b2bd5a32d6",
   "metadata": {
    "collapsed": false
   },
   "outputs": [
    {
     "name": "stdout",
     "output_type": "stream",
     "text": [
      "              normal   uniform  binomial\n",
      "2023-01-01 -0.265360  0.722938         0\n",
      "2023-01-02  1.453931  0.370005         0\n",
      "2023-01-03  1.579821  0.112557         0\n",
      "2023-01-04  0.682076  0.134065         0\n",
      "2023-01-05 -0.860488  0.972702         0\n",
      "...              ...       ...       ...\n",
      "2025-09-22  0.035456  0.612121         0\n",
      "2025-09-23 -0.304626  0.038605         0\n",
      "2025-09-24  0.501919  0.449981         0\n",
      "2025-09-25 -2.575309  0.112362         0\n",
      "2025-09-26 -0.680191  0.041126         1\n",
      "\n",
      "[1000 rows x 3 columns]\n"
     ]
    }
   ],
   "source": [
    "date_index = pd.date_range(start='2023-01-01', periods=1000, freq='1D')\n",
    "\n",
    "df = pd.DataFrame(data=data_dict, index=date_index)\n",
    "print(df)"
   ]
  },
  {
   "cell_type": "markdown",
   "id": "4f4413af3ceea30e",
   "metadata": {
    "collapsed": false
   },
   "source": [
    "## Ćwiczenie 14"
   ]
  },
  {
   "cell_type": "markdown",
   "id": "f10932c903cdb601",
   "metadata": {
    "collapsed": false
   },
   "source": [
    "Podany jest obiekt df. Wykonaj poniższe polecenia:\n",
    "- wydrukuj pierwsze 10 wierszy tego obiektu,\n",
    "- wydrukuj pustą linię,\n",
    "- wydrukuj ostatnie 5 wierszy tego obiektu."
   ]
  },
  {
   "cell_type": "code",
   "execution_count": 28,
   "id": "27348f68dff138a5",
   "metadata": {
    "collapsed": false
   },
   "outputs": [],
   "source": [
    "data_dict = {\n",
    "    'normal': np.random.normal(loc=0, scale=1, size=1000),\n",
    "    'uniform': np.random.uniform(low=0, high=1, size=1000),\n",
    "    'binomial': np.random.binomial(n=1, p=0.2, size=1000)\n",
    "}\n",
    "\n",
    "df = pd.DataFrame(data=data_dict, index=pd.date_range('2024-01-01', periods=1000))"
   ]
  },
  {
   "cell_type": "markdown",
   "id": "5f985ba5960f0f7",
   "metadata": {
    "collapsed": false
   },
   "source": [
    "### Miejsce na rozwiązanie"
   ]
  },
  {
   "cell_type": "code",
   "execution_count": 29,
   "id": "bd78cd7fefde843f",
   "metadata": {
    "collapsed": false
   },
   "outputs": [
    {
     "name": "stdout",
     "output_type": "stream",
     "text": [
      "              normal   uniform  binomial\n",
      "2024-01-01  1.135909  0.972633         0\n",
      "2024-01-02  0.288410  0.725576         0\n",
      "2024-01-03  1.972689  0.890634         0\n",
      "2024-01-04 -0.633040  0.448209         1\n",
      "2024-01-05  0.986522  0.868969         0\n",
      "2024-01-06 -0.660415  0.763892         0\n",
      "2024-01-07 -0.748330  0.280475         0\n",
      "2024-01-08 -0.078288  0.790080         0\n",
      "2024-01-09  0.591135  0.502539         1\n",
      "2024-01-10  0.723189  0.463498         0\n",
      "\n",
      "              normal   uniform  binomial\n",
      "2026-09-22 -0.727860  0.950332         0\n",
      "2026-09-23  0.520211  0.088997         0\n",
      "2026-09-24 -1.557093  0.344340         0\n",
      "2026-09-25  0.260498  0.143803         0\n",
      "2026-09-26 -1.403126  0.492482         1\n"
     ]
    }
   ],
   "source": [
    "print(df[:10])\n",
    "print()\n",
    "print(df[-5:])"
   ]
  },
  {
   "cell_type": "markdown",
   "id": "1aa2e6c120c07d32",
   "metadata": {
    "collapsed": false
   },
   "source": [
    "## Ćwiczenie 15"
   ]
  },
  {
   "cell_type": "markdown",
   "id": "b06564579f9c220",
   "metadata": {
    "collapsed": false
   },
   "source": [
    "Wyświetl podstawowe informacje o obiekcie df (liczba wierszy, liczba kolumn, typ zmiennych) wykorzystując metodę `pd.DataFrame.info()`, następnie wydrukuj pustą linię i wydrukuj podstawowe statystyki obiektu df (wartość średnia, odchylenie, min, max, mediana) za pomocą metody `pd.DataFrame.describe()`."
   ]
  },
  {
   "cell_type": "code",
   "execution_count": 30,
   "id": "6ddf639bfa67b08a",
   "metadata": {
    "collapsed": false
   },
   "outputs": [],
   "source": [
    "data_dict = {\n",
    "    'normal': np.random.normal(loc=0, scale=1, size=1000),\n",
    "    'uniform': np.random.uniform(low=0, high=1, size=1000),\n",
    "    'binomial': np.random.binomial(n=1, p=0.2, size=1000)\n",
    "}\n",
    "\n",
    "df = pd.DataFrame(data=data_dict, index=pd.date_range('2023-01-01', periods=1000))"
   ]
  },
  {
   "cell_type": "markdown",
   "id": "431974c6eaa4d05f",
   "metadata": {
    "collapsed": false
   },
   "source": [
    "### Miejsce na rozwiązanie"
   ]
  },
  {
   "cell_type": "code",
   "execution_count": 31,
   "id": "340f1030b889b674",
   "metadata": {
    "collapsed": false
   },
   "outputs": [
    {
     "name": "stdout",
     "output_type": "stream",
     "text": [
      "Dataset info:\n",
      "<class 'pandas.core.frame.DataFrame'>\n",
      "DatetimeIndex: 1000 entries, 2023-01-01 to 2025-09-26\n",
      "Freq: D\n",
      "Data columns (total 3 columns):\n",
      " #   Column    Non-Null Count  Dtype  \n",
      "---  ------    --------------  -----  \n",
      " 0   normal    1000 non-null   float64\n",
      " 1   uniform   1000 non-null   float64\n",
      " 2   binomial  1000 non-null   int64  \n",
      "dtypes: float64(2), int64(1)\n",
      "memory usage: 31.2 KB\n",
      "\n",
      "Dataset stats:\n"
     ]
    },
    {
     "data": {
      "text/html": [
       "<div>\n",
       "<style scoped>\n",
       "    .dataframe tbody tr th:only-of-type {\n",
       "        vertical-align: middle;\n",
       "    }\n",
       "\n",
       "    .dataframe tbody tr th {\n",
       "        vertical-align: top;\n",
       "    }\n",
       "\n",
       "    .dataframe thead th {\n",
       "        text-align: right;\n",
       "    }\n",
       "</style>\n",
       "<table border=\"1\" class=\"dataframe\">\n",
       "  <thead>\n",
       "    <tr style=\"text-align: right;\">\n",
       "      <th></th>\n",
       "      <th>count</th>\n",
       "      <th>mean</th>\n",
       "      <th>std</th>\n",
       "      <th>min</th>\n",
       "      <th>25%</th>\n",
       "      <th>50%</th>\n",
       "      <th>75%</th>\n",
       "      <th>max</th>\n",
       "    </tr>\n",
       "  </thead>\n",
       "  <tbody>\n",
       "    <tr>\n",
       "      <th>normal</th>\n",
       "      <td>1000.0</td>\n",
       "      <td>0.046040</td>\n",
       "      <td>0.988539</td>\n",
       "      <td>-3.296694</td>\n",
       "      <td>-0.609670</td>\n",
       "      <td>0.068851</td>\n",
       "      <td>0.695967</td>\n",
       "      <td>3.589372</td>\n",
       "    </tr>\n",
       "    <tr>\n",
       "      <th>uniform</th>\n",
       "      <td>1000.0</td>\n",
       "      <td>0.500776</td>\n",
       "      <td>0.295891</td>\n",
       "      <td>0.000837</td>\n",
       "      <td>0.245522</td>\n",
       "      <td>0.486599</td>\n",
       "      <td>0.758617</td>\n",
       "      <td>0.998901</td>\n",
       "    </tr>\n",
       "    <tr>\n",
       "      <th>binomial</th>\n",
       "      <td>1000.0</td>\n",
       "      <td>0.215000</td>\n",
       "      <td>0.411028</td>\n",
       "      <td>0.000000</td>\n",
       "      <td>0.000000</td>\n",
       "      <td>0.000000</td>\n",
       "      <td>0.000000</td>\n",
       "      <td>1.000000</td>\n",
       "    </tr>\n",
       "  </tbody>\n",
       "</table>\n",
       "</div>"
      ],
      "text/plain": [
       "           count      mean       std       min       25%       50%       75%  \\\n",
       "normal    1000.0  0.046040  0.988539 -3.296694 -0.609670  0.068851  0.695967   \n",
       "uniform   1000.0  0.500776  0.295891  0.000837  0.245522  0.486599  0.758617   \n",
       "binomial  1000.0  0.215000  0.411028  0.000000  0.000000  0.000000  0.000000   \n",
       "\n",
       "               max  \n",
       "normal    3.589372  \n",
       "uniform   0.998901  \n",
       "binomial  1.000000  "
      ]
     },
     "execution_count": 31,
     "metadata": {},
     "output_type": "execute_result"
    }
   ],
   "source": [
    "print('Dataset info:')\n",
    "df.info()\n",
    "\n",
    "print()\n",
    "\n",
    "print('Dataset stats:')\n",
    "df.describe().transpose() # Use transpose for better readability"
   ]
  },
  {
   "cell_type": "markdown",
   "id": "18a559d13def9abe",
   "metadata": {
    "collapsed": false
   },
   "source": [
    "## Ćwiczenie 16"
   ]
  },
  {
   "cell_type": "markdown",
   "id": "c5ba33bf568209b5",
   "metadata": {
    "collapsed": false
   },
   "source": [
    "Znajdź rozkład wartości zmiennej binomial z obiektu DataFrame podanego poniżej. Wydrukuj wynik do konsoli.\n",
    "Wskazówka: Użyj `pd.Series.value_counts()`."
   ]
  },
  {
   "cell_type": "code",
   "execution_count": 32,
   "id": "112abf11daf51ef5",
   "metadata": {
    "collapsed": false
   },
   "outputs": [],
   "source": [
    "data_dict = {\n",
    "    'normal': np.random.normal(loc=0, scale=1, size=1000),\n",
    "    'uniform': np.random.uniform(low=0, high=1, size=1000),\n",
    "    'binomial': np.random.binomial(n=1, p=0.2, size=1000)\n",
    "}\n",
    "\n",
    "df = pd.DataFrame(data=data_dict, index=pd.date_range('2023-01-01', periods=1000))"
   ]
  },
  {
   "cell_type": "markdown",
   "id": "d68d0440d6819978",
   "metadata": {
    "collapsed": false
   },
   "source": [
    "### Miejsce na rozwiązanie"
   ]
  },
  {
   "cell_type": "code",
   "execution_count": 33,
   "id": "1c5317d5655b5407",
   "metadata": {
    "collapsed": false
   },
   "outputs": [
    {
     "data": {
      "text/plain": [
       "binomial\n",
       "0    813\n",
       "1    187\n",
       "Name: count, dtype: int64"
      ]
     },
     "execution_count": 33,
     "metadata": {},
     "output_type": "execute_result"
    }
   ],
   "source": [
    "df['binomial'].value_counts()"
   ]
  },
  {
   "cell_type": "markdown",
   "id": "4a5de8f98db42f44",
   "metadata": {
    "collapsed": false
   },
   "source": [
    "## Ćwiczenie 17"
   ]
  },
  {
   "cell_type": "markdown",
   "id": "8c3a8c0260f9bc79",
   "metadata": {
    "collapsed": false
   },
   "source": [
    "Wyodrębnij pierwsze 50 rekordów z obiektu df i zapisz do pliku o nazwie `dataframe50.csv`."
   ]
  },
  {
   "cell_type": "code",
   "execution_count": 34,
   "id": "18772962e8c4d48d",
   "metadata": {
    "collapsed": false
   },
   "outputs": [],
   "source": [
    "data_dict = {\n",
    "    'normal': np.random.normal(loc=0, scale=1, size=1000),\n",
    "    'uniform': np.random.uniform(low=0, high=1, size=1000),\n",
    "    'binomial': np.random.binomial(n=1, p=0.2, size=1000)\n",
    "}\n",
    "\n",
    "df = pd.DataFrame(data=data_dict, index=pd.date_range('2023-01-01', periods=1000))"
   ]
  },
  {
   "cell_type": "markdown",
   "id": "677ed929a5e95212",
   "metadata": {
    "collapsed": false
   },
   "source": [
    "### Miejsce na rozwiązanie"
   ]
  },
  {
   "cell_type": "code",
   "execution_count": 35,
   "id": "7ccc873cbc9c86b1",
   "metadata": {
    "collapsed": false
   },
   "outputs": [],
   "source": [
    "export_df = df[:50]\n",
    "\n",
    "export_df.to_csv('./dataframe50.csv')"
   ]
  },
  {
   "cell_type": "markdown",
   "id": "f8ec7e1e821942d1",
   "metadata": {
    "collapsed": false
   },
   "source": [
    "## Ćwiczenie 18"
   ]
  },
  {
   "cell_type": "markdown",
   "id": "b062d3893e893139",
   "metadata": {
    "collapsed": false
   },
   "source": [
    "Załaduj plik `dataframe50.csv` do zmiennej df_new (pamiętaj o prawidłowym załadowaniu indeksu) i wydrukuj zmienną df_new do konsoli."
   ]
  },
  {
   "cell_type": "markdown",
   "id": "2480a795b6b8552",
   "metadata": {
    "collapsed": false
   },
   "source": [
    "### Miejsce na rozwiązanie"
   ]
  },
  {
   "cell_type": "code",
   "execution_count": 36,
   "id": "94213de8759ca8ed",
   "metadata": {
    "collapsed": false
   },
   "outputs": [
    {
     "name": "stdout",
     "output_type": "stream",
     "text": [
      "              normal   uniform  binomial\n",
      "2023-01-01  0.252740  0.768574         1\n",
      "2023-01-02  1.024531  0.676162         0\n",
      "2023-01-03 -0.444385  0.982055         1\n",
      "2023-01-04  0.094075  0.411681         1\n",
      "2023-01-05  0.064442  0.642724         0\n",
      "2023-01-06  0.584498  0.856055         0\n",
      "2023-01-07 -0.988328  0.903249         0\n",
      "2023-01-08  1.089649  0.436168         0\n",
      "2023-01-09 -0.496629  0.564324         0\n",
      "2023-01-10 -0.256558  0.161468         0\n",
      "2023-01-11 -0.885750  0.100686         0\n",
      "2023-01-12  1.368966  0.251140         1\n",
      "2023-01-13 -1.645741  0.374163         1\n",
      "2023-01-14 -0.178196  0.037994         0\n",
      "2023-01-15  0.030810  0.680196         1\n",
      "2023-01-16 -0.448811  0.931299         0\n",
      "2023-01-17 -0.289000  0.816991         0\n",
      "2023-01-18 -1.096951  0.601038         0\n",
      "2023-01-19 -1.526101  0.001020         0\n",
      "2023-01-20  0.526588  0.305530         0\n",
      "2023-01-21  1.258035  0.999501         0\n",
      "2023-01-22  1.579812  0.076934         0\n",
      "2023-01-23  0.172836  0.611440         0\n",
      "2023-01-24 -1.513123  0.720917         1\n",
      "2023-01-25 -0.915731  0.773055         0\n",
      "2023-01-26 -0.288014  0.073923         1\n",
      "2023-01-27  0.653098  0.470812         1\n",
      "2023-01-28  0.014977  0.591545         0\n",
      "2023-01-29 -0.194031  0.773332         0\n",
      "2023-01-30  0.125697  0.986137         1\n",
      "2023-01-31 -0.875778  0.839544         0\n",
      "2023-02-01  0.532484  0.128493         0\n",
      "2023-02-02 -0.090627  0.657805         0\n",
      "2023-02-03  0.738880  0.534307         0\n",
      "2023-02-04 -0.393569  0.197290         1\n",
      "2023-02-05  1.110374  0.010343         0\n",
      "2023-02-06  1.486216  0.146915         1\n",
      "2023-02-07  0.077093  0.201131         1\n",
      "2023-02-08 -0.832259  0.568268         0\n",
      "2023-02-09  0.660983  0.113207         1\n",
      "2023-02-10  1.751593  0.808860         0\n",
      "2023-02-11 -0.218920  0.229569         0\n",
      "2023-02-12  0.024014  0.019170         0\n",
      "2023-02-13 -1.491714  0.241317         0\n",
      "2023-02-14 -0.022365  0.202845         0\n",
      "2023-02-15 -1.241253  0.704901         0\n",
      "2023-02-16 -0.625756  0.311585         0\n",
      "2023-02-17 -1.131304  0.348814         0\n",
      "2023-02-18 -1.022452  0.838496         1\n",
      "2023-02-19 -0.497221  0.627572         0\n"
     ]
    }
   ],
   "source": [
    "df_new = pd.read_csv('./dataframe50.csv', index_col=0)\n",
    "\n",
    "print(df_new)"
   ]
  }
 ],
 "metadata": {
  "kernelspec": {
   "display_name": "Python 3",
   "language": "python",
   "name": "python3"
  },
  "language_info": {
   "codemirror_mode": {
    "name": "ipython",
    "version": 3
   },
   "file_extension": ".py",
   "mimetype": "text/x-python",
   "name": "python",
   "nbconvert_exporter": "python",
   "pygments_lexer": "ipython3",
   "version": "3.11.6"
  }
 },
 "nbformat": 4,
 "nbformat_minor": 5
}
