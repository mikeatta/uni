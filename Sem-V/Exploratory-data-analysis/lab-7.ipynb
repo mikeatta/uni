{
 "cells": [
  {
   "cell_type": "markdown",
   "metadata": {},
   "source": [
    "### EDA Lab 7"
   ]
  },
  {
   "cell_type": "markdown",
   "metadata": {},
   "source": [
    "### Imports"
   ]
  },
  {
   "cell_type": "code",
   "execution_count": null,
   "metadata": {},
   "outputs": [],
   "source": [
    "import pandas as pd\n",
    "import numpy as np\n",
    "import datetime"
   ]
  },
  {
   "cell_type": "markdown",
   "metadata": {},
   "source": [
    "### Zadanie 1"
   ]
  },
  {
   "cell_type": "code",
   "execution_count": null,
   "metadata": {},
   "outputs": [],
   "source": [
    "surnames = ['Barlow', 'Fitzgerald', 'Acosta', 'Henderson', 'Coleman']\n",
    "grades = np.random.randint(low=2, high=5, size=5)\n",
    "ages = np.random.randint(low=15, high=50, size=5)\n",
    "\n",
    "data = {'Nazwisko': surnames, 'Wiek': ages, 'Ocena': grades}\n",
    "df = pd.DataFrame(data)\n",
    "df"
   ]
  },
  {
   "cell_type": "markdown",
   "metadata": {},
   "source": [
    "### Zadanie 2"
   ]
  },
  {
   "cell_type": "code",
   "execution_count": null,
   "metadata": {},
   "outputs": [],
   "source": [
    "df.loc[df['Wiek'] > 25]"
   ]
  },
  {
   "cell_type": "markdown",
   "metadata": {},
   "source": [
    "### Zadanie 3"
   ]
  },
  {
   "cell_type": "code",
   "execution_count": null,
   "metadata": {},
   "outputs": [],
   "source": [
    "df_sorted = df.sort_values('Ocena', ascending=False)\n",
    "df_sorted"
   ]
  },
  {
   "cell_type": "markdown",
   "metadata": {},
   "source": [
    "### Zadanie 4"
   ]
  },
  {
   "cell_type": "code",
   "execution_count": null,
   "metadata": {},
   "outputs": [],
   "source": [
    "age_mean = df['Wiek'].mean(axis=0)\n",
    "age_mean"
   ]
  },
  {
   "cell_type": "markdown",
   "metadata": {},
   "source": [
    "### Zadanie 5"
   ]
  },
  {
   "cell_type": "code",
   "execution_count": null,
   "metadata": {},
   "outputs": [],
   "source": [
    "df.to_csv(path_or_buf='./Data/Lab_07/df.csv')"
   ]
  },
  {
   "cell_type": "markdown",
   "metadata": {},
   "source": [
    "### Zadanie 6"
   ]
  },
  {
   "cell_type": "code",
   "execution_count": null,
   "metadata": {},
   "outputs": [],
   "source": [
    "start_date = datetime.date(2024, 1, 1)\n",
    "end_date = datetime.date(2024, 12, 31)\n",
    "date_range = pd.date_range(start=start_date, end=end_date, periods=5)\n",
    "\n",
    "trend = np.linspace(50, 150, num=len(date_range))\n",
    "fluctuations = np.random.normal(scale=10, size=len(date_range))\n",
    "\n",
    "df = pd.DataFrame({\n",
    "    'Data': date_range,\n",
    "    'Wartość': trend + fluctuations\n",
    "})"
   ]
  },
  {
   "cell_type": "code",
   "execution_count": null,
   "metadata": {},
   "outputs": [],
   "source": [
    "df"
   ]
  },
  {
   "cell_type": "markdown",
   "metadata": {},
   "source": [
    "### Zadanie 7"
   ]
  },
  {
   "cell_type": "code",
   "execution_count": null,
   "metadata": {},
   "outputs": [],
   "source": [
    "wartosc_rolling_avg = df['Wartość'].rolling(window=5).mean().reset_index(drop=True)\n",
    "wartosc_rolling_avg"
   ]
  },
  {
   "cell_type": "markdown",
   "metadata": {},
   "source": [
    "### Zadanie 8"
   ]
  },
  {
   "cell_type": "code",
   "execution_count": null,
   "metadata": {},
   "outputs": [],
   "source": [
    "# Add new data to each df\n",
    "\n",
    "df_sorted_new_rows = pd.DataFrame({\n",
    "    'Nazwisko': ['Thompson'],\n",
    "    'Wiek': [17],\n",
    "    'Ocena': [5]\n",
    "})\n",
    "\n",
    "df_new_rows = pd.DataFrame({\n",
    "    'Data': pd.date_range(start='2025-01-01', end='2025-01-31', periods=2)\n",
    "})\n",
    "\n",
    "last_value = df['Wartość'].iloc[-1]\n",
    "trend_new = np.linspace(last_value, last_value + 100, num=len(df_new_rows))\n",
    "fluctuations_new = np.random.normal(scale=10, size=len(df_new_rows))\n",
    "\n",
    "df_new_rows['Wartość'] = trend_new + fluctuations_new\n",
    "\n",
    "df_sorted = pd.concat([df_sorted, df_sorted_new_rows], ignore_index=True)\n",
    "df = pd.concat([df, df_new_rows], ignore_index=True)"
   ]
  },
  {
   "cell_type": "code",
   "execution_count": null,
   "metadata": {},
   "outputs": [],
   "source": [
    "# Set the previous df indexes as new columns under the name of ID\n",
    "\n",
    "df_sorted['ID'] = df_sorted.index\n",
    "df['ID'] = df.index"
   ]
  },
  {
   "cell_type": "code",
   "execution_count": null,
   "metadata": {},
   "outputs": [],
   "source": [
    "# Drop the first entry from df\n",
    "\n",
    "df.drop(index=0, inplace=True)\n",
    "df"
   ]
  },
  {
   "cell_type": "code",
   "execution_count": null,
   "metadata": {},
   "outputs": [],
   "source": [
    "df_sorted"
   ]
  },
  {
   "cell_type": "markdown",
   "metadata": {},
   "source": [
    "#### Perform the df merges"
   ]
  },
  {
   "cell_type": "code",
   "execution_count": null,
   "metadata": {},
   "outputs": [],
   "source": [
    "df_merged_left = pd.merge(left=df_sorted, right=df, on='ID', how='left')\n",
    "df_merged_left"
   ]
  },
  {
   "cell_type": "code",
   "execution_count": null,
   "metadata": {},
   "outputs": [],
   "source": [
    "df_merged_right = pd.merge(left=df_sorted, right=df, on='ID', how='right')\n",
    "df_merged_right"
   ]
  },
  {
   "cell_type": "code",
   "execution_count": null,
   "metadata": {},
   "outputs": [],
   "source": [
    "df_merged_outer = pd.merge(left=df_sorted, right=df, on='ID', how='outer')\n",
    "df_merged_outer"
   ]
  },
  {
   "cell_type": "code",
   "execution_count": null,
   "metadata": {},
   "outputs": [],
   "source": [
    "df_merged_inner = pd.merge(left=df_sorted, right=df, on='ID', how='inner')\n",
    "df_merged_inner"
   ]
  },
  {
   "cell_type": "markdown",
   "metadata": {},
   "source": [
    "### Zadanie 9"
   ]
  },
  {
   "cell_type": "code",
   "execution_count": null,
   "metadata": {},
   "outputs": [],
   "source": [
    "df_merged_inner.to_json(path_or_buf='./Data/Lab_07/df_merged_inner.json')"
   ]
  }
 ],
 "metadata": {
  "kernelspec": {
   "display_name": "uni_eda",
   "language": "python",
   "name": "python3"
  },
  "language_info": {
   "codemirror_mode": {
    "name": "ipython",
    "version": 3
   },
   "file_extension": ".py",
   "mimetype": "text/x-python",
   "name": "python",
   "nbconvert_exporter": "python",
   "pygments_lexer": "ipython3",
   "version": "3.11.7"
  }
 },
 "nbformat": 4,
 "nbformat_minor": 2
}
