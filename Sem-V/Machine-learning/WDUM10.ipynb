{
  "cells": [
    {
      "cell_type": "markdown",
      "metadata": {
        "id": "h7UtugiMpNRn"
      },
      "source": [
        "# Wstęp do uczenia maszynowego - laboratorium 12\n",
        "\n",
        "### Redukcja wymiarów (ang. dimensionality reduction)"
      ]
    },
    {
      "cell_type": "markdown",
      "metadata": {
        "id": "8asFxWhspNRo"
      },
      "source": [
        "### Pytania kontrolne\n",
        "\n",
        "1. Po co stosuje się redukcję wymiarów?\n",
        "2. Wymień znane Ci algorytmy redukcji wymiarów."
      ]
    },
    {
      "cell_type": "markdown",
      "metadata": {
        "id": "mmFft0KspNRo"
      },
      "source": [
        "### Ćwiczenie\n",
        "\n",
        "Wczytaj zbiór danych dotyczący kosaćców (`load_iris`). Przypisz do zmiennych dane, etykiety i nazwy klas (przydadzą się później).\n",
        "\n",
        "hint: nie używaj `return_X_y=True`"
      ]
    },
    {
      "cell_type": "code",
      "execution_count": null,
      "metadata": {
        "id": "hjs9iSw0pNRp"
      },
      "outputs": [],
      "source": [
        "from sklearn.datasets import load_iris\n",
        "\n",
        "iris = load_iris()\n",
        "X = iris.data\n",
        "y = iris.target\n",
        "target_names = iris.target_names"
      ]
    },
    {
      "cell_type": "code",
      "execution_count": null,
      "metadata": {},
      "outputs": [],
      "source": [
        "X"
      ]
    },
    {
      "cell_type": "code",
      "execution_count": null,
      "metadata": {},
      "outputs": [],
      "source": [
        "y"
      ]
    },
    {
      "cell_type": "code",
      "execution_count": null,
      "metadata": {},
      "outputs": [],
      "source": [
        "target_names"
      ]
    },
    {
      "cell_type": "markdown",
      "metadata": {
        "id": "8aVbph-jpNRp"
      },
      "source": [
        "### Ćwiczenie\n",
        "\n",
        "Zredukuj zbiór `iris` do dwóch wymiarów z wykorzystaniem `sklearn.decomposition.PCA` (https://scikit-learn.org/stable/modules/generated/sklearn.decomposition.PCA.html)"
      ]
    },
    {
      "cell_type": "code",
      "execution_count": null,
      "metadata": {
        "id": "7CpDE6InpNRp"
      },
      "outputs": [],
      "source": [
        "from sklearn.decomposition import PCA\n",
        "\n",
        "pca = PCA(n_components=2)\n",
        "X_pca = pca.fit_transform(X=X)"
      ]
    },
    {
      "cell_type": "markdown",
      "metadata": {
        "id": "Y8XMX53ApNRp"
      },
      "source": [
        "### Ćwiczenie\n",
        "Popraw kod w poniższej komórce (uzupełnij wystąpienia `None` kodem) i zwizualizuj dane w dwóch wymiarach."
      ]
    },
    {
      "cell_type": "code",
      "execution_count": null,
      "metadata": {
        "id": "Nvg75TkfpNRp"
      },
      "outputs": [],
      "source": [
        "import matplotlib.pyplot as plt\n",
        "\n",
        "plt.figure()\n",
        "colors = ['navy', 'turquoise', 'darkorange']\n",
        "lw = 2\n",
        "\n",
        "for color, i, target_name in zip(colors, [0, 1, 2], target_names):\n",
        "    plt.scatter(X_pca[y == i, 0], X_pca[y ==i, 1], color=color, alpha=.8, lw=lw,\n",
        "                label=target_name)\n",
        "\n",
        "plt.legend(loc='best', shadow=False, scatterpoints=1)\n",
        "plt.title('Zbiór iris zredukowany PCA do dwóch wymiarów')\n",
        "plt.show()"
      ]
    },
    {
      "cell_type": "markdown",
      "metadata": {
        "id": "X45MiXh-pNRq"
      },
      "source": [
        "### Ćwiczenie\n",
        "\n",
        "Powtórz poprzednie dwa ćwiczenia tym razem dla algorytmu t-SNE (`sklearn.manifold.TSNE`). Sprawdź wyniki dla różnych wartości hiperparameru `perplexity`."
      ]
    },
    {
      "cell_type": "code",
      "execution_count": null,
      "metadata": {
        "id": "tpLY_ugBpNRq"
      },
      "outputs": [],
      "source": [
        "from sklearn.manifold import TSNE\n",
        "import numpy as np\n",
        "\n",
        "perplexity_values = np.arange(start=5, step=5, stop=31)\n",
        "\n",
        "fig, axes = plt.subplots(ncols=2, nrows=3, figsize=(16, 8))\n",
        "\n",
        "for idx, perplexity in enumerate(perplexity_values):\n",
        "    tsne = TSNE(n_components=2, perplexity=perplexity)\n",
        "    X_tsne = tsne.fit_transform(X=X)\n",
        "\n",
        "    # Plot charts with different perplexity values\n",
        "    ax = axes.flatten()[idx]\n",
        "    colors = ['navy', 'turquoise', 'darkorange']\n",
        "    lw = 2\n",
        "\n",
        "    for color, i, target_name in zip(colors, [0, 1, 2], target_names):\n",
        "        ax.scatter(X_tsne[y == i, 0], X_tsne[y ==i, 1], color=color, alpha=.8, lw=lw,\n",
        "                    label=target_name)\n",
        "\n",
        "    ax.legend(loc='best', shadow=False, scatterpoints=1)\n",
        "    ax.set_title(f'Zbiór iris zredukowany TSNE do dwóch wymiarów (Perplexity: {perplexity})')\n",
        "\n",
        "plt.tight_layout()\n",
        "plt.show()"
      ]
    },
    {
      "cell_type": "markdown",
      "metadata": {
        "id": "3-lBUkt6pNRq"
      },
      "source": [
        "### Ćwiczenie\n",
        "\n",
        "Wczytaj zbiór danych dot. cyfr (`load_digits`). Zredukuj dane do dwóch wymiarów używając algorytmów PCA i t-SNE."
      ]
    },
    {
      "cell_type": "code",
      "execution_count": null,
      "metadata": {
        "id": "xkwGwlh2pNRq"
      },
      "outputs": [],
      "source": [
        "from sklearn.datasets import load_digits\n",
        "\n",
        "digits = load_digits()\n",
        "\n",
        "X = digits.data\n",
        "y = digits.target\n",
        "target_names = digits.target_names"
      ]
    },
    {
      "cell_type": "code",
      "execution_count": null,
      "metadata": {},
      "outputs": [],
      "source": [
        "pca = PCA(n_components=2)\n",
        "tsne = TSNE(n_components=2)\n",
        "\n",
        "X_pca = pca.fit_transform(X=X, y=y)\n",
        "X_tsne = tsne.fit_transform(X=X, y=y)"
      ]
    },
    {
      "cell_type": "markdown",
      "metadata": {
        "id": "iCiSwTUOpNRq"
      },
      "source": [
        "### Ćwiczenie\n",
        "\n",
        "Wykorzystaj poniższą funkcję do zwizualizowania wyników PCA i t-SNE dla zbioru `digits`."
      ]
    },
    {
      "cell_type": "code",
      "execution_count": null,
      "metadata": {
        "id": "t5Kl4aoGpNRq"
      },
      "outputs": [],
      "source": [
        "# źródło: https://scikit-learn.org/stable/auto_examples/manifold/plot_lle_digits.html\n",
        "import numpy as np\n",
        "from matplotlib import offsetbox\n",
        "\n",
        "def plot_embedding(X, y, title=None):\n",
        "    x_min, x_max = np.min(X, 0), np.max(X, 0)\n",
        "    X = (X - x_min) / (x_max - x_min)\n",
        "\n",
        "    plt.figure()\n",
        "    ax = plt.subplot(111)\n",
        "    for i in range(X.shape[0]):\n",
        "        plt.text(X[i, 0], X[i, 1], str(y[i]),\n",
        "                 color=plt.cm.Set1(y[i] / 10.),\n",
        "                 fontdict={'weight': 'bold', 'size': 9})\n",
        "\n",
        "    if hasattr(offsetbox, 'AnnotationBbox'):\n",
        "        # only print thumbnails with matplotlib > 1.0\n",
        "        shown_images = np.array([[1., 1.]])  # just something big\n",
        "        for i in range(X.shape[0]):\n",
        "            dist = np.sum((X[i] - shown_images) ** 2, 1)\n",
        "            if np.min(dist) < 4e-3:\n",
        "                # don't show points that are too close\n",
        "                continue\n",
        "            shown_images = np.r_[shown_images, [X[i]]]\n",
        "            imagebox = offsetbox.AnnotationBbox(\n",
        "                offsetbox.OffsetImage(digits.images[i], cmap=plt.cm.gray_r),\n",
        "                X[i])\n",
        "            ax.add_artist(imagebox)\n",
        "    plt.xticks([]), plt.yticks([])\n",
        "    if title is not None:\n",
        "        plt.title(title)"
      ]
    },
    {
      "cell_type": "code",
      "execution_count": null,
      "metadata": {
        "id": "Ldw3nxyKpNRr"
      },
      "outputs": [],
      "source": [
        "plot_embedding(X=X_pca, y=y, title='PCA Plot')"
      ]
    },
    {
      "cell_type": "code",
      "execution_count": null,
      "metadata": {},
      "outputs": [],
      "source": [
        "plot_embedding(X=X_tsne, y=y, title='TNSE Plot')"
      ]
    },
    {
      "cell_type": "markdown",
      "metadata": {
        "id": "Cl2v5OQ2pNRr"
      },
      "source": [
        "### Ćwiczenie*\n",
        "Wykorzystaj dokumentację biblioteki `umap-learn` (https://umap-learn.readthedocs.io/en/latest/plotting.html), aby wykonać poniższe kroki:\n",
        "\n",
        "\n",
        "1. Wczytaj zbiór danych `Fasion-MNIST` wykorzystując funkcję `fetch_openml` z `sklearn.datasets`.\n",
        "2. Zredukuj zbiór `Fashion-MNIST` (dla szybkości działania: pierwsze 5000 wierszy) do dwóch wymiarów z użyciem `UMAP`.\n",
        "3. Zwizualizuj wyniki używając funkcji `umap.plot.points()`.\n",
        "\n",
        "uwaga: do kroku 2. należy zainstalować bibliotekę `umap-learn` (pip install), a następnie zaimportować ją jako `import umap`  \n",
        "uwaga2: użycie `import umap.plot` w kroku 3. wymaga doinstalowania pozostałych brakujących zależności\n"
      ]
    },
    {
      "cell_type": "code",
      "execution_count": null,
      "metadata": {
        "id": "Fxi4ZXH_pNRr"
      },
      "outputs": [],
      "source": [
        "from sklearn.datasets import fetch_openml\n",
        "\n",
        "fmnist = fetch_openml(data_id=40996, as_frame=False)\n",
        "features = fmnist.data[:5000, :]\n",
        "target = fmnist.target[:5000]"
      ]
    },
    {
      "cell_type": "code",
      "execution_count": null,
      "metadata": {
        "id": "kREzycwapNRr"
      },
      "outputs": [],
      "source": [
        "import umap\n",
        "\n",
        "mapper = umap.UMAP().fit(features)"
      ]
    },
    {
      "cell_type": "code",
      "execution_count": null,
      "metadata": {
        "id": "aW7-5WRQpNRr"
      },
      "outputs": [],
      "source": [
        "import umap.plot\n",
        "\n",
        "umap.plot.points(umap_object=mapper, labels=target, theme='fire')"
      ]
    }
  ],
  "metadata": {
    "colab": {
      "provenance": []
    },
    "kernelspec": {
      "display_name": "Python 3",
      "language": "python",
      "name": "python3"
    },
    "language_info": {
      "codemirror_mode": {
        "name": "ipython",
        "version": 3
      },
      "file_extension": ".py",
      "mimetype": "text/x-python",
      "name": "python",
      "nbconvert_exporter": "python",
      "pygments_lexer": "ipython3",
      "version": "3.11.7"
    }
  },
  "nbformat": 4,
  "nbformat_minor": 0
}
