{
 "cells": [
  {
   "cell_type": "markdown",
   "metadata": {},
   "source": [
    "## Music Genre Analysis"
   ]
  },
  {
   "cell_type": "markdown",
   "metadata": {},
   "source": [
    "### Imports"
   ]
  },
  {
   "cell_type": "code",
   "execution_count": null,
   "metadata": {},
   "outputs": [],
   "source": [
    "# Library imports\n",
    "\n",
    "import pandas as pd\n",
    "\n",
    "pd.set_option(\"display.max_columns\", None)"
   ]
  },
  {
   "cell_type": "markdown",
   "metadata": {},
   "source": [
    "### Importing the dataset and basic EDA"
   ]
  },
  {
   "cell_type": "code",
   "execution_count": null,
   "metadata": {},
   "outputs": [],
   "source": [
    "# Dataset import\n",
    "\n",
    "df = pd.read_csv(\"./Data/features_30_sec.csv\")\n",
    "df.head()"
   ]
  },
  {
   "cell_type": "code",
   "execution_count": null,
   "metadata": {},
   "outputs": [],
   "source": [
    "df.shape"
   ]
  },
  {
   "cell_type": "code",
   "execution_count": null,
   "metadata": {},
   "outputs": [],
   "source": [
    "df.info()"
   ]
  },
  {
   "cell_type": "markdown",
   "metadata": {},
   "source": [
    "#### General data explanation"
   ]
  },
  {
   "cell_type": "markdown",
   "metadata": {},
   "source": [
    "Each of the musical characteristics is split into a pair of '_mean' and '_var' labeled columns:\n",
    "\n",
    "- **mean** - represents the mean of characteristic value\n",
    "- **var** - represents the variance of characteristic value\n",
    "\n",
    "Characteristics of the dataset samples:\n",
    "\n",
    "- **chroma_stft** - (Chroma Short-Time Fourier Transformation) - represents energy distribution of pitches in audio signals\n",
    "- **rms** - (Root Mean Square) - represents the amplitude of the audio signal\n",
    "- **spectral_centroid** - indicates where the center of mass of the spectrum is located and gives an idea about the sound brightness\n",
    "- **spectral_bandwidth** - describes the width of the spectral band around the spectral centroid\n",
    "- **rolloff** - (Spectral roll-off) - represents the frequency below which a specified percentage of the total spectral energy is contained\n",
    "- **zero_crossing_rate** - Indicated the rate at which the signal changes its sign, related to sound noisiness or percussiveness\n",
    "- **harmony** - represents the overall tonal quality and harmonic content of the sound\n",
    "- **perceptr** - (Perceptual spread) - represents the perceived spread of the sound frequency\n",
    "- **tempo** - represents the pace or speed of the music sample, measured in beats per minute (BPM)\n",
    "- **mfcc** - (Mel-Frequency Cepstral Coefficients) - coefficient representation of the short-term power spectrum of the sound signal"
   ]
  },
  {
   "cell_type": "code",
   "execution_count": null,
   "metadata": {},
   "outputs": [],
   "source": [
    "df.describe().transpose()"
   ]
  },
  {
   "cell_type": "code",
   "execution_count": null,
   "metadata": {},
   "outputs": [],
   "source": [
    "# Check for missing values\n",
    "\n",
    "df.isna().sum()"
   ]
  },
  {
   "cell_type": "code",
   "execution_count": null,
   "metadata": {},
   "outputs": [],
   "source": [
    "df['label'].value_counts().reset_index()"
   ]
  },
  {
   "cell_type": "code",
   "execution_count": null,
   "metadata": {},
   "outputs": [],
   "source": [
    "from matplotlib import pyplot as plt\n",
    "\n",
    "# Drop str type columns from the dataset\n",
    "\n",
    "df_trimmed = df.drop(columns=[\"filename\", \"label\"], axis=1)\n",
    "columns_to_plot = df_trimmed.columns\n",
    "\n",
    "# Set up subplots\n",
    "\n",
    "fig, axes = plt.subplots(nrows=len(columns_to_plot), ncols=1, figsize=(12, 60))\n",
    "\n",
    "# Plot a histogram for each column\n",
    "\n",
    "for i, column in enumerate(columns_to_plot):\n",
    "    axes[i].hist(df_trimmed[column], color='blue', alpha=0.7)\n",
    "    axes[i].set_title(column)\n",
    "\n",
    "plt.tight_layout()\n",
    "plt.show()\n"
   ]
  },
  {
   "cell_type": "code",
   "execution_count": null,
   "metadata": {},
   "outputs": [],
   "source": [
    "import re\n",
    "\n",
    "# Remove all of the mfcc*_vars and mfcc*_means except for the initial ones\n",
    "\n",
    "columns = df_trimmed.columns\n",
    "\n",
    "columns_to_drop = []\n",
    "first_occurances = {}\n",
    "\n",
    "for column in columns:\n",
    "    if column.startswith(\"mfcc\") and (\"_mean\" in column or \"_var\" in column):\n",
    "        match = re.search(r\"mfcc(\\d+)_\", column)\n",
    "        if match and int(match.group(1)) > 1:\n",
    "            columns_to_drop.append(column)\n",
    "\n",
    "df_trimmed.drop(columns=columns_to_drop, inplace=True)\n",
    "\n",
    "print(df_trimmed.columns)\n",
    "print(f'Columns: {len(df_trimmed.columns)}')"
   ]
  },
  {
   "cell_type": "code",
   "execution_count": null,
   "metadata": {},
   "outputs": [],
   "source": [
    "# Draw the correlation matrix\n",
    "\n",
    "import seaborn as sns\n",
    "import matplotlib.pyplot as plt\n",
    "\n",
    "correlation_matrix = df_trimmed.corr()\n",
    "\n",
    "plt.figure(figsize=(16, 8))\n",
    "sns.heatmap(correlation_matrix, annot=True, cmap=\"coolwarm\", fmt=\".2f\")\n",
    "plt.title(\"Correlation matrix\")\n",
    "plt.show()"
   ]
  },
  {
   "cell_type": "markdown",
   "metadata": {},
   "source": [
    "### Visualizing the data"
   ]
  },
  {
   "cell_type": "code",
   "execution_count": null,
   "metadata": {},
   "outputs": [],
   "source": [
    "# Get every unique genre in the dataset\n",
    "\n",
    "genres = df['label'].unique()\n",
    "print(genres)"
   ]
  },
  {
   "cell_type": "code",
   "execution_count": null,
   "metadata": {},
   "outputs": [],
   "source": [
    "# Create a dictionary with file names for each music genre\n",
    "\n",
    "import os\n",
    "\n",
    "audio_dir_contents = {}\n",
    "for genre in genres:\n",
    "    audio_files = [\n",
    "        file\n",
    "        for file in os.listdir(f\"./Data/genres_original/{genre}\")\n",
    "        if file.endswith(\".wav\")\n",
    "    ]\n",
    "    audio_dir_contents[genre] = audio_files\n",
    "\n",
    "print(audio_dir_contents)"
   ]
  },
  {
   "cell_type": "code",
   "execution_count": null,
   "metadata": {},
   "outputs": [],
   "source": [
    "# Select a random file from each music genre\n",
    "\n",
    "import random\n",
    "\n",
    "random_audio_selection = {}\n",
    "for genre, files in audio_dir_contents.items():\n",
    "    random_audio = random.choice(files)\n",
    "    random_audio_selection[genre] = random_audio\n",
    "\n",
    "print(random_audio_selection)"
   ]
  },
  {
   "cell_type": "code",
   "execution_count": null,
   "metadata": {},
   "outputs": [],
   "source": [
    "# Load the audio with Librosa\n",
    "\n",
    "import librosa\n",
    "\n",
    "audios = {}\n",
    "sample_rates = {}\n",
    "for audio in random_audio_selection.keys():\n",
    "    audio_path = f'./Data/genres_original/{audio}/{random_audio_selection[audio]}'\n",
    "    data, sr = librosa.load(audio_path, sr=45600)\n",
    "    audios[audio] = data\n",
    "    sample_rates[f'{audio}:sr'] = sr"
   ]
  },
  {
   "cell_type": "code",
   "execution_count": null,
   "metadata": {},
   "outputs": [],
   "source": [
    "# Add a color dictionary for audio plots\n",
    "\n",
    "audio_colors = {\n",
    "    'blues': 'blue',\n",
    "    'classical': 'purple',\n",
    "    'country': 'brown',\n",
    "    'disco': 'gray',\n",
    "    'hiphop': 'red',\n",
    "    'jazz': 'violet',\n",
    "    'metal': 'black',\n",
    "    'pop': 'pink',\n",
    "    'reggae': 'green',\n",
    "    'rock': 'orange'\n",
    "}"
   ]
  },
  {
   "cell_type": "markdown",
   "metadata": {},
   "source": [
    "#### Audio plot descriptions\n",
    "\n",
    "- **Waveplot** - represents the change of air pressure at the current moment, ie. loudness of the audio sample at a given moment\n",
    "- **STFT plot** - represents frequency components and their change over time\n",
    "- **Spectrogram plot** - represents how the frequency content of a signal changes over time\n",
    "- **Spectral roll-off plot** - represents the distribution of energy across the frequency spectrum\n",
    "- **MFCC** - represents the frequency composition and the dynamics of the audio samples"
   ]
  },
  {
   "cell_type": "code",
   "execution_count": null,
   "metadata": {},
   "outputs": [],
   "source": [
    "# Waveplots\n",
    "\n",
    "for audio in audios.keys():\n",
    "    plt.figure(figsize=(12, 4))\n",
    "    plt.title(f'Waveplot for {audio} music genre', size=15)\n",
    "    librosa.display.waveshow(audios[audio], color=audio_colors[audio])\n",
    "    plt.show()"
   ]
  },
  {
   "cell_type": "code",
   "execution_count": null,
   "metadata": {},
   "outputs": [],
   "source": [
    "# STFT plots\n",
    "\n",
    "for audio in zip(audios.keys(), sample_rates.keys()):\n",
    "    stft = librosa.stft(audios[audio[0]])\n",
    "    plt.figure(figsize=(12, 4))\n",
    "    plt.title(f'Short Time Fourier Transformation plot for {audio[0]} music genre', size=15)\n",
    "    librosa.display.specshow(stft, sr=sample_rates[audio[1]], x_axis='time', y_axis='hz')\n",
    "    plt.colorbar()"
   ]
  },
  {
   "cell_type": "code",
   "execution_count": null,
   "metadata": {},
   "outputs": [],
   "source": [
    "# Spectrogram plots\n",
    "\n",
    "for audio in zip(audios.keys(), sample_rates.keys()):\n",
    "    stft = librosa.stft(audios[audio[0]])\n",
    "    stft_db = librosa.amplitude_to_db(abs(stft))\n",
    "    plt.figure(figsize=(12, 4))\n",
    "    plt.title(f'Spectrogram plot for {audio[0]} music genre', size=15)\n",
    "    librosa.display.specshow(stft_db, sr=sample_rates[audio[1]], x_axis='time', y_axis='hz')\n",
    "    plt.colorbar()"
   ]
  },
  {
   "cell_type": "code",
   "execution_count": null,
   "metadata": {},
   "outputs": [],
   "source": [
    "# Spectral roll-offs plots\n",
    "\n",
    "for audio in zip(audios.keys(), sample_rates.keys()):\n",
    "    spectral_rolloff = librosa.feature.spectral_rolloff(y=audios[audio[0]], sr=sample_rates[audio[1]])[0]\n",
    "    plt.figure(figsize=(12, 4))\n",
    "    plt.title(f'Spectral Rolloff plot for {audio[0]} music genre', size=15)\n",
    "    plt.plot(spectral_rolloff, color=audio_colors[audio[0]])\n",
    "    plt.xlabel('Frame')\n",
    "    plt.ylabel('Spectral Rolloff')\n",
    "    plt.show()"
   ]
  },
  {
   "cell_type": "code",
   "execution_count": null,
   "metadata": {},
   "outputs": [],
   "source": [
    "# MFCC plots\n",
    "\n",
    "for audio in zip(audios.keys(), sample_rates.keys()):\n",
    "    mfcc = librosa.feature.mfcc(y=audios[audio[0]], sr=sample_rates[audio[1]])\n",
    "    plt.figure(figsize=(12, 4))\n",
    "    plt.title(f'MFCC plot for {audio[0]} music genre', size=15)\n",
    "    librosa.display.specshow(mfcc, sr=sample_rates[audio[1]], x_axis='time')\n",
    "    plt.show()"
   ]
  },
  {
   "cell_type": "markdown",
   "metadata": {},
   "source": [
    "### Building the model"
   ]
  },
  {
   "cell_type": "markdown",
   "metadata": {},
   "source": [
    "#### Splitting the data"
   ]
  },
  {
   "cell_type": "code",
   "execution_count": null,
   "metadata": {},
   "outputs": [],
   "source": [
    "from sklearn.model_selection import train_test_split\n",
    "\n",
    "# Define the features (X) and the target (y)\n",
    "\n",
    "X = df.drop(columns=['filename', 'label'])\n",
    "y = df['label']\n",
    "\n",
    "# Split the dataset\n",
    "\n",
    "X_train, X_temp, y_train, y_temp = train_test_split(X, y, test_size=0.4, random_state=42, stratify=y)\n",
    "X_val, X_test, y_val, y_test = train_test_split(X_temp, y_temp, test_size=0.5, random_state=42, stratify=y_temp)"
   ]
  },
  {
   "cell_type": "markdown",
   "metadata": {},
   "source": [
    "#### Scaling the data"
   ]
  },
  {
   "cell_type": "code",
   "execution_count": null,
   "metadata": {},
   "outputs": [],
   "source": [
    "from sklearn.preprocessing import StandardScaler\n",
    "\n",
    "scaler = StandardScaler()\n",
    "X_train_scaled = scaler.fit_transform(X=X_train)\n",
    "X_val_scaled = scaler.transform(X=X_val)\n",
    "X_test_scaled = scaler.transform(X=X_test)"
   ]
  },
  {
   "cell_type": "markdown",
   "metadata": {},
   "source": [
    "#### Training the model (SVM)"
   ]
  },
  {
   "cell_type": "code",
   "execution_count": null,
   "metadata": {},
   "outputs": [],
   "source": [
    "from sklearn.svm import SVC\n",
    "\n",
    "# Define the linear kernel SVM\n",
    "\n",
    "svm_linear = SVC(kernel='linear')\n",
    "svm_linear.fit(X=X_train_scaled, y=y_train)\n",
    "\n",
    "# Define the RBF kernel SVM\n",
    "\n",
    "svm_rbf = SVC(kernel='rbf')\n",
    "svm_rbf.fit(X=X_train_scaled, y=y_train)"
   ]
  },
  {
   "cell_type": "code",
   "execution_count": null,
   "metadata": {},
   "outputs": [],
   "source": [
    "svm_linear.get_params()"
   ]
  },
  {
   "cell_type": "code",
   "execution_count": null,
   "metadata": {},
   "outputs": [],
   "source": [
    "svm_rbf.get_params()"
   ]
  },
  {
   "cell_type": "markdown",
   "metadata": {},
   "source": [
    "#### Testing the model (SVM)"
   ]
  },
  {
   "cell_type": "code",
   "execution_count": null,
   "metadata": {},
   "outputs": [],
   "source": [
    "from sklearn.metrics import classification_report\n",
    "\n",
    "# Test the linear kernel SVM\n",
    "\n",
    "y_pred_svm_linear = svm_linear.predict(X=X_val_scaled)\n",
    "print(f'Classification report for the linear kernel:\\n {classification_report(y_pred=y_val, y_true=y_pred_svm_linear)}')\n",
    "\n",
    "# Test the RBF kernel SVM\n",
    "\n",
    "y_pred_svm_rbf = svm_rbf.predict(X=X_val_scaled)\n",
    "print(f'Classification report for the RBF kernel:\\n {classification_report(y_pred=y_val, y_true=y_pred_svm_rbf)}')"
   ]
  },
  {
   "cell_type": "markdown",
   "metadata": {},
   "source": [
    "#### Summary chart"
   ]
  },
  {
   "cell_type": "code",
   "execution_count": null,
   "metadata": {},
   "outputs": [],
   "source": [
    "import matplotlib.pyplot as plt\n",
    "import pandas as pd\n",
    "\n",
    "def extract_scores(report):\n",
    "    report_dict = report\n",
    "    return (report_dict['precision'], report_dict['recall'], report_dict['f1-score'])\n",
    "\n",
    "# Generate reports for the models\n",
    "\n",
    "report_svm_linear = classification_report(y_true=y_val, y_pred=y_pred_svm_linear, output_dict=True)\n",
    "report_svm_rbf = classification_report(y_true=y_val, y_pred=y_pred_svm_rbf, output_dict=True)\n",
    "\n",
    "# Extract classification scores\n",
    "\n",
    "precision_svm_linear, recall_svm_linear, f1_score_svm_linear = extract_scores(report_svm_linear['macro avg'])\n",
    "precision_svm_rbf, recall_svm_rbf, f1_score_svm_rbf = extract_scores(report_svm_rbf['macro avg'])\n",
    "\n",
    "df_scores = pd.DataFrame({\n",
    "    'Model': ['Linear', 'RBF'],\n",
    "    'Precision': [precision_svm_linear, precision_svm_rbf],\n",
    "    'Recall': [recall_svm_linear, recall_svm_rbf],\n",
    "    'F1-Score': [f1_score_svm_linear, f1_score_svm_rbf]\n",
    "})\n",
    "\n",
    "# Plotting the chart\n",
    "\n",
    "df_scores.plot(x='Model', y=['Precision', 'Recall', 'F1-Score'], kind='bar', figsize=(12, 6))\n",
    "plt.title('Comparison of the SVM Model Performance')\n",
    "plt.ylabel('Score')\n",
    "plt.xlabel('Model')\n",
    "plt.xticks(rotation=0)\n",
    "plt.show()"
   ]
  }
 ],
 "metadata": {
  "kernelspec": {
   "display_name": "uni_ml",
   "language": "python",
   "name": "python3"
  },
  "language_info": {
   "codemirror_mode": {
    "name": "ipython",
    "version": 3
   },
   "file_extension": ".py",
   "mimetype": "text/x-python",
   "name": "python",
   "nbconvert_exporter": "python",
   "pygments_lexer": "ipython3",
   "version": "3.11.7"
  }
 },
 "nbformat": 4,
 "nbformat_minor": 2
}
