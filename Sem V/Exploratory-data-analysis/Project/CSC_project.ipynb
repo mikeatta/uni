{
 "cells": [
  {
   "cell_type": "markdown",
   "metadata": {},
   "source": [
    "## Credit Score Classification"
   ]
  },
  {
   "cell_type": "markdown",
   "metadata": {},
   "source": [
    "### Imports"
   ]
  },
  {
   "cell_type": "code",
   "execution_count": null,
   "metadata": {},
   "outputs": [],
   "source": [
    "import pandas as pd\n",
    "import numpy as np\n",
    "import matplotlib.pyplot as plt\n",
    "import re"
   ]
  },
  {
   "cell_type": "markdown",
   "metadata": {},
   "source": [
    "### Settings"
   ]
  },
  {
   "cell_type": "code",
   "execution_count": null,
   "metadata": {},
   "outputs": [],
   "source": [
    "# Display every column\n",
    "\n",
    "pd.set_option('display.max_columns', None)"
   ]
  },
  {
   "cell_type": "markdown",
   "metadata": {},
   "source": [
    "### Data exploration & cleaning"
   ]
  },
  {
   "cell_type": "code",
   "execution_count": null,
   "metadata": {},
   "outputs": [],
   "source": [
    "# Load the dataset\n",
    "\n",
    "df = pd.read_csv(filepath_or_buffer='./Data/train.csv', low_memory=False)"
   ]
  },
  {
   "cell_type": "code",
   "execution_count": null,
   "metadata": {},
   "outputs": [],
   "source": [
    "df.head()"
   ]
  },
  {
   "cell_type": "code",
   "execution_count": null,
   "metadata": {},
   "outputs": [],
   "source": [
    "df.isnull().sum()"
   ]
  },
  {
   "cell_type": "code",
   "execution_count": null,
   "metadata": {},
   "outputs": [],
   "source": [
    "df.info()"
   ]
  },
  {
   "cell_type": "code",
   "execution_count": null,
   "metadata": {},
   "outputs": [],
   "source": [
    "# Check for duplicate entries in the dataset\n",
    "\n",
    "df.duplicated().any()"
   ]
  },
  {
   "cell_type": "code",
   "execution_count": null,
   "metadata": {},
   "outputs": [],
   "source": [
    "# Get unique values from every column\n",
    "\n",
    "columns = df.columns\n",
    "for column in columns:\n",
    "    print(f'{column}: {df[column].unique()}\\n')"
   ]
  },
  {
   "cell_type": "code",
   "execution_count": null,
   "metadata": {},
   "outputs": [],
   "source": [
    "# Find errors in the SSN column\n",
    "\n",
    "SSN_regex_pattern = r'^\\d{3}-\\d{2}-\\d{4}$'\n",
    "\n",
    "invalid_ssns = ~df['SSN'].str.match(pat=SSN_regex_pattern, na=True)\n",
    "invalid_ssns.sum()"
   ]
  },
  {
   "cell_type": "code",
   "execution_count": null,
   "metadata": {},
   "outputs": [],
   "source": [
    "# Preview incorrect SSN entries\n",
    "\n",
    "df.loc[invalid_ssns, 'SSN']"
   ]
  },
  {
   "cell_type": "code",
   "execution_count": null,
   "metadata": {},
   "outputs": [],
   "source": [
    "# View all the info for records with incorrect SSNs\n",
    "\n",
    "invalid_ssns_info = df.loc[invalid_ssns, :]\n",
    "invalid_ssns_info"
   ]
  },
  {
   "cell_type": "markdown",
   "metadata": {},
   "source": [
    "#### Removing errors in data"
   ]
  },
  {
   "cell_type": "code",
   "execution_count": null,
   "metadata": {},
   "outputs": [],
   "source": [
    "# Remove incorrect entries from the SSN column\n",
    "\n",
    "invalid_ssn_customer_IDs = invalid_ssns_info['Customer_ID'].unique()\n",
    "\n",
    "for customer in invalid_ssn_customer_IDs:\n",
    "    # Filter rows for the current Customer_ID\n",
    "    customer_rows = df[df['Customer_ID'] == customer]\n",
    "    # Extract valid SSN values if found\n",
    "    valid_ssns = customer_rows['SSN'].dropna().unique()\n",
    "    # Update the SSN for the customer with a valid one, if found\n",
    "    if len(valid_ssns) > 0:\n",
    "        df.loc[df['Customer_ID'] == customer, 'SSN'] = valid_ssns[0]"
   ]
  },
  {
   "cell_type": "code",
   "execution_count": null,
   "metadata": {},
   "outputs": [],
   "source": [
    "df[df['SSN'] == '#F%$D@*&8']"
   ]
  },
  {
   "cell_type": "code",
   "execution_count": null,
   "metadata": {},
   "outputs": [],
   "source": [
    "df[df['Customer_ID'] == 'CUS_0x132f']"
   ]
  },
  {
   "cell_type": "code",
   "execution_count": null,
   "metadata": {},
   "outputs": [],
   "source": [
    "# Count the amount of customers with a missing SSN\n",
    "\n",
    "len(df.loc[df['SSN'] == '#F%$D@*&8', 'Customer_ID'].unique())"
   ]
  },
  {
   "cell_type": "code",
   "execution_count": null,
   "metadata": {},
   "outputs": [],
   "source": [
    "# Remove customers with an invalid SSN\n",
    "\n",
    "df = df[df['SSN'] != '#F%$D@*&8']"
   ]
  },
  {
   "cell_type": "code",
   "execution_count": null,
   "metadata": {},
   "outputs": [],
   "source": [
    "# Remove leading and trailing underscores from the data\n",
    "\n",
    "df['Age'] = df['Age'].str.strip(to_strip='_')\n",
    "df['Annual_Income'] = df['Annual_Income'].str.strip(to_strip='_')\n",
    "df['Num_of_Loan'] = df['Num_of_Loan'].str.strip(to_strip='_')\n",
    "df['Num_of_Delayed_Payment'] = df['Num_of_Delayed_Payment'].str.strip(to_strip='_')\n",
    "df['Outstanding_Debt'] = df['Outstanding_Debt'].str.strip(to_strip='_')\n",
    "df['Amount_invested_monthly'] = df['Amount_invested_monthly'].str.strip(to_strip='_')\n",
    "\n",
    "for column in columns:\n",
    "    print(f'{column}: {df[column].unique()}\\n')"
   ]
  },
  {
   "cell_type": "code",
   "execution_count": null,
   "metadata": {},
   "outputs": [],
   "source": [
    "# Remove the underscore entries from the Occupation column\n",
    "\n",
    "df.loc[df['Occupation'] == '_______']\n",
    "\n",
    "df = df.loc[df['Occupation'] != '_______']\n",
    "\n",
    "# Remove the underscore entries from the Changed_Credit_Limit column\n",
    "\n",
    "df.loc[df['Changed_Credit_Limit'] == '_']\n",
    "\n",
    "df = df.loc[df['Changed_Credit_Limit'] != '_']\n",
    "\n",
    "# Remove the underscore entries from the Credit_Mix column\n",
    "\n",
    "df.loc[df['Credit_Mix'] == '_']\n",
    "\n",
    "df = df.loc[df['Credit_Mix'] != '_']"
   ]
  },
  {
   "cell_type": "code",
   "execution_count": null,
   "metadata": {},
   "outputs": [],
   "source": [
    "# Remove invalid entries (negative values, overestimated values)\n",
    "\n",
    "# Fill in incorrect ages\n",
    "\n",
    "incorrect_ages = df.loc[\n",
    "    ~(df['Age'].astype(str).str.match(r'^\\d{2,3}$'))\n",
    "    | (df['Age'].astype(str).str.contains('-'))\n",
    "    | (df['Age'].astype(int) > 120)\n",
    "]\n",
    "\n",
    "df_dropped_ages = df[~df.index.isin(incorrect_ages.index)]\n",
    "incorrect_ages"
   ]
  },
  {
   "cell_type": "code",
   "execution_count": null,
   "metadata": {},
   "outputs": [],
   "source": [
    "# Validate the age on other records with the same Customer_ID\n",
    "\n",
    "df.loc[df['Customer_ID'] == 'CUS_0x6a1b']"
   ]
  },
  {
   "cell_type": "code",
   "execution_count": null,
   "metadata": {},
   "outputs": [],
   "source": [
    "# Calculate the mean of valid age records and update the incorrect Age column records\n",
    "\n",
    "for customer_id in incorrect_ages['Customer_ID'].unique():\n",
    "    # Get all age inputs for the customer with a specific Customer_ID, excluding incorrect ages\n",
    "    correct_ages = df.loc[(df['Customer_ID'] == customer_id) & ~(df.index.isin(incorrect_ages.index)), 'Age']\n",
    "\n",
    "    # Convert correct ages to numeric values\n",
    "    correct_ages_numeric = pd.to_numeric(correct_ages, errors='coerce')\n",
    "\n",
    "    # Calculate and round the mean of correct ages\n",
    "    mean_age = np.nanmean(correct_ages_numeric)\n",
    "    mean_age = mean_age.round().astype(int)\n",
    "\n",
    "    # Update incorrect ages in the original dataframe\n",
    "    mask = (df['Customer_ID'] == customer_id) & (df.index.isin(incorrect_ages.index))\n",
    "    df.loc[mask, 'Age'] = mean_age"
   ]
  },
  {
   "cell_type": "code",
   "execution_count": null,
   "metadata": {},
   "outputs": [],
   "source": [
    "df.loc[df['Customer_ID'] == 'CUS_0x4080']"
   ]
  },
  {
   "cell_type": "code",
   "execution_count": null,
   "metadata": {},
   "outputs": [],
   "source": [
    "# Recheck incorrect ages\n",
    "\n",
    "incorrect_ages = df.loc[\n",
    "    ~(df['Age'].astype(str).str.match(r'^\\d{2,3}$'))\n",
    "    | (df['Age'].astype(str).str.contains('-'))\n",
    "    | (df['Age'].astype(int) > 120)\n",
    "]\n",
    "\n",
    "df_dropped_ages = df[~df.index.isin(incorrect_ages.index)]\n",
    "incorrect_ages"
   ]
  },
  {
   "cell_type": "code",
   "execution_count": null,
   "metadata": {},
   "outputs": [],
   "source": [
    "df.loc[df['Name'] == 'John McCrankb']"
   ]
  },
  {
   "cell_type": "code",
   "execution_count": null,
   "metadata": {},
   "outputs": [],
   "source": [
    "# Remove the customer with the Customer_ID of CUS_0x19cc from the data, as the age could not be corrected\n",
    "\n",
    "df = df[df['Customer_ID'] != 'CUS_0x19cc']"
   ]
  },
  {
   "cell_type": "code",
   "execution_count": null,
   "metadata": {},
   "outputs": [],
   "source": [
    "# Remove incorrect entries from the Payment_Behaviour column\n",
    "\n",
    "df.loc[df['Payment_Behaviour'] == '!@9#%8']"
   ]
  },
  {
   "cell_type": "code",
   "execution_count": null,
   "metadata": {},
   "outputs": [],
   "source": [
    "df.loc[df['Customer_ID'] == 'CUS_0x95ee']"
   ]
  },
  {
   "cell_type": "code",
   "execution_count": null,
   "metadata": {},
   "outputs": [],
   "source": [
    "df_replace_payment_behavior = df['Payment_Behaviour'].replace(to_replace='!@9#%8', value=np.nan)"
   ]
  },
  {
   "cell_type": "code",
   "execution_count": null,
   "metadata": {},
   "outputs": [],
   "source": [
    "df_replace_payment_behavior.isna().sum()"
   ]
  },
  {
   "cell_type": "code",
   "execution_count": null,
   "metadata": {},
   "outputs": [],
   "source": [
    "# Fill NaN values with either frontfill or backfill\n",
    "\n",
    "df_replace_payment_behavior.ffill(inplace=True)\n",
    "df_replace_payment_behavior.bfill(inplace=True)\n",
    "df_replace_payment_behavior.isna().sum()"
   ]
  },
  {
   "cell_type": "code",
   "execution_count": null,
   "metadata": {},
   "outputs": [],
   "source": [
    "# Move corrected column back into the original dataset\n",
    "\n",
    "df['Payment_Behaviour'] = df_replace_payment_behavior\n",
    "df['Payment_Behaviour']"
   ]
  },
  {
   "cell_type": "code",
   "execution_count": null,
   "metadata": {},
   "outputs": [],
   "source": [
    "df.isnull().sum()"
   ]
  },
  {
   "cell_type": "code",
   "execution_count": null,
   "metadata": {},
   "outputs": [],
   "source": [
    "# Remove incorrect entries from the Monthly_Inhand_Salary column\n",
    "\n",
    "df.loc[df['Monthly_Inhand_Salary'].isnull()]"
   ]
  },
  {
   "cell_type": "code",
   "execution_count": null,
   "metadata": {},
   "outputs": [],
   "source": [
    "df.loc[df['Customer_ID'] == 'CUS_0xa053']"
   ]
  },
  {
   "cell_type": "code",
   "execution_count": null,
   "metadata": {},
   "outputs": [],
   "source": [
    "# Create a set of customer IDs with NaN salary values\n",
    "\n",
    "nan_customer_ids = df.loc[df['Monthly_Inhand_Salary'].isnull(), 'Customer_ID'].unique()\n",
    "\n",
    "# Calculate the mean of valid in-hand salary records and update the missing values\n",
    "\n",
    "for customer_id in nan_customer_ids:\n",
    "    # Filter NaN salary values for each Customer_ID\n",
    "    mask_nan_salaries = (df['Customer_ID'] == customer_id) & (df['Monthly_Inhand_Salary'].isnull())\n",
    "    # Get salaries and calculate the mean value\n",
    "    correct_salaries = df.loc[(df['Customer_ID'] == customer_id) & ~(df['Monthly_Inhand_Salary'].isnull()), 'Monthly_Inhand_Salary']\n",
    "    mean_salaries = np.nanmean(correct_salaries)\n",
    "\n",
    "    # Fill in missing salaries\n",
    "    df.loc[mask_nan_salaries, 'Monthly_Inhand_Salary'] = mean_salaries"
   ]
  },
  {
   "cell_type": "code",
   "execution_count": null,
   "metadata": {},
   "outputs": [],
   "source": [
    "df.loc[df['Customer_ID'] == 'CUS_0x2084']"
   ]
  },
  {
   "cell_type": "code",
   "execution_count": null,
   "metadata": {},
   "outputs": [],
   "source": [
    "df.describe(include='object').T"
   ]
  },
  {
   "cell_type": "code",
   "execution_count": null,
   "metadata": {},
   "outputs": [],
   "source": [
    "df.describe().T"
   ]
  },
  {
   "cell_type": "code",
   "execution_count": null,
   "metadata": {},
   "outputs": [],
   "source": [
    "df.loc[df['Monthly_Balance'] == '__-333333333333333333333333333__']"
   ]
  },
  {
   "cell_type": "code",
   "execution_count": null,
   "metadata": {},
   "outputs": [],
   "source": [
    "df.loc[df['SSN'] == '264-53-1943']"
   ]
  },
  {
   "cell_type": "code",
   "execution_count": null,
   "metadata": {},
   "outputs": [],
   "source": [
    "# Fill the Monthly_Balance column with mean values derived from other rows\n",
    "\n",
    "# Convert Monthly_Balance entries to numeric values\n",
    "\n",
    "df['Monthly_Balance'] = pd.to_numeric(df['Monthly_Balance'], errors='coerce')\n",
    "\n",
    "incorrect_monthly_balance_ssns = df.loc[df['Monthly_Balance'].isna(), 'SSN'].unique()\n",
    "\n",
    "# Calculate the mean of valid monthly balance records and update the incorrect values\n",
    "\n",
    "for customer_ssn in incorrect_monthly_balance_ssns:\n",
    "    # Filter incorrect balances for each customer SSN\n",
    "    mask_nan_balances = (df['SSN'] == customer_ssn) & (df['Monthly_Balance'].isna())\n",
    "    # Get other balances and calculate the mean value\n",
    "    correct_balances = df.loc[(df['SSN'] == customer_ssn) & ~(df['Monthly_Balance'].isna()), 'Monthly_Balance']\n",
    "    mean_balances = np.nanmean(correct_balances)\n",
    "\n",
    "    # Fill in incorrect balances\n",
    "    df.loc[mask_nan_balances, 'Monthly_Balance'] = mean_balances"
   ]
  },
  {
   "cell_type": "code",
   "execution_count": null,
   "metadata": {},
   "outputs": [],
   "source": [
    "# Check if the values were successfully replaced\n",
    "\n",
    "df.loc[df['Monthly_Balance'].isna()]"
   ]
  },
  {
   "cell_type": "code",
   "execution_count": null,
   "metadata": {},
   "outputs": [],
   "source": [
    "df.loc[df['SSN'] == '537-73-6299']"
   ]
  },
  {
   "cell_type": "code",
   "execution_count": null,
   "metadata": {},
   "outputs": [],
   "source": [
    "# Drop the rows which were unable to be filled\n",
    "\n",
    "df = df[df['SSN'] != '537-73-6299']"
   ]
  },
  {
   "cell_type": "code",
   "execution_count": null,
   "metadata": {},
   "outputs": [],
   "source": [
    "df.isna().sum()"
   ]
  },
  {
   "cell_type": "code",
   "execution_count": null,
   "metadata": {},
   "outputs": [],
   "source": [
    "# Update or remove the Amount_invested_monthly column entries\n",
    "\n",
    "df.loc[df['Amount_invested_monthly'].isnull()]"
   ]
  },
  {
   "cell_type": "code",
   "execution_count": null,
   "metadata": {},
   "outputs": [],
   "source": [
    "df.loc[df['Customer_ID'] == 'CUS_0x5407']"
   ]
  },
  {
   "cell_type": "code",
   "execution_count": null,
   "metadata": {},
   "outputs": [],
   "source": [
    "# Convert Amount_invested_monthly entries to numeric values\n",
    "\n",
    "df['Amount_invested_monthly'] = pd.to_numeric(df['Amount_invested_monthly'], errors='coerce')\n",
    "\n",
    "null_invested_monthly_customers = df.loc[df['Amount_invested_monthly'].isnull(), 'Customer_ID'].unique()\n",
    "\n",
    "for customer in null_invested_monthly_customers:\n",
    "    # Filter NaN values\n",
    "    mask_nan_amounts = (df['Customer_ID'] == customer) & (df['Amount_invested_monthly'].isna())\n",
    "    # Get correct values for the Amount_invested_monthly\n",
    "    correct_amounts = df.loc[(df['Customer_ID'] == customer) & ~(df['Amount_invested_monthly'].isna()), 'Amount_invested_monthly']\n",
    "    mean_amounts = np.nanmean(correct_amounts)\n",
    "\n",
    "    # Fill NaN values\n",
    "    df.loc[mask_nan_amounts, 'Amount_invested_monthly'] = mean_amounts"
   ]
  },
  {
   "cell_type": "code",
   "execution_count": null,
   "metadata": {},
   "outputs": [],
   "source": [
    "# Check update results\n",
    "\n",
    "df.loc[df['Amount_invested_monthly'].isnull()]"
   ]
  },
  {
   "cell_type": "code",
   "execution_count": null,
   "metadata": {},
   "outputs": [],
   "source": [
    "df.loc[df['Name'] == 'Jonathan Spicerr']"
   ]
  },
  {
   "cell_type": "code",
   "execution_count": null,
   "metadata": {},
   "outputs": [],
   "source": [
    "df.isna().sum()"
   ]
  },
  {
   "cell_type": "code",
   "execution_count": null,
   "metadata": {},
   "outputs": [],
   "source": [
    "# Remove the entry which was unable to be updated\n",
    "\n",
    "df = df[df['SSN'] != '336-19-9190']"
   ]
  },
  {
   "cell_type": "code",
   "execution_count": null,
   "metadata": {},
   "outputs": [],
   "source": [
    "# Update or remove the Credit_History_Age entries\n",
    "\n",
    "df.loc[df['Credit_History_Age'].isna()]"
   ]
  },
  {
   "cell_type": "code",
   "execution_count": null,
   "metadata": {},
   "outputs": [],
   "source": [
    "df.loc[df['Customer_ID'] == 'CUS_0xd40']"
   ]
  },
  {
   "cell_type": "code",
   "execution_count": null,
   "metadata": {},
   "outputs": [],
   "source": [
    "df['Credit_History_Age'].isna().sum()"
   ]
  },
  {
   "cell_type": "code",
   "execution_count": null,
   "metadata": {},
   "outputs": [],
   "source": [
    "nan_credit_age_customer_ids = df.loc[df['Credit_History_Age'].isna(), 'Customer_ID'].unique()\n",
    "\n",
    "for customer_id in nan_credit_age_customer_ids:\n",
    "    # Filter rows for the specified customer_id\n",
    "    customer_data = df.loc[df['Customer_ID'] == customer_id, 'Credit_History_Age']\n",
    "\n",
    "    # Forward fill NaN values\n",
    "    customer_data_filled = customer_data.ffill()\n",
    "\n",
    "    # Backward fill remaining NaN values\n",
    "    customer_data_filled = customer_data_filled.bfill()\n",
    "\n",
    "    # Update the original DataFrame with the filled and updated values\n",
    "    df.loc[df['Customer_ID'] == customer_id, 'Credit_History_Age'] = customer_data_filled"
   ]
  },
  {
   "cell_type": "code",
   "execution_count": null,
   "metadata": {},
   "outputs": [],
   "source": [
    "# Validate the changes made\n",
    "\n",
    "df.loc[df['Customer_ID'] == 'CUS_0xd40', 'Credit_History_Age']"
   ]
  },
  {
   "cell_type": "code",
   "execution_count": null,
   "metadata": {},
   "outputs": [],
   "source": [
    "df.loc[df['Credit_History_Age'].isna()]"
   ]
  },
  {
   "cell_type": "code",
   "execution_count": null,
   "metadata": {},
   "outputs": [],
   "source": [
    "# Remove the entries which were unable to be filled\n",
    "\n",
    "df = df[df['Customer_ID'] != 'CUS_0xbc14']"
   ]
  },
  {
   "cell_type": "code",
   "execution_count": null,
   "metadata": {},
   "outputs": [],
   "source": [
    "df.isna().sum()"
   ]
  },
  {
   "cell_type": "code",
   "execution_count": null,
   "metadata": {},
   "outputs": [],
   "source": [
    "# Update or remove the incorrect values in the Num_Credit_Inquiries column\n",
    "\n",
    "df.loc[df['Num_Credit_Inquiries'].isna()]"
   ]
  },
  {
   "cell_type": "code",
   "execution_count": null,
   "metadata": {},
   "outputs": [],
   "source": [
    "df.loc[df['Customer_ID'] == 'CUS_0xff4']"
   ]
  },
  {
   "cell_type": "code",
   "execution_count": null,
   "metadata": {},
   "outputs": [],
   "source": [
    "nan_credit_inquiries_customer_ids = df.loc[df['Num_Credit_Inquiries'].isna(), 'Customer_ID'].unique()\n",
    "\n",
    "for customer_id in nan_credit_inquiries_customer_ids:\n",
    "    mask_incorrect_inquiries = df.loc[(df['Customer_ID'] == customer_id) & (df['Num_Credit_Inquiries'].isna())]\n",
    "    correct_inquiry_number = df.loc[(df['Customer_ID'] == customer_id) & ~(df['Num_Credit_Inquiries'].isna()), 'Num_Credit_Inquiries']\n",
    "    mean_inquiries = np.nanmean(correct_inquiry_number)\n",
    "    df.loc[mask_incorrect_inquiries.index, 'Num_Credit_Inquiries'] = mean_inquiries"
   ]
  },
  {
   "cell_type": "code",
   "execution_count": null,
   "metadata": {},
   "outputs": [],
   "source": [
    "df.isna().sum()"
   ]
  },
  {
   "cell_type": "code",
   "execution_count": null,
   "metadata": {},
   "outputs": [],
   "source": [
    "# Update or remove entries from the Type_of_Loan column\n",
    "\n",
    "df.loc[df['Type_of_Loan'].isna()]"
   ]
  },
  {
   "cell_type": "code",
   "execution_count": null,
   "metadata": {},
   "outputs": [],
   "source": [
    "df.loc[df['SSN'] == '094-81-5856']"
   ]
  },
  {
   "cell_type": "code",
   "execution_count": null,
   "metadata": {},
   "outputs": [],
   "source": [
    "# Change NaN entries to entries without a specified loan type in the Type_of_Loan column\n",
    "\n",
    "df['Type_of_Loan'] = df['Type_of_Loan'].fillna('Not specified')"
   ]
  },
  {
   "cell_type": "code",
   "execution_count": null,
   "metadata": {},
   "outputs": [],
   "source": [
    "df.isna().sum()"
   ]
  },
  {
   "cell_type": "code",
   "execution_count": null,
   "metadata": {},
   "outputs": [],
   "source": [
    "# Update or remove entries from the Num_of_Delayed_Payment column\n",
    "\n",
    "df.describe(include='object').T"
   ]
  },
  {
   "cell_type": "code",
   "execution_count": null,
   "metadata": {},
   "outputs": [],
   "source": [
    "for entry in df['Num_of_Delayed_Payment'].unique():\n",
    "    try:\n",
    "        int(entry)\n",
    "    except:\n",
    "        print(entry, type(entry))"
   ]
  },
  {
   "cell_type": "code",
   "execution_count": null,
   "metadata": {},
   "outputs": [],
   "source": [
    "# Convert string values to integers\n",
    "\n",
    "df['Num_of_Delayed_Payment'] = pd.to_numeric(df['Num_of_Delayed_Payment'], errors='coerce')"
   ]
  },
  {
   "cell_type": "code",
   "execution_count": null,
   "metadata": {},
   "outputs": [],
   "source": [
    "# Convert negative values to positive, ignore NaNs and other errors\n",
    "\n",
    "df['Num_of_Delayed_Payment'] = np.abs(df['Num_of_Delayed_Payment'].where(pd.notna(df['Num_of_Delayed_Payment']))).astype(float)\n",
    "df['Num_of_Delayed_Payment'].min()"
   ]
  },
  {
   "cell_type": "code",
   "execution_count": null,
   "metadata": {},
   "outputs": [],
   "source": [
    "nan_delayed_payment_customer_ids = df.loc[df['Num_of_Delayed_Payment'].isna(), 'Customer_ID'].unique()\n",
    "\n",
    "for customer_id in nan_delayed_payment_customer_ids:\n",
    "    mask_incorrect_payment_delays = df.loc[(df['Customer_ID'] == customer_id) & (df['Num_of_Delayed_Payment'].isna())]\n",
    "    correct_payment_entries = df.loc[(df['Customer_ID'] == customer_id) & ~(df['Num_of_Delayed_Payment'].isna()), 'Num_of_Delayed_Payment']\n",
    "    \n",
    "    correct_payment_entries = pd.to_numeric(correct_payment_entries, errors='coerce')\n",
    "    \n",
    "    mean_payment_delays = np.nanmean(correct_payment_entries)\n",
    "    df.loc[mask_incorrect_payment_delays.index, 'Num_of_Delayed_Payment'] = mean_payment_delays"
   ]
  },
  {
   "cell_type": "code",
   "execution_count": null,
   "metadata": {},
   "outputs": [],
   "source": [
    "df.info()"
   ]
  },
  {
   "cell_type": "code",
   "execution_count": null,
   "metadata": {},
   "outputs": [],
   "source": [
    "df.isna().sum()"
   ]
  },
  {
   "cell_type": "code",
   "execution_count": null,
   "metadata": {},
   "outputs": [],
   "source": [
    "max_value = df['Num_of_Delayed_Payment'].max()\n",
    "\n",
    "rows_with_max_value = df.loc[df['Num_of_Delayed_Payment'] == max_value]\n",
    "rows_with_max_value"
   ]
  },
  {
   "cell_type": "code",
   "execution_count": null,
   "metadata": {},
   "outputs": [],
   "source": [
    "# Plot a histogram to visualize the values distribution\n",
    "\n",
    "plt.hist(df['Num_of_Delayed_Payment'], bins=50, edgecolor='black')\n",
    "plt.title('Histogram of Num_of_Delayed_Payment')\n",
    "plt.xlabel('Num_of_Delayed_Payment')\n",
    "plt.ylabel('Frequency')\n",
    "plt.show()"
   ]
  },
  {
   "cell_type": "code",
   "execution_count": null,
   "metadata": {},
   "outputs": [],
   "source": [
    "# Find out if large amounts of delayed payments are mistakes\n",
    "\n",
    "df.loc[(df['Num_of_Delayed_Payment'] > 99) & (df['Num_of_Delayed_Payment'] < 1000)]"
   ]
  },
  {
   "cell_type": "code",
   "execution_count": null,
   "metadata": {},
   "outputs": [],
   "source": [
    "# Confirm other delayed entries were entered correctly\n",
    "\n",
    "df.loc[df['Customer_ID'] == 'CUS_0x78e0']"
   ]
  },
  {
   "cell_type": "code",
   "execution_count": null,
   "metadata": {},
   "outputs": [],
   "source": [
    "df.loc[df['Num_of_Delayed_Payment'] > 99, 'Num_of_Delayed_Payment'] = np.nan"
   ]
  },
  {
   "cell_type": "code",
   "execution_count": null,
   "metadata": {},
   "outputs": [],
   "source": [
    "nan_delayed_payment_customer_ids = df.loc[df['Num_of_Delayed_Payment'].isna(), 'Customer_ID'].unique()\n",
    "print(len(nan_delayed_payment_customer_ids))\n",
    "\n",
    "for customer_id in nan_delayed_payment_customer_ids:\n",
    "    mask_incorrect_payment_delays = df.loc[(df['Customer_ID'] == customer_id) & (df['Num_of_Delayed_Payment'].isna())]\n",
    "    \n",
    "    # Calculate the mean of correct payment entries for the specific customer\n",
    "    mean_payment_delays = df.loc[(df['Customer_ID'] == customer_id) & ~(df['Num_of_Delayed_Payment'].isna()), 'Num_of_Delayed_Payment'].mean()\n",
    "    \n",
    "    # Replace incorrect values with the mean for the specific customer\n",
    "    df.loc[mask_incorrect_payment_delays.index, 'Num_of_Delayed_Payment'] = mean_payment_delays"
   ]
  },
  {
   "cell_type": "code",
   "execution_count": null,
   "metadata": {},
   "outputs": [],
   "source": [
    "# Round down the results\n",
    "\n",
    "df['Num_of_Delayed_Payment'] = np.floor(df['Num_of_Delayed_Payment'])"
   ]
  },
  {
   "cell_type": "code",
   "execution_count": null,
   "metadata": {},
   "outputs": [],
   "source": [
    "df.describe().T"
   ]
  },
  {
   "cell_type": "code",
   "execution_count": null,
   "metadata": {},
   "outputs": [],
   "source": [
    "df.isna().sum()"
   ]
  },
  {
   "cell_type": "code",
   "execution_count": null,
   "metadata": {},
   "outputs": [],
   "source": [
    "# Update or remove entries from the Name column\n",
    "\n",
    "df.loc[df['Name'].isna()]"
   ]
  },
  {
   "cell_type": "code",
   "execution_count": null,
   "metadata": {},
   "outputs": [],
   "source": [
    "df.loc[df['Customer_ID'] == 'CUS_0xd40']"
   ]
  },
  {
   "cell_type": "code",
   "execution_count": null,
   "metadata": {},
   "outputs": [],
   "source": [
    "# Fill out the missing customer based on other entries wherever possible\n",
    "\n",
    "df['Name'] = df['Name'].ffill()\n",
    "df['Name'] = df['Name'].bfill()"
   ]
  },
  {
   "cell_type": "code",
   "execution_count": null,
   "metadata": {},
   "outputs": [],
   "source": [
    "df.isna().sum()"
   ]
  },
  {
   "cell_type": "code",
   "execution_count": null,
   "metadata": {},
   "outputs": [],
   "source": [
    "# Validate the filled-in names\n",
    "\n",
    "name_entry_lengths = df['Name'].apply(len)\n",
    "\n",
    "# Plot name lengths\n",
    "\n",
    "plt.hist(name_entry_lengths, bins=20, edgecolor='black')\n",
    "plt.title('Name length distribution')\n",
    "plt.xlabel('Number of characters')\n",
    "plt.ylabel('Frequency')\n",
    "plt.show()"
   ]
  },
  {
   "cell_type": "code",
   "execution_count": null,
   "metadata": {},
   "outputs": [],
   "source": [
    "short_names = df.loc[df['Name'].apply(len) < 10, 'Name'].unique()\n",
    "\n",
    "for name in short_names:\n",
    "    print(name)"
   ]
  },
  {
   "cell_type": "code",
   "execution_count": null,
   "metadata": {},
   "outputs": [],
   "source": [
    "long_names = df.loc[df['Name'].apply(len) > 18, 'Name'].unique()\n",
    "\n",
    "for name in long_names:\n",
    "    print(name)"
   ]
  },
  {
   "cell_type": "code",
   "execution_count": null,
   "metadata": {},
   "outputs": [],
   "source": [
    "non_alphabetic_names = df.loc[df['Name'].str.contains(r'[^a-zA-Z\\s]', na=False), 'Name'].unique()\n",
    "\n",
    "for name in non_alphabetic_names:\n",
    "    print(name)"
   ]
  },
  {
   "cell_type": "code",
   "execution_count": null,
   "metadata": {},
   "outputs": [],
   "source": [
    "# Remove non-alphabetic characters from the Name column\n",
    "\n",
    "df['Name'] = df['Name'].apply(lambda x: re.sub(r'[^a-zA-Z\\s\\-\\.\\']', ' ', str(x))).str.strip()\n"
   ]
  },
  {
   "cell_type": "code",
   "execution_count": null,
   "metadata": {},
   "outputs": [],
   "source": [
    "# Search for the modified format of the entry\n",
    "\n",
    "search_term = 'Asiac'\n",
    "\n",
    "result = df[df['Name'].str.contains(search_term, case=False)]\n",
    "result"
   ]
  },
  {
   "cell_type": "code",
   "execution_count": null,
   "metadata": {},
   "outputs": [],
   "source": [
    "# Update or remove entries from the Monthly_Inhand_Salary column\n",
    "\n",
    "df.loc[df['Monthly_Inhand_Salary'].isna()]"
   ]
  },
  {
   "cell_type": "code",
   "execution_count": null,
   "metadata": {},
   "outputs": [],
   "source": [
    "df.loc[df['Customer_ID'] == 'CUS_0x7545']"
   ]
  },
  {
   "cell_type": "code",
   "execution_count": null,
   "metadata": {},
   "outputs": [],
   "source": [
    "# Remove the entries which were unable to be filled\n",
    "\n",
    "df = df[df['Monthly_Inhand_Salary'].notna()]"
   ]
  },
  {
   "cell_type": "code",
   "execution_count": null,
   "metadata": {},
   "outputs": [],
   "source": [
    "df.isna().sum()"
   ]
  },
  {
   "cell_type": "code",
   "execution_count": null,
   "metadata": {},
   "outputs": [],
   "source": [
    "# Change object columns containing numbers into number-type columns\n",
    "\n",
    "df.describe(include='object').T"
   ]
  },
  {
   "cell_type": "code",
   "execution_count": null,
   "metadata": {},
   "outputs": [],
   "source": [
    "# Convert the columns to numeric type columns\n",
    "\n",
    "number_columns = ['Age', 'Annual_Income', 'Num_of_Loan', 'Changed_Credit_Limit', 'Outstanding_Debt']\n",
    "\n",
    "for column in number_columns:\n",
    "    df[column] = pd.to_numeric(df[column], errors='coerce')\n",
    "\n",
    "df.info()"
   ]
  },
  {
   "cell_type": "code",
   "execution_count": null,
   "metadata": {},
   "outputs": [],
   "source": [
    "# Plot histograms for numeric columns in the dataset\n",
    "\n",
    "numeric_columns = df.select_dtypes(include=['int', 'float64']).columns\n",
    "numeric_columns"
   ]
  },
  {
   "cell_type": "code",
   "execution_count": null,
   "metadata": {},
   "outputs": [],
   "source": [
    "df[numeric_columns].hist(bins=20, figsize=(15, 20))\n",
    "plt.tight_layout()\n",
    "plt.show()"
   ]
  },
  {
   "cell_type": "code",
   "execution_count": null,
   "metadata": {},
   "outputs": [],
   "source": [
    "for column in numeric_columns:\n",
    "    print(f'{column} max: {df[column].max()}')\n",
    "    print(f'{column} min: {df[column].min()}\\n')"
   ]
  },
  {
   "cell_type": "code",
   "execution_count": null,
   "metadata": {},
   "outputs": [],
   "source": [
    "df.loc[df['Num_Bank_Accounts'] < 0]"
   ]
  },
  {
   "cell_type": "code",
   "execution_count": null,
   "metadata": {},
   "outputs": [],
   "source": [
    "df['Num_Bank_Accounts'] = df['Num_Bank_Accounts'].apply(lambda x: x * -1 if x < 0 else x)"
   ]
  },
  {
   "cell_type": "code",
   "execution_count": null,
   "metadata": {},
   "outputs": [],
   "source": [
    "df.loc[df['Customer_ID'] == 'CUS_0xa878']"
   ]
  },
  {
   "cell_type": "code",
   "execution_count": null,
   "metadata": {},
   "outputs": [],
   "source": [
    "# Correct the negative value entries in the Num_of_Loan column\n",
    "\n",
    "df.loc[df['Num_of_Loan'] < 0, 'Num_of_Loan'].min()"
   ]
  },
  {
   "cell_type": "code",
   "execution_count": null,
   "metadata": {},
   "outputs": [],
   "source": [
    "df.loc[df['Num_of_Loan'] < 0, 'Num_of_Loan'].max()"
   ]
  },
  {
   "cell_type": "code",
   "execution_count": null,
   "metadata": {},
   "outputs": [],
   "source": [
    "df.loc[df['Customer_ID'] == 'CUS_0x284a']"
   ]
  },
  {
   "cell_type": "code",
   "execution_count": null,
   "metadata": {},
   "outputs": [],
   "source": [
    "# Remove incorrect entries\n",
    "\n",
    "df.loc[df['Num_of_Loan'] < 0, 'Num_of_Loan'] = np.nan\n",
    "\n",
    "# Fill in the NaN values\n",
    "\n",
    "df['Num_of_Loan'].bfill(inplace=True)\n",
    "df['Num_of_Loan'].ffill(inplace=True)"
   ]
  },
  {
   "cell_type": "code",
   "execution_count": null,
   "metadata": {},
   "outputs": [],
   "source": [
    "# Correct the Delay_from_due_date column negative values\n",
    "\n",
    "df.loc[df['Delay_from_due_date'] < 0]"
   ]
  },
  {
   "cell_type": "code",
   "execution_count": null,
   "metadata": {},
   "outputs": [],
   "source": [
    "df.loc[df['Customer_ID'] == 'CUS_0x3d9c']"
   ]
  },
  {
   "cell_type": "code",
   "execution_count": null,
   "metadata": {},
   "outputs": [],
   "source": [
    "df['Delay_from_due_date'] = df['Delay_from_due_date'].apply(lambda x: x * -1 if x < 0 else x)"
   ]
  },
  {
   "cell_type": "code",
   "execution_count": null,
   "metadata": {},
   "outputs": [],
   "source": [
    "df['Delay_from_due_date'].min()"
   ]
  },
  {
   "cell_type": "code",
   "execution_count": null,
   "metadata": {},
   "outputs": [],
   "source": [
    "df.isna().sum()"
   ]
  },
  {
   "cell_type": "code",
   "execution_count": null,
   "metadata": {},
   "outputs": [],
   "source": [
    "df.describe(exclude='object').T"
   ]
  },
  {
   "cell_type": "code",
   "execution_count": null,
   "metadata": {},
   "outputs": [],
   "source": [
    "df.info()"
   ]
  }
 ],
 "metadata": {
  "kernelspec": {
   "display_name": "uni_eda",
   "language": "python",
   "name": "python3"
  },
  "language_info": {
   "codemirror_mode": {
    "name": "ipython",
    "version": 3
   },
   "file_extension": ".py",
   "mimetype": "text/x-python",
   "name": "python",
   "nbconvert_exporter": "python",
   "pygments_lexer": "ipython3",
   "version": "3.11.7"
  }
 },
 "nbformat": 4,
 "nbformat_minor": 2
}
