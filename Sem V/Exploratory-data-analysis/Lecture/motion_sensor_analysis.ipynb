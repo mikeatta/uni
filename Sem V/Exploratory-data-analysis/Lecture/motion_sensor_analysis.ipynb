{
 "cells": [
  {
   "cell_type": "markdown",
   "metadata": {},
   "source": [
    "## EDA Exam - Term 3"
   ]
  },
  {
   "cell_type": "markdown",
   "metadata": {},
   "source": [
    "### Motion sensor analysis"
   ]
  },
  {
   "cell_type": "markdown",
   "metadata": {},
   "source": [
    "#### Imports"
   ]
  },
  {
   "cell_type": "code",
   "execution_count": null,
   "metadata": {},
   "outputs": [],
   "source": [
    "import pandas as pd\n",
    "import matplotlib.pyplot as plt\n",
    "from datetime import timedelta\n",
    "from matplotlib.dates import DateFormatter"
   ]
  },
  {
   "cell_type": "code",
   "execution_count": null,
   "metadata": {},
   "outputs": [],
   "source": [
    "# Set display options to show all rows and columns\n",
    "\n",
    "pd.set_option('display.max_rows', None)\n",
    "pd.set_option('display.max_columns', None)"
   ]
  },
  {
   "cell_type": "markdown",
   "metadata": {},
   "source": [
    "#### Loading the data"
   ]
  },
  {
   "cell_type": "code",
   "execution_count": null,
   "metadata": {},
   "outputs": [],
   "source": [
    "df = pd.read_csv(filepath_or_buffer='./Data/Swiatlo_Schody.csv')\n",
    "df.head()"
   ]
  },
  {
   "cell_type": "code",
   "execution_count": null,
   "metadata": {},
   "outputs": [],
   "source": [
    "# Convert the UNIX time format\n",
    "\n",
    "df['time'] = pd.to_datetime(df['time'])\n",
    "df.head()"
   ]
  },
  {
   "cell_type": "markdown",
   "metadata": {},
   "source": [
    "#### EDA"
   ]
  },
  {
   "cell_type": "code",
   "execution_count": null,
   "metadata": {},
   "outputs": [],
   "source": [
    "# Get the first and last sample date\n",
    "\n",
    "first_entry = df['time'].min()\n",
    "last_entry = df['time'].max()\n",
    "\n",
    "display(first_entry)\n",
    "display(last_entry)"
   ]
  },
  {
   "cell_type": "code",
   "execution_count": null,
   "metadata": {},
   "outputs": [],
   "source": [
    "# Check the daily time range of the samples\n",
    "\n",
    "df['hour'] = df['time'].dt.hour\n",
    "\n",
    "df['hour'].describe()"
   ]
  },
  {
   "cell_type": "code",
   "execution_count": null,
   "metadata": {},
   "outputs": [],
   "source": [
    "# Check if each day contains 24hrs worth of data\n",
    "\n",
    "print(df.head(1000))"
   ]
  },
  {
   "cell_type": "code",
   "execution_count": null,
   "metadata": {},
   "outputs": [],
   "source": [
    "# Check for any long consecutive active light cycles\n",
    "\n",
    "# Find consecutive instances where the light is on\n",
    "\n",
    "df['group'] = (df['value'].shift() != df['value']).cumsum()\n",
    "\n",
    "# Filter out groups where the value is 1 and duration is longer that the threshold\n",
    "\n",
    "filtered_groups = df[df['value'] == 1].groupby('group').filter(lambda x: (x['time'].max() - x['time'].min()) >= timedelta(minutes=5))\n",
    "\n",
    "# Print the cycles\n",
    "\n",
    "for _, group in filtered_groups.groupby('group'):\n",
    "    start_time = group['time'].min()\n",
    "    end_time = group['time'].max()\n",
    "    duration = end_time - start_time\n",
    "    print(\"Cycle:\", start_time, \"to\", end_time, \"- Duration:\", duration)"
   ]
  },
  {
   "cell_type": "markdown",
   "metadata": {},
   "source": [
    "#### Plots and data visualization"
   ]
  },
  {
   "cell_type": "markdown",
   "metadata": {},
   "source": [
    "##### EDA techniques and statistical analysis"
   ]
  },
  {
   "cell_type": "markdown",
   "metadata": {},
   "source": [
    "##### Average amount of detections per hour"
   ]
  },
  {
   "cell_type": "code",
   "execution_count": null,
   "metadata": {},
   "outputs": [],
   "source": [
    "# Filter data for value 1 occurrences\n",
    "\n",
    "df_active = df[df['value'] == 1]\n",
    "\n",
    "# Group data by hour and calculate the mean count of detections for each hour\n",
    "\n",
    "hourly_avg_counts = df_active.groupby('hour').size().div(df['time'].dt.date.nunique())\n",
    "hourly_avg_counts"
   ]
  },
  {
   "cell_type": "markdown",
   "metadata": {},
   "source": [
    "##### Activation plots based on daily data"
   ]
  },
  {
   "cell_type": "code",
   "execution_count": null,
   "metadata": {},
   "outputs": [],
   "source": [
    "dates_to_plot = ['2020-10-01',\n",
    "                 '2021-01-01',\n",
    "                 '2021-03-01',\n",
    "                 '2021-06-01',\n",
    "                 '2021-10-01',\n",
    "                 '2022-01-01',\n",
    "                 '2022-03-01',\n",
    "                 '2022-06-01',\n",
    "                 '2022-10-01',\n",
    "                 '2023-01-01']\n",
    "\n",
    "# Create e plot for each date\n",
    "\n",
    "for specific_date in dates_to_plot:\n",
    "    # Filter for specific date\n",
    "    filtered_df = df[df['time'].dt.date == pd.to_datetime(specific_date).date()]\n",
    "\n",
    "    # Plotting\n",
    "    plt.figure(figsize=(12, 6))\n",
    "    plt.plot(filtered_df['time'], filtered_df['value'], marker='o', linestyle='', color='blue', label='Light State')\n",
    "    plt.yticks([0, 1], ['Off', 'On'])\n",
    "    plt.title('Light Status on ' + specific_date)\n",
    "    plt.xlabel('Time (Hours)')\n",
    "    plt.ylabel('Light Status')\n",
    "    plt.legend()\n",
    "    plt.grid(True)\n",
    "    \n",
    "    # Set x-axis to cover a 24-hour period\n",
    "    plt.xlim(pd.to_datetime(specific_date), pd.to_datetime(specific_date) + pd.Timedelta(days=1))\n",
    "    \n",
    "    # Format x-axis labels to display only hours\n",
    "    date_format = DateFormatter(\"%H\")\n",
    "    plt.gca().xaxis.set_major_formatter(date_format)\n",
    "    \n",
    "    plt.show()"
   ]
  },
  {
   "cell_type": "markdown",
   "metadata": {},
   "source": [
    "##### Time Series Plot"
   ]
  },
  {
   "cell_type": "code",
   "execution_count": null,
   "metadata": {},
   "outputs": [],
   "source": [
    "# Group data by the hour and count the occurrences\n",
    "\n",
    "hour_counts = df.groupby('hour').size()\n",
    "\n",
    "# Time Series Plot\n",
    "\n",
    "plt.figure(figsize=(12, 6))\n",
    "plt.plot(hour_counts.index, hour_counts.values, marker='o', linestyle='-')\n",
    "plt.title('Time Series of Sensor Activations by Hour')\n",
    "plt.xlabel('Hour of the Day')\n",
    "plt.ylabel('Number of Activations')\n",
    "plt.grid(True)\n",
    "plt.show()"
   ]
  },
  {
   "cell_type": "markdown",
   "metadata": {},
   "source": [
    "##### Seasonal Time Series Plot"
   ]
  },
  {
   "cell_type": "code",
   "execution_count": null,
   "metadata": {},
   "outputs": [],
   "source": [
    "def get_season(timestamp):\n",
    "    month = timestamp.month\n",
    "    if 3 <= month <= 5:\n",
    "        return 'Spring'\n",
    "    elif 6 <= month <= 8:\n",
    "        return 'Summer'\n",
    "    elif 9 <= month <= 11:\n",
    "        return 'Autumn'\n",
    "    else:\n",
    "        return 'Winter'\n",
    "\n",
    "# Create a new column for the season\n",
    "    \n",
    "df['season'] = df['time'].apply(get_season)\n",
    "\n",
    "# Group data by year, season, and hour, and count the occurrences\n",
    "\n",
    "seasonal_hour_counts = df.groupby([df['time'].dt.year, 'season', df['time'].dt.hour]).size()\n",
    "\n",
    "# Create a plot for each season\n",
    "\n",
    "for (year, season), hour_counts in seasonal_hour_counts.groupby(level=[0, 1]):\n",
    "    plt.figure(figsize=(12, 6))\n",
    "    hour_counts.reset_index(level=[0, 1], drop=True, inplace=True)\n",
    "    plt.plot(hour_counts.index, hour_counts.values, marker='o', linestyle='-', label=season)\n",
    "    plt.title(f'Time Series of Sensor Activations by Hour for {season} {year}')\n",
    "    plt.xlabel('Hour of the Day')\n",
    "    plt.ylabel('Number of Activations')\n",
    "    plt.legend()\n",
    "    plt.grid(True)\n",
    "    plt.show()"
   ]
  },
  {
   "cell_type": "markdown",
   "metadata": {},
   "source": [
    "#### Model cluster detection"
   ]
  },
  {
   "cell_type": "markdown",
   "metadata": {},
   "source": [
    "Implement ML models to find grouped data clusters for the motion sensor light activations."
   ]
  },
  {
   "cell_type": "markdown",
   "metadata": {},
   "source": [
    "##### K-Means cluster"
   ]
  },
  {
   "cell_type": "code",
   "execution_count": null,
   "metadata": {},
   "outputs": [],
   "source": [
    "from sklearn.cluster import KMeans\n",
    "import matplotlib.pyplot as plt\n",
    "\n",
    "# Group data by hour and count the occurrences\n",
    "\n",
    "hour_counts = df.groupby('hour').size().reset_index(name='count')\n",
    "\n",
    "# Visualize the data\n",
    "\n",
    "plt.figure(figsize=(10, 6))\n",
    "plt.plot(hour_counts['hour'], hour_counts['count'], marker='o', linestyle='-')\n",
    "plt.title('Hourly Sensor Activation')\n",
    "plt.xlabel('Hour of the Day')\n",
    "plt.ylabel('Number of Activations')\n",
    "plt.grid(True)\n",
    "plt.show()\n",
    "\n",
    "# Perform K-means clustering\n",
    "\n",
    "X = hour_counts[['hour', 'count']]\n",
    "kmeans = KMeans(n_clusters=5)\n",
    "kmeans.fit(X)\n",
    "\n",
    "# Get cluster centers\n",
    "\n",
    "cluster_centers = kmeans.cluster_centers_\n",
    "\n",
    "# Plot clusters\n",
    "\n",
    "plt.figure(figsize=(10, 6))\n",
    "plt.plot(hour_counts['hour'], hour_counts['count'], marker='o', linestyle='', label='Data')\n",
    "plt.scatter(cluster_centers[:, 0], cluster_centers[:, 1], c='red', marker='x', label='Cluster Centers')\n",
    "plt.title('Hourly Sensor Activation with Clusters')\n",
    "plt.xlabel('Hour of the Day')\n",
    "plt.ylabel('Number of Activations')\n",
    "plt.legend()\n",
    "plt.grid(True)\n",
    "plt.show()"
   ]
  },
  {
   "cell_type": "markdown",
   "metadata": {},
   "source": [
    "##### OPTICS cluster"
   ]
  },
  {
   "cell_type": "code",
   "execution_count": null,
   "metadata": {},
   "outputs": [],
   "source": [
    "from sklearn.cluster import OPTICS\n",
    "from sklearn.preprocessing import StandardScaler\n",
    "\n",
    "# Group data by hour and count the occurrences\n",
    "\n",
    "hour_counts = df.groupby('hour').size().reset_index(name='count')\n",
    "\n",
    "# Normalize the data\n",
    "\n",
    "scaler = StandardScaler()\n",
    "X = scaler.fit_transform(hour_counts[['hour', 'count']])\n",
    "\n",
    "# Apply the OPTICS clustering\n",
    "\n",
    "optics = OPTICS(min_samples=2)\n",
    "optics.fit(X)\n",
    "\n",
    "# Get cluster labels\n",
    "\n",
    "labels = optics.labels_\n",
    "\n",
    "# Plot clusters\n",
    "\n",
    "plt.figure(figsize=(10, 6))\n",
    "plt.scatter(hour_counts['hour'], hour_counts['count'], c=labels, cmap='viridis', marker='o')\n",
    "plt.title('Hourly Sensor Activation with OPTICS Clustering')\n",
    "plt.xlabel('Hour of the Day')\n",
    "plt.ylabel('Number of Activations')\n",
    "plt.grid(True)\n",
    "plt.colorbar(label='Cluster Label')\n",
    "plt.show()"
   ]
  }
 ],
 "metadata": {
  "kernelspec": {
   "display_name": "uni_eda",
   "language": "python",
   "name": "python3"
  },
  "language_info": {
   "codemirror_mode": {
    "name": "ipython",
    "version": 3
   },
   "file_extension": ".py",
   "mimetype": "text/x-python",
   "name": "python",
   "nbconvert_exporter": "python",
   "pygments_lexer": "ipython3",
   "version": "3.11.7"
  }
 },
 "nbformat": 4,
 "nbformat_minor": 2
}
